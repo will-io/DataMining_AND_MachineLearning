{
 "cells": [
  {
   "cell_type": "code",
   "execution_count": 1,
   "metadata": {},
   "outputs": [],
   "source": [
    "import numpy as np\n",
    "import pandas as pd\n",
    "import seaborn as sns  \n",
    "import matplotlib.pyplot as plt\n",
    "import re\n",
    "import scipy\n",
    "from sklearn.datasets import make_blobs\n",
    "import random\n",
    "from matplotlib.pyplot import figure\n",
    "from sklearn.decomposition import PCA"
   ]
  },
  {
   "cell_type": "code",
   "execution_count": 2,
   "metadata": {},
   "outputs": [],
   "source": [
    "np.random.seed(99)"
   ]
  },
  {
   "cell_type": "code",
   "execution_count": 3,
   "metadata": {},
   "outputs": [],
   "source": [
    "class KMeans():\n",
    "\n",
    "    def __init__(self, data, k, precision=5):\n",
    "        self.data = data\n",
    "        self.k = k\n",
    "        self.precision = precision\n",
    "         # the centers (i.e. mean feature vector) for each cluster\n",
    "        self.centroids = []\n",
    "        # list of sample indices for each cluster and its respective size\n",
    "        self.clusters = []\n",
    "        self.cluster_sizes = []\n",
    "\n",
    "    @staticmethod\n",
    "    def dist(p1, p2):\n",
    "        \"\"\"Method returns the euclidean distance between two points\"\"\"\n",
    "        return np.linalg.norm(np.array(p1) - np.array(p2))\n",
    "\n",
    "    @staticmethod\n",
    "    def cal_centroids(_, precision):\n",
    "        \"\"\"Method returns centroids for input list of clusters\"\"\"\n",
    "        centroids = []\n",
    "        for item in _:\n",
    "            ele = len(item[0])\n",
    "            c_item = []\n",
    "            for i in range(ele):\n",
    "                c_item.append(round(np.mean([li[i] for li in item]), precision))\n",
    "            centroids.append(c_item)\n",
    "        return centroids\n",
    "\n",
    "    @staticmethod\n",
    "    def compare_lists(list_1, list_2):\n",
    "        \"\"\"Method returns True when the two lists are same else returns False\"\"\"\n",
    "        flag = True\n",
    "        for item in list_1:\n",
    "            if item not in list_2:\n",
    "                flag = False\n",
    "            break\n",
    "        if flag:\n",
    "            return True\n",
    "        else:\n",
    "            return False\n",
    "\n",
    "    def fit(self):\n",
    "        \"\"\"Method that does the clustering\"\"\"\n",
    "        # Randomly selects indices of initial centroids\n",
    "        indices = random.sample(range(len(self.data)), self.k)\n",
    "        # Initialization of initial centroids\n",
    "        for index in indices:\n",
    "            self.centroids.append(self.data[index])\n",
    "        # Loop that does the iterative calculations\n",
    "        while True:\n",
    "            # Initialization of clusters\n",
    "            self.clusters = []\n",
    "            for i in range(self.k):\n",
    "                self.clusters.append([])\n",
    "            # Calculation of Euclidean distances between each point in the data set and the centroids\n",
    "            for point in self.data:\n",
    "                distances = []\n",
    "                for centroid in self.centroids:\n",
    "                    distances.append(self.dist(point, centroid))\n",
    "                # Clustering of each point happens in this step\n",
    "                self.clusters[distances.index(min(distances))].append(point)\n",
    "            # Calculation of new centroids\n",
    "            new_centroids = self.cal_centroids(self.clusters, self.precision)\n",
    "            # Loop breaks when centroids do not change any more\n",
    "            if self.compare_lists(self.centroids, new_centroids):\n",
    "                break\n",
    "            # Updating new centroids for next iteration\n",
    "            self.centroids = new_centroids\n",
    "        # Cluster sizes\n",
    "        for cluster in self.clusters:\n",
    "            self.cluster_sizes.append(len(cluster))"
   ]
  },
  {
   "cell_type": "code",
   "execution_count": 4,
   "metadata": {},
   "outputs": [],
   "source": [
    "df = pd.read_csv('../Data/iris_test_data.txt', names=[\"s_length\", \"s_width\", \"p_length\", \"p_width\"], delim_whitespace=True)"
   ]
  },
  {
   "cell_type": "code",
   "execution_count": 5,
   "metadata": {},
   "outputs": [],
   "source": [
    "# will use as my K value\n",
    "clusters = 3"
   ]
  },
  {
   "cell_type": "code",
   "execution_count": 6,
   "metadata": {},
   "outputs": [
    {
     "data": {
      "text/html": [
       "<div>\n",
       "<style scoped>\n",
       "    .dataframe tbody tr th:only-of-type {\n",
       "        vertical-align: middle;\n",
       "    }\n",
       "\n",
       "    .dataframe tbody tr th {\n",
       "        vertical-align: top;\n",
       "    }\n",
       "\n",
       "    .dataframe thead th {\n",
       "        text-align: right;\n",
       "    }\n",
       "</style>\n",
       "<table border=\"1\" class=\"dataframe\">\n",
       "  <thead>\n",
       "    <tr style=\"text-align: right;\">\n",
       "      <th></th>\n",
       "      <th>s_length</th>\n",
       "      <th>s_width</th>\n",
       "      <th>p_length</th>\n",
       "      <th>p_width</th>\n",
       "    </tr>\n",
       "  </thead>\n",
       "  <tbody>\n",
       "    <tr>\n",
       "      <th>0</th>\n",
       "      <td>5.7</td>\n",
       "      <td>4.4</td>\n",
       "      <td>1.5</td>\n",
       "      <td>0.4</td>\n",
       "    </tr>\n",
       "    <tr>\n",
       "      <th>1</th>\n",
       "      <td>5.5</td>\n",
       "      <td>4.2</td>\n",
       "      <td>1.4</td>\n",
       "      <td>0.2</td>\n",
       "    </tr>\n",
       "    <tr>\n",
       "      <th>2</th>\n",
       "      <td>5.2</td>\n",
       "      <td>4.1</td>\n",
       "      <td>1.5</td>\n",
       "      <td>0.1</td>\n",
       "    </tr>\n",
       "    <tr>\n",
       "      <th>3</th>\n",
       "      <td>5.8</td>\n",
       "      <td>4.0</td>\n",
       "      <td>1.2</td>\n",
       "      <td>0.2</td>\n",
       "    </tr>\n",
       "    <tr>\n",
       "      <th>4</th>\n",
       "      <td>5.4</td>\n",
       "      <td>3.9</td>\n",
       "      <td>1.7</td>\n",
       "      <td>0.4</td>\n",
       "    </tr>\n",
       "  </tbody>\n",
       "</table>\n",
       "</div>"
      ],
      "text/plain": [
       "   s_length  s_width  p_length  p_width\n",
       "0       5.7      4.4       1.5      0.4\n",
       "1       5.5      4.2       1.4      0.2\n",
       "2       5.2      4.1       1.5      0.1\n",
       "3       5.8      4.0       1.2      0.2\n",
       "4       5.4      3.9       1.7      0.4"
      ]
     },
     "execution_count": 6,
     "metadata": {},
     "output_type": "execute_result"
    }
   ],
   "source": [
    "df.head()"
   ]
  },
  {
   "cell_type": "code",
   "execution_count": 7,
   "metadata": {},
   "outputs": [
    {
     "name": "stdout",
     "output_type": "stream",
     "text": [
      "[[5.7, 4.4, 1.5, 0.4], [5.5, 4.2, 1.4, 0.2], [5.2, 4.1, 1.5, 0.1], [5.8, 4.0, 1.2, 0.2], [5.4, 3.9, 1.7, 0.4], [5.4, 3.9, 1.3, 0.4], [7.7, 3.8, 6.7, 2.2], [7.9, 3.8, 6.4, 2.0], [5.1, 3.8, 1.9, 0.4], [5.7, 3.8, 1.7, 0.3], [5.1, 3.8, 1.6, 0.2], [5.1, 3.8, 1.5, 0.3], [5.1, 3.7, 1.5, 0.4], [5.4, 3.7, 1.5, 0.2], [5.3, 3.7, 1.5, 0.2], [7.2, 3.6, 6.1, 2.5], [5.0, 3.6, 1.4, 0.2], [4.6, 3.6, 1.0, 0.2], [5.0, 3.5, 1.6, 0.6], [5.2, 3.5, 1.5, 0.2], [5.1, 3.5, 1.4, 0.3], [5.1, 3.5, 1.4, 0.2], [5.0, 3.5, 1.3, 0.3], [5.5, 3.5, 1.3, 0.2], [6.3, 3.4, 5.6, 2.4], [6.2, 3.4, 5.4, 2.3], [6.0, 3.4, 4.5, 1.6], [4.8, 3.4, 1.9, 0.2], [5.4, 3.4, 1.7, 0.2], [5.0, 3.4, 1.6, 0.4], [4.8, 3.4, 1.6, 0.2], [5.4, 3.4, 1.5, 0.4], [5.1, 3.4, 1.5, 0.2], [5.0, 3.4, 1.5, 0.2], [4.6, 3.4, 1.4, 0.3], [5.2, 3.4, 1.4, 0.2], [6.3, 3.3, 6.0, 2.5], [6.7, 3.3, 5.7, 2.5], [6.7, 3.3, 5.7, 2.1], [6.3, 3.3, 4.7, 1.6], [5.1, 3.3, 1.7, 0.5], [5.0, 3.3, 1.4, 0.2], [7.2, 3.2, 6.0, 1.8], [6.8, 3.2, 5.9, 2.3], [6.9, 3.2, 5.7, 2.3], [6.4, 3.2, 5.3, 2.3], [6.5, 3.2, 5.1, 2.0], [5.9, 3.2, 4.8, 1.8], [7.0, 3.2, 4.7, 1.4], [6.4, 3.2, 4.5, 1.5], [4.7, 3.2, 1.6, 0.2], [4.6, 3.2, 1.4, 0.2], [4.7, 3.2, 1.3, 0.2], [4.4, 3.2, 1.3, 0.2], [5.0, 3.2, 1.2, 0.2], [6.7, 3.1, 5.6, 2.4], [6.4, 3.1, 5.5, 1.8], [6.9, 3.1, 5.4, 2.1], [6.9, 3.1, 5.1, 2.3], [6.9, 3.1, 4.9, 1.5], [6.7, 3.1, 4.7, 1.5], [6.7, 3.1, 4.4, 1.4], [4.8, 3.1, 1.6, 0.2], [4.6, 3.1, 1.5, 0.2], [4.9, 3.1, 1.5, 0.1], [4.9, 3.1, 1.5, 0.1], [4.9, 3.1, 1.5, 0.1], [7.6, 3.0, 6.6, 2.1], [7.7, 3.0, 6.1, 2.3], [7.1, 3.0, 5.9, 2.1], [6.5, 3.0, 5.8, 2.2], [7.2, 3.0, 5.8, 1.6], [6.8, 3.0, 5.5, 2.1], [6.5, 3.0, 5.5, 1.8], [6.7, 3.0, 5.2, 2.3], [6.5, 3.0, 5.2, 2.0], [5.9, 3.0, 5.1, 1.8], [6.7, 3.0, 5.0, 1.7], [6.1, 3.0, 4.9, 1.8], [6.0, 3.0, 4.8, 1.8], [6.1, 3.0, 4.6, 1.4], [5.6, 3.0, 4.5, 1.5], [5.4, 3.0, 4.5, 1.5], [6.6, 3.0, 4.4, 1.4], [5.9, 3.0, 4.2, 1.5], [5.7, 3.0, 4.2, 1.2], [5.6, 3.0, 4.1, 1.3], [5.0, 3.0, 1.6, 0.2], [4.8, 3.0, 1.4, 0.3], [4.9, 3.0, 1.4, 0.2], [4.8, 3.0, 1.4, 0.1], [4.4, 3.0, 1.3, 0.2], [4.3, 3.0, 1.1, 0.1], [7.3, 2.9, 6.3, 1.8], [6.3, 2.9, 5.6, 1.8], [6.1, 2.9, 4.7, 1.4], [6.6, 2.9, 4.6, 1.3], [6.0, 2.9, 4.5, 1.5], [6.4, 2.9, 4.3, 1.3], [6.2, 2.9, 4.3, 1.3], [5.7, 2.9, 4.2, 1.3], [5.6, 2.9, 3.6, 1.3], [4.4, 2.9, 1.4, 0.2], [7.7, 2.8, 6.7, 2.0], [7.4, 2.8, 6.1, 1.9], [6.4, 2.8, 5.6, 2.2], [6.4, 2.8, 5.6, 2.1], [5.8, 2.8, 5.1, 2.4], [6.3, 2.8, 5.1, 1.5], [5.6, 2.8, 4.9, 2.0], [6.2, 2.8, 4.8, 1.8], [6.8, 2.8, 4.8, 1.4], [6.1, 2.8, 4.7, 1.2], [6.5, 2.8, 4.6, 1.5], [5.7, 2.8, 4.5, 1.3], [5.7, 2.8, 4.1, 1.3], [6.1, 2.8, 4.0, 1.3], [6.4, 2.7, 5.3, 1.9], [5.8, 2.7, 5.1, 1.9], [5.8, 2.7, 5.1, 1.9], [6.0, 2.7, 5.1, 1.6], [6.3, 2.7, 4.9, 1.8], [5.6, 2.7, 4.2, 1.3], [5.8, 2.7, 4.1, 1.0], [5.2, 2.7, 3.9, 1.4], [5.8, 2.7, 3.9, 1.2], [7.7, 2.6, 6.9, 2.3], [6.1, 2.6, 5.6, 1.4], [5.5, 2.6, 4.4, 1.2], [5.8, 2.6, 4.0, 1.2], [5.7, 2.6, 3.5, 1.0], [6.7, 2.5, 5.8, 1.8], [5.7, 2.5, 5.0, 2.0], [6.3, 2.5, 5.0, 1.9], [6.3, 2.5, 4.9, 1.5], [4.9, 2.5, 4.5, 1.7], [5.5, 2.5, 4.0, 1.3], [5.6, 2.5, 3.9, 1.1], [5.1, 2.5, 3.0, 1.1], [5.5, 2.4, 3.8, 1.1], [5.5, 2.4, 3.7, 1.0], [4.9, 2.4, 3.3, 1.0], [6.3, 2.3, 4.4, 1.3], [5.5, 2.3, 4.0, 1.3], [5.0, 2.3, 3.3, 1.0], [4.5, 2.3, 1.3, 0.3], [6.0, 2.2, 5.0, 1.5], [6.2, 2.2, 4.5, 1.5], [6.0, 2.2, 4.0, 1.0], [5.0, 2.0, 3.5, 1.0]]\n"
     ]
    }
   ],
   "source": [
    "data = df.values.tolist()\n",
    "print(data)"
   ]
  },
  {
   "cell_type": "code",
   "execution_count": 8,
   "metadata": {},
   "outputs": [
    {
     "name": "stdout",
     "output_type": "stream",
     "text": [
      "[[[5.7, 4.4, 1.5, 0.4], [5.5, 4.2, 1.4, 0.2], [5.2, 4.1, 1.5, 0.1], [5.8, 4.0, 1.2, 0.2], [5.4, 3.9, 1.7, 0.4], [5.4, 3.9, 1.3, 0.4], [5.1, 3.8, 1.9, 0.4], [5.7, 3.8, 1.7, 0.3], [5.1, 3.8, 1.6, 0.2], [5.1, 3.8, 1.5, 0.3], [5.1, 3.7, 1.5, 0.4], [5.4, 3.7, 1.5, 0.2], [5.3, 3.7, 1.5, 0.2], [5.0, 3.6, 1.4, 0.2], [4.6, 3.6, 1.0, 0.2], [5.0, 3.5, 1.6, 0.6], [5.2, 3.5, 1.5, 0.2], [5.1, 3.5, 1.4, 0.3], [5.1, 3.5, 1.4, 0.2], [5.0, 3.5, 1.3, 0.3], [5.5, 3.5, 1.3, 0.2], [5.4, 3.4, 1.7, 0.2], [5.0, 3.4, 1.6, 0.4], [5.4, 3.4, 1.5, 0.4], [5.1, 3.4, 1.5, 0.2], [5.0, 3.4, 1.5, 0.2], [5.2, 3.4, 1.4, 0.2], [5.1, 3.3, 1.7, 0.5], [5.0, 3.3, 1.4, 0.2], [5.0, 3.2, 1.2, 0.2]], [[7.7, 3.8, 6.7, 2.2], [7.9, 3.8, 6.4, 2.0], [7.2, 3.6, 6.1, 2.5], [6.3, 3.4, 5.6, 2.4], [6.2, 3.4, 5.4, 2.3], [6.0, 3.4, 4.5, 1.6], [6.3, 3.3, 6.0, 2.5], [6.7, 3.3, 5.7, 2.5], [6.7, 3.3, 5.7, 2.1], [6.3, 3.3, 4.7, 1.6], [7.2, 3.2, 6.0, 1.8], [6.8, 3.2, 5.9, 2.3], [6.9, 3.2, 5.7, 2.3], [6.4, 3.2, 5.3, 2.3], [6.5, 3.2, 5.1, 2.0], [5.9, 3.2, 4.8, 1.8], [7.0, 3.2, 4.7, 1.4], [6.4, 3.2, 4.5, 1.5], [6.7, 3.1, 5.6, 2.4], [6.4, 3.1, 5.5, 1.8], [6.9, 3.1, 5.4, 2.1], [6.9, 3.1, 5.1, 2.3], [6.9, 3.1, 4.9, 1.5], [6.7, 3.1, 4.7, 1.5], [6.7, 3.1, 4.4, 1.4], [7.6, 3.0, 6.6, 2.1], [7.7, 3.0, 6.1, 2.3], [7.1, 3.0, 5.9, 2.1], [6.5, 3.0, 5.8, 2.2], [7.2, 3.0, 5.8, 1.6], [6.8, 3.0, 5.5, 2.1], [6.5, 3.0, 5.5, 1.8], [6.7, 3.0, 5.2, 2.3], [6.5, 3.0, 5.2, 2.0], [5.9, 3.0, 5.1, 1.8], [6.7, 3.0, 5.0, 1.7], [6.1, 3.0, 4.9, 1.8], [6.0, 3.0, 4.8, 1.8], [6.1, 3.0, 4.6, 1.4], [5.6, 3.0, 4.5, 1.5], [5.4, 3.0, 4.5, 1.5], [6.6, 3.0, 4.4, 1.4], [5.9, 3.0, 4.2, 1.5], [5.7, 3.0, 4.2, 1.2], [5.6, 3.0, 4.1, 1.3], [7.3, 2.9, 6.3, 1.8], [6.3, 2.9, 5.6, 1.8], [6.1, 2.9, 4.7, 1.4], [6.6, 2.9, 4.6, 1.3], [6.0, 2.9, 4.5, 1.5], [6.4, 2.9, 4.3, 1.3], [6.2, 2.9, 4.3, 1.3], [5.7, 2.9, 4.2, 1.3], [5.6, 2.9, 3.6, 1.3], [7.7, 2.8, 6.7, 2.0], [7.4, 2.8, 6.1, 1.9], [6.4, 2.8, 5.6, 2.2], [6.4, 2.8, 5.6, 2.1], [5.8, 2.8, 5.1, 2.4], [6.3, 2.8, 5.1, 1.5], [5.6, 2.8, 4.9, 2.0], [6.2, 2.8, 4.8, 1.8], [6.8, 2.8, 4.8, 1.4], [6.1, 2.8, 4.7, 1.2], [6.5, 2.8, 4.6, 1.5], [5.7, 2.8, 4.5, 1.3], [5.7, 2.8, 4.1, 1.3], [6.1, 2.8, 4.0, 1.3], [6.4, 2.7, 5.3, 1.9], [5.8, 2.7, 5.1, 1.9], [5.8, 2.7, 5.1, 1.9], [6.0, 2.7, 5.1, 1.6], [6.3, 2.7, 4.9, 1.8], [5.6, 2.7, 4.2, 1.3], [5.8, 2.7, 4.1, 1.0], [5.2, 2.7, 3.9, 1.4], [5.8, 2.7, 3.9, 1.2], [7.7, 2.6, 6.9, 2.3], [6.1, 2.6, 5.6, 1.4], [5.5, 2.6, 4.4, 1.2], [5.8, 2.6, 4.0, 1.2], [5.7, 2.6, 3.5, 1.0], [6.7, 2.5, 5.8, 1.8], [5.7, 2.5, 5.0, 2.0], [6.3, 2.5, 5.0, 1.9], [6.3, 2.5, 4.9, 1.5], [4.9, 2.5, 4.5, 1.7], [5.5, 2.5, 4.0, 1.3], [5.6, 2.5, 3.9, 1.1], [5.5, 2.4, 3.8, 1.1], [5.5, 2.4, 3.7, 1.0], [6.3, 2.3, 4.4, 1.3], [5.5, 2.3, 4.0, 1.3], [6.0, 2.2, 5.0, 1.5], [6.2, 2.2, 4.5, 1.5], [6.0, 2.2, 4.0, 1.0]], [[4.8, 3.4, 1.9, 0.2], [4.8, 3.4, 1.6, 0.2], [4.6, 3.4, 1.4, 0.3], [4.7, 3.2, 1.6, 0.2], [4.6, 3.2, 1.4, 0.2], [4.7, 3.2, 1.3, 0.2], [4.4, 3.2, 1.3, 0.2], [4.8, 3.1, 1.6, 0.2], [4.6, 3.1, 1.5, 0.2], [4.9, 3.1, 1.5, 0.1], [4.9, 3.1, 1.5, 0.1], [4.9, 3.1, 1.5, 0.1], [5.0, 3.0, 1.6, 0.2], [4.8, 3.0, 1.4, 0.3], [4.9, 3.0, 1.4, 0.2], [4.8, 3.0, 1.4, 0.1], [4.4, 3.0, 1.3, 0.2], [4.3, 3.0, 1.1, 0.1], [4.4, 2.9, 1.4, 0.2], [5.1, 2.5, 3.0, 1.1], [4.9, 2.4, 3.3, 1.0], [5.0, 2.3, 3.3, 1.0], [4.5, 2.3, 1.3, 0.3], [5.0, 2.0, 3.5, 1.0]]]\n"
     ]
    }
   ],
   "source": [
    "model = KMeans(data, 3)\n",
    "model.fit()\n",
    "print(model.clusters)"
   ]
  },
  {
   "cell_type": "code",
   "execution_count": 9,
   "metadata": {},
   "outputs": [
    {
     "data": {
      "text/plain": [
       "<matplotlib.collections.PathCollection at 0x2153506c588>"
      ]
     },
     "execution_count": 9,
     "metadata": {},
     "output_type": "execute_result"
    },
    {
     "data": {
      "image/png": "[encoded data removed]",
      "text/plain": [
       "<Figure size 432x288 with 1 Axes>"
      ]
     },
     "metadata": {
      "needs_background": "light"
     },
     "output_type": "display_data"
    }
   ],
   "source": [
    "#print(model.cluster_sizes)\n",
    "data = np.concatenate((model.clusters), axis = 0)\n",
    "plt.scatter(data[:,0],data[:,1], s=10)\n"
   ]
  },
  {
   "cell_type": "code",
   "execution_count": 10,
   "metadata": {},
   "outputs": [
    {
     "data": {
      "text/plain": [
       "<matplotlib.collections.PathCollection at 0x21535129ec8>"
      ]
     },
     "execution_count": 10,
     "metadata": {},
     "output_type": "execute_result"
    },
    {
     "data": {
      "image/png": "[encoded data removed]",
      "text/plain": [
       "<Figure size 432x288 with 1 Axes>"
      ]
     },
     "metadata": {
      "needs_background": "light"
     },
     "output_type": "display_data"
    }
   ],
   "source": [
    "std = np.std(data, axis = 0)\n",
    "mean = np.mean(data, axis = 0)\n",
    "centers = np.random.randn(3,data.shape[1])*std + mean\n",
    "plt.scatter(centers[:, 0], centers[:, 1], c='black', s=200, alpha=0.5);\n",
    "plt.scatter(data[:,0],data[:,1], s=7)"
   ]
  },
  {
   "cell_type": "code",
   "execution_count": 11,
   "metadata": {},
   "outputs": [],
   "source": [
    "# Number of clusters\n",
    "k = 3\n",
    "# Number of training data\n",
    "n = data.shape[0]\n",
    "# Number of features in the data\n",
    "c = data.shape[1]\n"
   ]
  },
  {
   "cell_type": "code",
   "execution_count": 12,
   "metadata": {},
   "outputs": [
    {
     "data": {
      "text/html": [
       "<div>\n",
       "<style scoped>\n",
       "    .dataframe tbody tr th:only-of-type {\n",
       "        vertical-align: middle;\n",
       "    }\n",
       "\n",
       "    .dataframe tbody tr th {\n",
       "        vertical-align: top;\n",
       "    }\n",
       "\n",
       "    .dataframe thead th {\n",
       "        text-align: right;\n",
       "    }\n",
       "</style>\n",
       "<table border=\"1\" class=\"dataframe\">\n",
       "  <thead>\n",
       "    <tr style=\"text-align: right;\">\n",
       "      <th></th>\n",
       "      <th>s_length</th>\n",
       "      <th>s_width</th>\n",
       "      <th>p_length</th>\n",
       "      <th>p_width</th>\n",
       "    </tr>\n",
       "  </thead>\n",
       "  <tbody>\n",
       "    <tr>\n",
       "      <th>0</th>\n",
       "      <td>5.7</td>\n",
       "      <td>4.4</td>\n",
       "      <td>1.5</td>\n",
       "      <td>0.4</td>\n",
       "    </tr>\n",
       "    <tr>\n",
       "      <th>1</th>\n",
       "      <td>5.5</td>\n",
       "      <td>4.2</td>\n",
       "      <td>1.4</td>\n",
       "      <td>0.2</td>\n",
       "    </tr>\n",
       "    <tr>\n",
       "      <th>2</th>\n",
       "      <td>5.2</td>\n",
       "      <td>4.1</td>\n",
       "      <td>1.5</td>\n",
       "      <td>0.1</td>\n",
       "    </tr>\n",
       "    <tr>\n",
       "      <th>3</th>\n",
       "      <td>5.8</td>\n",
       "      <td>4.0</td>\n",
       "      <td>1.2</td>\n",
       "      <td>0.2</td>\n",
       "    </tr>\n",
       "    <tr>\n",
       "      <th>4</th>\n",
       "      <td>5.4</td>\n",
       "      <td>3.9</td>\n",
       "      <td>1.7</td>\n",
       "      <td>0.4</td>\n",
       "    </tr>\n",
       "  </tbody>\n",
       "</table>\n",
       "</div>"
      ],
      "text/plain": [
       "   s_length  s_width  p_length  p_width\n",
       "0       5.7      4.4       1.5      0.4\n",
       "1       5.5      4.2       1.4      0.2\n",
       "2       5.2      4.1       1.5      0.1\n",
       "3       5.8      4.0       1.2      0.2\n",
       "4       5.4      3.9       1.7      0.4"
      ]
     },
     "execution_count": 12,
     "metadata": {},
     "output_type": "execute_result"
    }
   ],
   "source": [
    "df = pd.read_csv('../Data/iris_test_data.txt', names=[\"s_length\", \"s_width\", \"p_length\", \"p_width\"], delim_whitespace=True)\n",
    "df.head()"
   ]
  },
  {
   "cell_type": "code",
   "execution_count": 13,
   "metadata": {},
   "outputs": [
    {
     "name": "stdout",
     "output_type": "stream",
     "text": [
      "[[5.7, 4.4, 1.5, 0.4], [5.5, 4.2, 1.4, 0.2], [5.2, 4.1, 1.5, 0.1], [5.8, 4.0, 1.2, 0.2], [5.4, 3.9, 1.7, 0.4], [5.4, 3.9, 1.3, 0.4], [7.7, 3.8, 6.7, 2.2], [7.9, 3.8, 6.4, 2.0], [5.1, 3.8, 1.9, 0.4], [5.7, 3.8, 1.7, 0.3], [5.1, 3.8, 1.6, 0.2], [5.1, 3.8, 1.5, 0.3], [5.1, 3.7, 1.5, 0.4], [5.4, 3.7, 1.5, 0.2], [5.3, 3.7, 1.5, 0.2], [7.2, 3.6, 6.1, 2.5], [5.0, 3.6, 1.4, 0.2], [4.6, 3.6, 1.0, 0.2], [5.0, 3.5, 1.6, 0.6], [5.2, 3.5, 1.5, 0.2], [5.1, 3.5, 1.4, 0.3], [5.1, 3.5, 1.4, 0.2], [5.0, 3.5, 1.3, 0.3], [5.5, 3.5, 1.3, 0.2], [6.3, 3.4, 5.6, 2.4], [6.2, 3.4, 5.4, 2.3], [6.0, 3.4, 4.5, 1.6], [4.8, 3.4, 1.9, 0.2], [5.4, 3.4, 1.7, 0.2], [5.0, 3.4, 1.6, 0.4], [4.8, 3.4, 1.6, 0.2], [5.4, 3.4, 1.5, 0.4], [5.1, 3.4, 1.5, 0.2], [5.0, 3.4, 1.5, 0.2], [4.6, 3.4, 1.4, 0.3], [5.2, 3.4, 1.4, 0.2], [6.3, 3.3, 6.0, 2.5], [6.7, 3.3, 5.7, 2.5], [6.7, 3.3, 5.7, 2.1], [6.3, 3.3, 4.7, 1.6], [5.1, 3.3, 1.7, 0.5], [5.0, 3.3, 1.4, 0.2], [7.2, 3.2, 6.0, 1.8], [6.8, 3.2, 5.9, 2.3], [6.9, 3.2, 5.7, 2.3], [6.4, 3.2, 5.3, 2.3], [6.5, 3.2, 5.1, 2.0], [5.9, 3.2, 4.8, 1.8], [7.0, 3.2, 4.7, 1.4], [6.4, 3.2, 4.5, 1.5], [4.7, 3.2, 1.6, 0.2], [4.6, 3.2, 1.4, 0.2], [4.7, 3.2, 1.3, 0.2], [4.4, 3.2, 1.3, 0.2], [5.0, 3.2, 1.2, 0.2], [6.7, 3.1, 5.6, 2.4], [6.4, 3.1, 5.5, 1.8], [6.9, 3.1, 5.4, 2.1], [6.9, 3.1, 5.1, 2.3], [6.9, 3.1, 4.9, 1.5], [6.7, 3.1, 4.7, 1.5], [6.7, 3.1, 4.4, 1.4], [4.8, 3.1, 1.6, 0.2], [4.6, 3.1, 1.5, 0.2], [4.9, 3.1, 1.5, 0.1], [4.9, 3.1, 1.5, 0.1], [4.9, 3.1, 1.5, 0.1], [7.6, 3.0, 6.6, 2.1], [7.7, 3.0, 6.1, 2.3], [7.1, 3.0, 5.9, 2.1], [6.5, 3.0, 5.8, 2.2], [7.2, 3.0, 5.8, 1.6], [6.8, 3.0, 5.5, 2.1], [6.5, 3.0, 5.5, 1.8], [6.7, 3.0, 5.2, 2.3], [6.5, 3.0, 5.2, 2.0], [5.9, 3.0, 5.1, 1.8], [6.7, 3.0, 5.0, 1.7], [6.1, 3.0, 4.9, 1.8], [6.0, 3.0, 4.8, 1.8], [6.1, 3.0, 4.6, 1.4], [5.6, 3.0, 4.5, 1.5], [5.4, 3.0, 4.5, 1.5], [6.6, 3.0, 4.4, 1.4], [5.9, 3.0, 4.2, 1.5], [5.7, 3.0, 4.2, 1.2], [5.6, 3.0, 4.1, 1.3], [5.0, 3.0, 1.6, 0.2], [4.8, 3.0, 1.4, 0.3], [4.9, 3.0, 1.4, 0.2], [4.8, 3.0, 1.4, 0.1], [4.4, 3.0, 1.3, 0.2], [4.3, 3.0, 1.1, 0.1], [7.3, 2.9, 6.3, 1.8], [6.3, 2.9, 5.6, 1.8], [6.1, 2.9, 4.7, 1.4], [6.6, 2.9, 4.6, 1.3], [6.0, 2.9, 4.5, 1.5], [6.4, 2.9, 4.3, 1.3], [6.2, 2.9, 4.3, 1.3], [5.7, 2.9, 4.2, 1.3], [5.6, 2.9, 3.6, 1.3], [4.4, 2.9, 1.4, 0.2], [7.7, 2.8, 6.7, 2.0], [7.4, 2.8, 6.1, 1.9], [6.4, 2.8, 5.6, 2.2], [6.4, 2.8, 5.6, 2.1], [5.8, 2.8, 5.1, 2.4], [6.3, 2.8, 5.1, 1.5], [5.6, 2.8, 4.9, 2.0], [6.2, 2.8, 4.8, 1.8], [6.8, 2.8, 4.8, 1.4], [6.1, 2.8, 4.7, 1.2], [6.5, 2.8, 4.6, 1.5], [5.7, 2.8, 4.5, 1.3], [5.7, 2.8, 4.1, 1.3], [6.1, 2.8, 4.0, 1.3], [6.4, 2.7, 5.3, 1.9], [5.8, 2.7, 5.1, 1.9], [5.8, 2.7, 5.1, 1.9], [6.0, 2.7, 5.1, 1.6], [6.3, 2.7, 4.9, 1.8], [5.6, 2.7, 4.2, 1.3], [5.8, 2.7, 4.1, 1.0], [5.2, 2.7, 3.9, 1.4], [5.8, 2.7, 3.9, 1.2], [7.7, 2.6, 6.9, 2.3], [6.1, 2.6, 5.6, 1.4], [5.5, 2.6, 4.4, 1.2], [5.8, 2.6, 4.0, 1.2], [5.7, 2.6, 3.5, 1.0], [6.7, 2.5, 5.8, 1.8], [5.7, 2.5, 5.0, 2.0], [6.3, 2.5, 5.0, 1.9], [6.3, 2.5, 4.9, 1.5], [4.9, 2.5, 4.5, 1.7], [5.5, 2.5, 4.0, 1.3], [5.6, 2.5, 3.9, 1.1], [5.1, 2.5, 3.0, 1.1], [5.5, 2.4, 3.8, 1.1], [5.5, 2.4, 3.7, 1.0], [4.9, 2.4, 3.3, 1.0], [6.3, 2.3, 4.4, 1.3], [5.5, 2.3, 4.0, 1.3], [5.0, 2.3, 3.3, 1.0], [4.5, 2.3, 1.3, 0.3], [6.0, 2.2, 5.0, 1.5], [6.2, 2.2, 4.5, 1.5], [6.0, 2.2, 4.0, 1.0], [5.0, 2.0, 3.5, 1.0]]\n"
     ]
    }
   ],
   "source": [
    "data1 = df.values.tolist()\n",
    "print(data1)"
   ]
  },
  {
   "cell_type": "code",
   "execution_count": 14,
   "metadata": {},
   "outputs": [],
   "source": [
    "data = np.concatenate((data1), axis = 0)"
   ]
  },
  {
   "cell_type": "code",
   "execution_count": 15,
   "metadata": {},
   "outputs": [],
   "source": [
    "#plt.scatter(data1[:,0],data1[:,1], s=7)"
   ]
  },
  {
   "cell_type": "code",
   "execution_count": 16,
   "metadata": {},
   "outputs": [],
   "source": [
    "X_train, _ = make_blobs(n_samples=500, centers=3, n_features=2, random_state=20)"
   ]
  },
  {
   "cell_type": "code",
   "execution_count": 17,
   "metadata": {},
   "outputs": [
    {
     "name": "stdout",
     "output_type": "stream",
     "text": [
      "[[-11.05794875   2.35758008]\n",
      " [  3.30025999   6.92264204]\n",
      " [-11.60050708   2.89695028]\n",
      " [-10.42239289   3.94600093]\n",
      " [  2.29034449   8.11011278]\n",
      " [  2.43925569   8.78538034]\n",
      " [  7.46559415   6.01476085]\n",
      " [  7.50098576   4.98996139]\n",
      " [ -8.94241199   2.08163347]\n",
      " [ -9.52754961   5.25803866]\n",
      " [ -8.71671376   3.64679119]\n",
      " [  1.49704227   6.91368146]\n",
      " [  7.72194461   8.2373802 ]\n",
      " [  8.04398719   8.61892674]\n",
      " [  8.18418614   7.10545678]\n",
      " [ -9.13281188   2.40621   ]\n",
      " [ -0.17865027   8.29570927]\n",
      " [ -9.37601995   3.42572178]\n",
      " [  8.3015357    7.96423462]\n",
      " [  7.61518248   5.72643487]\n",
      " [-10.21728366   4.055909  ]\n",
      " [ -9.80504109   2.44903849]\n",
      " [  1.86140464   7.72595353]\n",
      " [  6.78523197   5.36459066]\n",
      " [  2.93205302   7.67845969]\n",
      " [  2.20064052   9.31206357]\n",
      " [-10.14307823   3.75230762]\n",
      " [  1.05007191   8.27779615]\n",
      " [ -8.74736337   3.16444618]\n",
      " [  9.6970377    4.33805308]\n",
      " [  6.06757849   7.32404507]\n",
      " [  6.32163327   6.86240514]\n",
      " [  1.84943529   5.43892028]\n",
      " [  8.97714638   6.84380574]\n",
      " [ -8.85942059   4.35269366]\n",
      " [  3.58975755   6.86777078]\n",
      " [ -9.98594468   4.73565432]\n",
      " [  8.02112775   7.74956259]\n",
      " [  1.49470861   7.00271195]\n",
      " [  0.19254739   8.94025465]\n",
      " [  8.4489082    7.00141449]\n",
      " [  1.45686773   9.66655733]\n",
      " [  8.05578269   5.22430404]\n",
      " [  6.11292477   6.18178284]\n",
      " [  6.97659903   7.95084907]\n",
      " [  8.02367204   5.47191581]\n",
      " [ -8.9903687    4.2689905 ]\n",
      " [ -7.8904889    3.83294292]\n",
      " [ -9.62930913   3.35358578]\n",
      " [  8.16183162   5.35697504]\n",
      " [  7.85542054   6.78340069]\n",
      " [  8.3366743    6.0564897 ]\n",
      " [  1.71569091   6.49416838]\n",
      " [  1.65359865   9.510461  ]\n",
      " [  2.60423854   8.20582745]\n",
      " [-10.90723875   3.40417682]\n",
      " [  7.94556428   6.49342544]\n",
      " [  0.86430852   8.68947674]\n",
      " [  8.12620096   5.90448054]\n",
      " [  8.16785019   6.55438514]\n",
      " [-10.19676521   4.89890901]\n",
      " [  6.90618903   5.85937677]\n",
      " [  8.02649816   6.41990405]\n",
      " [  1.92844903   8.74307137]\n",
      " [  8.18981005   4.72383843]\n",
      " [ -9.37257618   3.18511504]\n",
      " [-10.37630064   3.5473458 ]\n",
      " [  9.09744059   7.39185808]\n",
      " [ -9.48827916   4.60743187]\n",
      " [  8.39725419   5.54035572]\n",
      " [  8.36414763   6.60970589]\n",
      " [  2.58780065   9.77647999]\n",
      " [  8.08762717   7.0781695 ]\n",
      " [  9.21827723   7.85430227]\n",
      " [  2.05217517   7.48406522]\n",
      " [ -8.5390581    4.74565058]\n",
      " [ -9.8596029    3.28931333]\n",
      " [-10.36181023   5.33266206]\n",
      " [  7.92245587   6.12183934]\n",
      " [-10.14844437   4.39570865]\n",
      " [  2.26505125   9.11624047]\n",
      " [  1.51927726   7.82424385]\n",
      " [-10.83555993   2.96929895]\n",
      " [ -9.0896916    4.02218212]\n",
      " [ -9.69715347   5.3647119 ]\n",
      " [  8.47964104   7.48612265]\n",
      " [  8.08936093   6.11556838]\n",
      " [  7.46978725   5.92582486]\n",
      " [ -9.98917657   2.40677383]\n",
      " [  8.0319328    7.57429362]\n",
      " [ -8.53079634   2.57048293]\n",
      " [  9.16144501   5.29724521]\n",
      " [  7.56807342   6.45669929]\n",
      " [-11.23871098   3.22714998]\n",
      " [ -8.71858404   3.63154725]\n",
      " [  6.50686074   4.03035138]\n",
      " [  2.69548237  10.01411256]\n",
      " [ -8.60515826   2.52174212]\n",
      " [  6.85314906   7.23848591]\n",
      " [ -9.72141997   4.29828803]\n",
      " [  1.28508334   7.83207208]\n",
      " [  7.55028572   7.3430364 ]\n",
      " [  1.5429549    9.45767271]\n",
      " [ -9.04779211   2.93940371]\n",
      " [  5.96099577   6.78668541]\n",
      " [  6.7809407    7.67886016]\n",
      " [  6.65965264   7.40070192]\n",
      " [  0.87314084   8.30778219]\n",
      " [  1.25442452   7.4590588 ]\n",
      " [-10.43123421   3.87241065]\n",
      " [ -9.48422454   4.20982998]\n",
      " [ -6.58379733   1.54051291]\n",
      " [ -8.58337292   6.07646184]\n",
      " [-10.53780156   4.26691159]\n",
      " [ -7.42547841   4.00660952]\n",
      " [  3.71804812   7.56269914]\n",
      " [  1.50179311   7.06479682]\n",
      " [ -8.24516942   3.97422376]\n",
      " [  2.25445661   8.95798315]\n",
      " [  8.02816314   6.84350566]\n",
      " [  1.3530446    9.4016816 ]\n",
      " [  7.87757327   5.87101263]\n",
      " [  8.09600612   8.23166119]\n",
      " [ -6.60936803   2.84070489]\n",
      " [-10.22711087   3.13987883]\n",
      " [  7.65505953   7.42646295]\n",
      " [  0.74103329   8.42655253]\n",
      " [  7.32854922   7.69348865]\n",
      " [  0.80392944   7.62060987]\n",
      " [  7.75250035   5.58478112]\n",
      " [ -9.69610419   4.57810847]\n",
      " [  7.84598323   6.31610526]\n",
      " [  3.80266777   8.37030199]\n",
      " [ -8.76644473   2.20952963]\n",
      " [  2.12015254   5.61101265]\n",
      " [  2.9671273    9.30607075]\n",
      " [  8.11826121   7.95244104]\n",
      " [ -8.73725638   3.72555971]\n",
      " [  6.22020782   4.93762639]\n",
      " [  0.81259801   8.81227391]\n",
      " [  2.70208537   6.97579352]\n",
      " [  5.0642801    6.52260393]\n",
      " [  6.37292817   5.44116815]\n",
      " [  3.21939381   6.90718626]\n",
      " [  2.45361814   6.46855495]\n",
      " [  2.37253382   7.8770468 ]\n",
      " [  6.59471641   7.14896608]\n",
      " [-10.1534403    4.85769226]\n",
      " [  6.43301766   7.20434253]\n",
      " [ -0.02355261   7.84261726]\n",
      " [ -9.86283025   3.79501118]\n",
      " [-10.25675239   3.81400835]\n",
      " [ -9.80318375   5.32088283]\n",
      " [ -8.30591396   4.06640058]\n",
      " [ -7.12015246   2.87174922]\n",
      " [  2.66607902   6.40911521]\n",
      " [  8.98711727   7.05670562]\n",
      " [ -7.99496308   3.18771027]\n",
      " [  0.48311336   8.19998973]\n",
      " [ -7.72519633   4.95459926]\n",
      " [  7.70231047   6.2924101 ]\n",
      " [ -8.78393094   5.34290635]\n",
      " [-10.59919027   4.26576652]\n",
      " [  8.85676001   5.98605179]\n",
      " [ -8.38001389   3.85600274]\n",
      " [-10.4526414    3.59661251]\n",
      " [ -8.69225831   3.42162616]\n",
      " [ -8.89860969   3.10931513]\n",
      " [ -9.36734858   3.13503439]\n",
      " [-10.82661976   4.31485565]\n",
      " [  7.44371295   7.89127012]\n",
      " [ -8.8649021    2.66202788]\n",
      " [  0.70644702   8.50854949]\n",
      " [  1.22318526   8.5454073 ]\n",
      " [  7.36048205   8.26149705]\n",
      " [  6.58803746   7.58403812]\n",
      " [  6.20476131   6.52834209]\n",
      " [  6.41342514   7.31722275]\n",
      " [ -9.5888201    3.77387633]\n",
      " [  1.160308     9.49900292]\n",
      " [  0.97059923   7.11190662]\n",
      " [  2.4867433    7.77411525]\n",
      " [  0.24810506   7.39451325]\n",
      " [  8.18304682   5.41493358]\n",
      " [-11.9420011    5.31374092]\n",
      " [  7.15925167   5.41891209]\n",
      " [  0.6478754    7.0310672 ]\n",
      " [  7.07365955   5.46164616]\n",
      " [  1.20743022   7.95578312]\n",
      " [  9.13545281   6.96597772]\n",
      " [  0.93392325   8.06832216]\n",
      " [  1.41585138   8.87768002]\n",
      " [-11.51838726   3.42575606]\n",
      " [  0.32076745   6.53760781]\n",
      " [  2.25605326   5.24990931]\n",
      " [  2.85824783   8.53371949]\n",
      " [  6.2743983    7.16898023]\n",
      " [  7.78298626   6.43485618]\n",
      " [  3.36860866   7.80061273]\n",
      " [  1.42412542   8.27524534]\n",
      " [-11.1108104    4.37827701]\n",
      " [  7.49292603   7.60549203]\n",
      " [  7.06236271   8.1615341 ]\n",
      " [  1.77826968   8.85893477]\n",
      " [ -9.11314613   3.32451342]\n",
      " [  6.51003283   5.75739998]\n",
      " [  7.98643821   6.87236095]\n",
      " [  1.52314626   8.41401879]\n",
      " [  9.97915531   6.72375361]\n",
      " [  2.88145277   7.64581044]\n",
      " [ -9.88807389   3.69278225]\n",
      " [ -9.53997642   3.99048383]\n",
      " [  2.19167006   8.39066296]\n",
      " [  2.61970984   9.4354182 ]\n",
      " [ -8.78693922   4.58788428]\n",
      " [  8.16492862   8.19817043]\n",
      " [  3.06404542   6.95947265]\n",
      " [  0.90784053   7.44112945]\n",
      " [-10.07392524   5.02196059]\n",
      " [  7.41860686   7.4422797 ]\n",
      " [ -8.75240328   5.31121848]\n",
      " [  8.34005774   5.39397026]\n",
      " [ -7.8455586    4.62943285]\n",
      " [  8.12921174   6.69716553]\n",
      " [-10.48754526   3.31695298]\n",
      " [  9.35420108   6.12121434]\n",
      " [  1.73248992   8.58928763]\n",
      " [-10.02254013   3.92971929]\n",
      " [ -0.19927622   6.10223631]\n",
      " [-10.27164576   3.7953294 ]\n",
      " [  2.99990895   8.79466321]\n",
      " [ -9.7522731    3.8826045 ]\n",
      " [  8.41847511   7.87603233]\n",
      " [ -8.93222866   4.13624209]\n",
      " [-10.0911765    4.86658609]\n",
      " [ -9.58521729   3.46647911]\n",
      " [  8.19431805   5.30133158]\n",
      " [  1.13567868   6.87691142]\n",
      " [ -9.72294328   4.01900875]\n",
      " [  1.77384736   6.86484509]\n",
      " [  1.64736184   7.60762748]\n",
      " [  6.80567764   4.87260874]\n",
      " [  6.78186345   5.25729333]\n",
      " [  0.67778343   8.51397085]\n",
      " [ 10.17481333   6.77546362]\n",
      " [  6.73688963   6.7543486 ]\n",
      " [  6.08325409   4.77203893]\n",
      " [-10.73463066   4.92048739]\n",
      " [  3.28738923   9.1610621 ]\n",
      " [  8.33960355   5.4132625 ]\n",
      " [  5.9199065    6.76217648]\n",
      " [  1.59831473   8.34833708]\n",
      " [ -8.71168819   5.49234238]\n",
      " [ -8.62718427   4.75945502]\n",
      " [  7.19791322   5.95722287]\n",
      " [  6.84804548   4.94311319]\n",
      " [  7.59657155   6.06137658]\n",
      " [  2.56691077   9.35566615]\n",
      " [  1.38575755   7.8258003 ]\n",
      " [ -8.37560749   4.08802044]\n",
      " [  7.97616506   7.6552094 ]\n",
      " [  1.91519521   9.1842175 ]\n",
      " [  8.23692964   5.9477511 ]\n",
      " [  5.72636376   6.92804575]\n",
      " [  8.79588846   4.65929562]\n",
      " [ -7.25260489   5.46757546]\n",
      " [-10.43522882   3.37097158]\n",
      " [  7.86205566   5.16268214]\n",
      " [  1.01908292   7.03023598]\n",
      " [ -9.14742447   1.56084396]\n",
      " [  2.11110489   8.40339271]\n",
      " [  2.51492934   6.61935379]\n",
      " [  8.4442041    6.57833023]\n",
      " [  0.14671681   7.10230996]\n",
      " [-10.97260262   4.39235297]\n",
      " [  1.04037761  10.07598742]\n",
      " [ -9.32517983   3.67472525]\n",
      " [ -9.97987757   5.21110567]\n",
      " [  1.90623866   8.70457249]\n",
      " [  0.28023097   7.09811034]\n",
      " [  2.85346083   7.99120069]\n",
      " [  7.81583555   7.44319565]\n",
      " [  1.64030008   8.17344413]\n",
      " [ -8.53477819   2.81406824]\n",
      " [  7.39764117   5.58618069]\n",
      " [  7.36581166   4.66137897]\n",
      " [  7.24870316   7.02877473]\n",
      " [ -8.67579137   3.81723065]\n",
      " [  7.97979682   6.28045577]\n",
      " [-10.35080492   3.3231697 ]\n",
      " [  7.62981603   5.78225923]\n",
      " [ -9.8141771    3.95492459]\n",
      " [  2.13401697   8.39385997]\n",
      " [  2.61654238   7.94631463]\n",
      " [ -8.78606717   2.89093896]\n",
      " [  7.76385499   5.38277771]\n",
      " [  8.32987392   6.9576073 ]\n",
      " [ -9.74862236   3.67438257]\n",
      " [  0.87712287   6.84969507]\n",
      " [  8.5348868    5.49577525]\n",
      " [  1.71842122   9.52190711]\n",
      " [ -9.84768857   2.18066961]\n",
      " [  1.07099183   8.34981287]\n",
      " [ -8.43843842   3.69897358]\n",
      " [ -9.42829194   4.75753624]\n",
      " [-10.1994989    3.36090903]\n",
      " [  1.78398506   8.54868999]\n",
      " [  2.43273248   6.80540187]\n",
      " [ -9.25849775   2.7716537 ]\n",
      " [ -7.93934662   2.7008789 ]\n",
      " [ -8.39118038   4.41395173]\n",
      " [  0.80040004   7.47182365]\n",
      " [  1.97027103   7.80500866]\n",
      " [  1.99786762   7.86171477]\n",
      " [  7.24005067   6.15920725]\n",
      " [  2.78348105   9.92619645]\n",
      " [  0.2586382    9.26824239]\n",
      " [  9.06089277   5.02303124]\n",
      " [  5.76212109   7.65029208]\n",
      " [  0.93107208   7.28152796]\n",
      " [  7.63724607   6.67306224]\n",
      " [  0.92042899   6.80609988]\n",
      " [  3.62547116   7.65904408]\n",
      " [  9.11363669   5.46222632]\n",
      " [ -8.72128568   3.03018599]\n",
      " [  1.9060831    9.38911932]\n",
      " [  5.88340472   6.20886032]\n",
      " [  8.48406015   6.34153503]\n",
      " [  3.85728136   8.31370355]\n",
      " [  8.67360865   5.77836728]\n",
      " [  2.03469291   8.02934857]\n",
      " [  7.17052797   6.32576981]\n",
      " [  2.85450263   8.88886541]\n",
      " [  0.95571493   7.2479642 ]\n",
      " [ -8.73887472   3.59105318]\n",
      " [ -7.88738872   2.13464386]\n",
      " [ -9.41847686   4.31938454]\n",
      " [  7.82764017   6.21549406]\n",
      " [  0.59954991   8.71404994]\n",
      " [  1.46584067   9.14364246]\n",
      " [ -9.11344308   5.45562094]\n",
      " [ -8.37615485   4.2336899 ]\n",
      " [  8.56873294   7.75999756]\n",
      " [-11.51026599   2.94152619]\n",
      " [-10.2840351    3.07250834]\n",
      " [  1.53093619   7.70664867]\n",
      " [  6.75880837   7.80842947]\n",
      " [  3.20409392   8.22310679]\n",
      " [-10.71891072   6.7229715 ]\n",
      " [  3.03959586   8.30073589]\n",
      " [ -8.86013132   6.45085842]\n",
      " [  9.07041473   6.80814003]\n",
      " [  2.56828526   7.94172362]\n",
      " [  2.19351672   9.42926092]\n",
      " [ -9.87639389   4.33196657]\n",
      " [  2.82105811   8.70143965]\n",
      " [ -9.95456      3.60457587]\n",
      " [  0.1331145    6.13901875]\n",
      " [  0.21995161   8.95835504]\n",
      " [-10.00914358   3.58674782]\n",
      " [  1.25155284   8.54809723]\n",
      " [  7.53300007   6.47038075]\n",
      " [  2.40965011   8.54749177]\n",
      " [  2.88274828   9.28705277]\n",
      " [-11.09046138   2.95446381]\n",
      " [ -9.49445473   3.45661844]\n",
      " [ -7.79333257   4.4364274 ]\n",
      " [  7.06873137   5.28706606]\n",
      " [-10.98138688   5.90468143]\n",
      " [  7.75790316   6.30323311]\n",
      " [  3.56362242   7.75985573]\n",
      " [  2.09222936   6.81774802]\n",
      " [  1.37598371   7.97717636]\n",
      " [ -9.34659847   3.84197642]\n",
      " [ -7.96756638   4.23862044]\n",
      " [  8.09314352   7.098741  ]\n",
      " [  7.42617494   7.27088371]\n",
      " [-10.12363276   4.21852075]\n",
      " [  7.18131362   7.5158143 ]\n",
      " [  7.42375668   5.08553627]\n",
      " [  2.85804937   7.62073077]\n",
      " [  1.10496894   7.72731096]\n",
      " [  7.99384184   4.68895859]\n",
      " [  1.39070815   6.91485721]\n",
      " [  1.88333823   8.36829966]\n",
      " [  2.81798042   9.06956749]\n",
      " [  1.65680297   9.96417617]\n",
      " [  1.358082     9.10319957]\n",
      " [  7.94776484   6.26935763]\n",
      " [  2.28968574   6.40317382]\n",
      " [  7.01856786   7.07652644]\n",
      " [  9.96216417   5.7723097 ]\n",
      " [ -7.92770385   4.9476682 ]\n",
      " [  1.00908466   8.04376791]\n",
      " [  7.02565372   6.03414662]\n",
      " [-10.16706626   2.65863653]\n",
      " [  0.82767806   6.34128434]\n",
      " [ -8.90202212   4.53656934]\n",
      " [ -8.2692618    4.57832893]\n",
      " [  7.55927641   5.56841742]\n",
      " [ -9.90403057   4.06696464]\n",
      " [  1.27208286   9.13544543]\n",
      " [  1.59396992   4.76457177]\n",
      " [  8.26778258   5.62801897]\n",
      " [  2.30418848   7.80916726]\n",
      " [  9.08211044   5.92528417]\n",
      " [ -9.01795722   3.62522611]\n",
      " [  1.72143588   7.68394766]\n",
      " [  7.92737567   7.40423345]\n",
      " [  8.77304409   7.19657208]\n",
      " [-10.16988235   3.22237764]\n",
      " [-10.03647046   3.45018931]\n",
      " [ -9.861664     3.8201954 ]\n",
      " [  1.89139437   5.88732584]\n",
      " [  8.65116599   6.62190534]\n",
      " [-11.26968183   4.48798084]\n",
      " [ -9.1525878    3.30589629]\n",
      " [  0.82370553   6.05281051]\n",
      " [  1.64432253   7.59380159]\n",
      " [  8.41877798   5.33236845]\n",
      " [  2.81550794   7.86080327]\n",
      " [  7.42594076   5.55381836]\n",
      " [  1.80080849   8.94376112]\n",
      " [  6.95511465   4.97429314]\n",
      " [  7.72655714   6.44256614]\n",
      " [  8.74539575   5.85449899]\n",
      " [  8.46802276   4.70731993]\n",
      " [ -8.67403881   5.57893444]\n",
      " [-10.96876355   3.79187687]\n",
      " [ -9.15624838   3.1509628 ]\n",
      " [  3.6126599    7.7784681 ]\n",
      " [  2.8137247    8.36064298]\n",
      " [ -9.48192787   5.03095804]\n",
      " [ -8.37771788   4.61111496]\n",
      " [  1.39755858   8.4510448 ]\n",
      " [  2.68659418   6.3528937 ]\n",
      " [ -7.74733331   3.59674341]\n",
      " [  7.010494     5.79254862]\n",
      " [  0.6939839    8.84499195]\n",
      " [  9.73570244   7.26942001]\n",
      " [  1.23053677   9.08003341]\n",
      " [  2.67237271   9.40079615]\n",
      " [  2.24093253   7.23908406]\n",
      " [  0.32366548   7.64300565]\n",
      " [  7.17587081   6.48758134]\n",
      " [ -9.50576259   2.93467254]\n",
      " [  2.26571286   8.36068903]\n",
      " [  7.94595613   7.42757471]\n",
      " [  2.10074237   8.06333734]\n",
      " [  1.05449252   9.36841404]\n",
      " [ -0.74916469   7.53700274]\n",
      " [ -9.33658244   2.6661062 ]\n",
      " [ -8.5981203    4.62290971]\n",
      " [  6.97959405   6.69945975]\n",
      " [ -8.75845695   3.21099584]\n",
      " [  7.38896876   6.75647603]\n",
      " [-11.34591829   4.52066104]\n",
      " [  2.40904619   8.44167752]\n",
      " [  1.42931509   8.88263655]\n",
      " [ -9.1689638    4.97364418]\n",
      " [ -8.73827154   2.99491161]\n",
      " [ -8.10401083   3.06349383]\n",
      " [ -9.40481994   3.03571239]\n",
      " [ -8.34612104   2.96671669]\n",
      " [  7.53357669   7.28245373]\n",
      " [  8.46250115   4.890758  ]\n",
      " [  2.08607703   7.46086368]\n",
      " [  7.91857587   6.21010604]\n",
      " [ -7.6269724    3.91863943]\n",
      " [  8.21278612   5.58377127]\n",
      " [ -8.62177942   4.03944845]\n",
      " [  0.98854119   6.88335216]\n",
      " [  1.05083046   9.39735757]\n",
      " [ -9.58873509   3.28858537]\n",
      " [  2.52440212   6.30743081]\n",
      " [ -7.4321108    4.85632177]\n",
      " [ -9.14060614   3.28520419]\n",
      " [  6.65358641   5.85320371]\n",
      " [  9.00197874   5.14104965]\n",
      " [  1.32435583   9.37477301]\n",
      " [  6.29189287   7.61385789]\n",
      " [  8.19831103   5.82264535]\n",
      " [ -7.2048562    4.29178611]\n",
      " [  8.94481563   5.89595391]\n",
      " [-10.43705296   3.68166643]\n",
      " [  7.96862571   5.26388364]\n",
      " [  9.24510576   4.70695221]\n",
      " [ -8.75671906   4.89987975]\n",
      " [-10.12066484   3.82102577]\n",
      " [ -9.68834236   2.71079582]\n",
      " [ -9.27319457   2.3202384 ]\n",
      " [  1.98127374   7.5613926 ]\n",
      " [  2.90341512   8.08402956]\n",
      " [  8.9999488    6.25583465]\n",
      " [  3.12912175   6.59105457]\n",
      " [ -8.56888087   4.61041788]\n",
      " [  7.94984462   5.372138  ]\n",
      " [  7.64581332   8.50909068]\n",
      " [  6.49003725   6.0054937 ]\n",
      " [  1.53391876   6.37801968]]\n"
     ]
    }
   ],
   "source": [
    "print(X_train)"
   ]
  },
  {
   "cell_type": "code",
   "execution_count": 18,
   "metadata": {},
   "outputs": [],
   "source": [
    "df = pd.read_csv('../Data/iris_test_data.txt', names=[\"s_length\", \"s_width\", \"p_length\", \"p_width\"], delim_whitespace=True)"
   ]
  },
  {
   "cell_type": "code",
   "execution_count": 19,
   "metadata": {},
   "outputs": [
    {
     "data": {
      "image/png": "[encoded data removed]",
      "text/plain": [
       "<Figure size 432x288 with 1 Axes>"
      ]
     },
     "metadata": {
      "needs_background": "light"
     },
     "output_type": "display_data"
    }
   ],
   "source": [
    "data = df.values[:, 0:4]\n",
    "plt.scatter(data[:,0],data[:,1],c='black')\n",
    "plt.show()"
   ]
  },
  {
   "cell_type": "code",
   "execution_count": 20,
   "metadata": {},
   "outputs": [],
   "source": [
    "max_iteration = 2\n",
    "def Distance2Point(a, b):\n",
    "       return np.sqrt(sum(np.square(a-b)))"
   ]
  },
  {
   "cell_type": "code",
   "execution_count": 21,
   "metadata": {},
   "outputs": [],
   "source": [
    "def KMean(data):\n",
    "    \n",
    "    centroids = {}\n",
    "\n",
    "    for i in range(k):\n",
    "        centroids[i] = data[i]\n",
    "\n",
    "    classes = {}\n",
    "    for iteration in range(max_iteration):\n",
    "        classes = {}\n",
    "\n",
    "        for classKey in range(k):\n",
    "            classes[classKey] = []\n",
    "\n",
    "        for dataPoint in data: \n",
    "            Distance = []\n",
    "            for centroid in centroids:\n",
    "                dis = Distance2Point(dataPoint, centroids[centroid])\n",
    "                Distance.append(dis)\n",
    "\n",
    "            minDis = min(Distance)\n",
    "            minDisIndex = Distance.index(minDis)\n",
    "            classes[minDisIndex].append(dataPoint)\n",
    "\n",
    "        oldCentroid = dict(centroids)\n",
    "\n",
    "        for classKey in classes:\n",
    "            classData = classes[classKey]\n",
    "            NewCentroid = np.mean(classData, axis = 0)\n",
    "            centroids[classKey] = NewCentroid\n",
    "\n",
    "        isFine = True\n",
    "\n",
    "        for centroid in oldCentroid:\n",
    "            oldCent = oldCentroid[centroid]\n",
    "            curr = centroids[centroid]\n",
    "\n",
    "            if np.sum((curr - oldCent)/oldCent * 100) > 0.001:\n",
    "                isFine = False\n",
    "\n",
    "        if isFine:\n",
    "            break\n",
    "    return centroids, classes"
   ]
  },
  {
   "cell_type": "code",
   "execution_count": 22,
   "metadata": {},
   "outputs": [
    {
     "data": {
      "text/plain": [
       "{0: array([6.33763441, 2.90430108, 5.01827957, 1.72258065]),\n",
       " 1: array([5.256, 3.692, 1.456, 0.26 ]),\n",
       " 2: array([4.865625, 2.990625, 1.896875, 0.409375])}"
      ]
     },
     "execution_count": 22,
     "metadata": {},
     "output_type": "execute_result"
    }
   ],
   "source": [
    "centroids, classes = KMean(data[:, :4])\n",
    "centroids"
   ]
  },
  {
   "cell_type": "code",
   "execution_count": 27,
   "metadata": {},
   "outputs": [
    {
     "data": {
      "text/plain": [
       "{0: [array([7.7, 3.8, 6.7, 2.2]),\n",
       "  array([7.9, 3.8, 6.4, 2. ]),\n",
       "  array([7.2, 3.6, 6.1, 2.5]),\n",
       "  array([6.3, 3.4, 5.6, 2.4]),\n",
       "  array([6.2, 3.4, 5.4, 2.3]),\n",
       "  array([6. , 3.4, 4.5, 1.6]),\n",
       "  array([6.3, 3.3, 6. , 2.5]),\n",
       "  array([6.7, 3.3, 5.7, 2.5]),\n",
       "  array([6.7, 3.3, 5.7, 2.1]),\n",
       "  array([6.3, 3.3, 4.7, 1.6]),\n",
       "  array([7.2, 3.2, 6. , 1.8]),\n",
       "  array([6.8, 3.2, 5.9, 2.3]),\n",
       "  array([6.9, 3.2, 5.7, 2.3]),\n",
       "  array([6.4, 3.2, 5.3, 2.3]),\n",
       "  array([6.5, 3.2, 5.1, 2. ]),\n",
       "  array([5.9, 3.2, 4.8, 1.8]),\n",
       "  array([7. , 3.2, 4.7, 1.4]),\n",
       "  array([6.4, 3.2, 4.5, 1.5]),\n",
       "  array([6.7, 3.1, 5.6, 2.4]),\n",
       "  array([6.4, 3.1, 5.5, 1.8]),\n",
       "  array([6.9, 3.1, 5.4, 2.1]),\n",
       "  array([6.9, 3.1, 5.1, 2.3]),\n",
       "  array([6.9, 3.1, 4.9, 1.5]),\n",
       "  array([6.7, 3.1, 4.7, 1.5]),\n",
       "  array([6.7, 3.1, 4.4, 1.4]),\n",
       "  array([7.6, 3. , 6.6, 2.1]),\n",
       "  array([7.7, 3. , 6.1, 2.3]),\n",
       "  array([7.1, 3. , 5.9, 2.1]),\n",
       "  array([6.5, 3. , 5.8, 2.2]),\n",
       "  array([7.2, 3. , 5.8, 1.6]),\n",
       "  array([6.8, 3. , 5.5, 2.1]),\n",
       "  array([6.5, 3. , 5.5, 1.8]),\n",
       "  array([6.7, 3. , 5.2, 2.3]),\n",
       "  array([6.5, 3. , 5.2, 2. ]),\n",
       "  array([5.9, 3. , 5.1, 1.8]),\n",
       "  array([6.7, 3. , 5. , 1.7]),\n",
       "  array([6.1, 3. , 4.9, 1.8]),\n",
       "  array([6. , 3. , 4.8, 1.8]),\n",
       "  array([6.1, 3. , 4.6, 1.4]),\n",
       "  array([5.6, 3. , 4.5, 1.5]),\n",
       "  array([5.4, 3. , 4.5, 1.5]),\n",
       "  array([6.6, 3. , 4.4, 1.4]),\n",
       "  array([5.9, 3. , 4.2, 1.5]),\n",
       "  array([5.7, 3. , 4.2, 1.2]),\n",
       "  array([5.6, 3. , 4.1, 1.3]),\n",
       "  array([7.3, 2.9, 6.3, 1.8]),\n",
       "  array([6.3, 2.9, 5.6, 1.8]),\n",
       "  array([6.1, 2.9, 4.7, 1.4]),\n",
       "  array([6.6, 2.9, 4.6, 1.3]),\n",
       "  array([6. , 2.9, 4.5, 1.5]),\n",
       "  array([6.4, 2.9, 4.3, 1.3]),\n",
       "  array([6.2, 2.9, 4.3, 1.3]),\n",
       "  array([5.7, 2.9, 4.2, 1.3]),\n",
       "  array([7.7, 2.8, 6.7, 2. ]),\n",
       "  array([7.4, 2.8, 6.1, 1.9]),\n",
       "  array([6.4, 2.8, 5.6, 2.2]),\n",
       "  array([6.4, 2.8, 5.6, 2.1]),\n",
       "  array([5.8, 2.8, 5.1, 2.4]),\n",
       "  array([6.3, 2.8, 5.1, 1.5]),\n",
       "  array([5.6, 2.8, 4.9, 2. ]),\n",
       "  array([6.2, 2.8, 4.8, 1.8]),\n",
       "  array([6.8, 2.8, 4.8, 1.4]),\n",
       "  array([6.1, 2.8, 4.7, 1.2]),\n",
       "  array([6.5, 2.8, 4.6, 1.5]),\n",
       "  array([5.7, 2.8, 4.5, 1.3]),\n",
       "  array([5.7, 2.8, 4.1, 1.3]),\n",
       "  array([6.1, 2.8, 4. , 1.3]),\n",
       "  array([6.4, 2.7, 5.3, 1.9]),\n",
       "  array([5.8, 2.7, 5.1, 1.9]),\n",
       "  array([5.8, 2.7, 5.1, 1.9]),\n",
       "  array([6. , 2.7, 5.1, 1.6]),\n",
       "  array([6.3, 2.7, 4.9, 1.8]),\n",
       "  array([5.6, 2.7, 4.2, 1.3]),\n",
       "  array([5.8, 2.7, 4.1, 1. ]),\n",
       "  array([5.2, 2.7, 3.9, 1.4]),\n",
       "  array([5.8, 2.7, 3.9, 1.2]),\n",
       "  array([7.7, 2.6, 6.9, 2.3]),\n",
       "  array([6.1, 2.6, 5.6, 1.4]),\n",
       "  array([5.5, 2.6, 4.4, 1.2]),\n",
       "  array([5.8, 2.6, 4. , 1.2]),\n",
       "  array([6.7, 2.5, 5.8, 1.8]),\n",
       "  array([5.7, 2.5, 5. , 2. ]),\n",
       "  array([6.3, 2.5, 5. , 1.9]),\n",
       "  array([6.3, 2.5, 4.9, 1.5]),\n",
       "  array([4.9, 2.5, 4.5, 1.7]),\n",
       "  array([5.5, 2.5, 4. , 1.3]),\n",
       "  array([5.6, 2.5, 3.9, 1.1]),\n",
       "  array([5.5, 2.4, 3.8, 1.1]),\n",
       "  array([6.3, 2.3, 4.4, 1.3]),\n",
       "  array([5.5, 2.3, 4. , 1.3]),\n",
       "  array([6. , 2.2, 5. , 1.5]),\n",
       "  array([6.2, 2.2, 4.5, 1.5]),\n",
       "  array([6. , 2.2, 4. , 1. ])],\n",
       " 1: [array([5.7, 4.4, 1.5, 0.4]),\n",
       "  array([5.5, 4.2, 1.4, 0.2]),\n",
       "  array([5.2, 4.1, 1.5, 0.1]),\n",
       "  array([5.8, 4. , 1.2, 0.2]),\n",
       "  array([5.4, 3.9, 1.7, 0.4]),\n",
       "  array([5.4, 3.9, 1.3, 0.4]),\n",
       "  array([5.1, 3.8, 1.9, 0.4]),\n",
       "  array([5.7, 3.8, 1.7, 0.3]),\n",
       "  array([5.1, 3.8, 1.6, 0.2]),\n",
       "  array([5.1, 3.8, 1.5, 0.3]),\n",
       "  array([5.1, 3.7, 1.5, 0.4]),\n",
       "  array([5.4, 3.7, 1.5, 0.2]),\n",
       "  array([5.3, 3.7, 1.5, 0.2]),\n",
       "  array([5. , 3.6, 1.4, 0.2]),\n",
       "  array([4.6, 3.6, 1. , 0.2]),\n",
       "  array([5.2, 3.5, 1.5, 0.2]),\n",
       "  array([5.1, 3.5, 1.4, 0.3]),\n",
       "  array([5.1, 3.5, 1.4, 0.2]),\n",
       "  array([5. , 3.5, 1.3, 0.3]),\n",
       "  array([5.5, 3.5, 1.3, 0.2]),\n",
       "  array([5.4, 3.4, 1.7, 0.2]),\n",
       "  array([5.4, 3.4, 1.5, 0.4]),\n",
       "  array([5.1, 3.4, 1.5, 0.2]),\n",
       "  array([5.2, 3.4, 1.4, 0.2]),\n",
       "  array([5. , 3.2, 1.2, 0.2])],\n",
       " 2: [array([5. , 3.5, 1.6, 0.6]),\n",
       "  array([4.8, 3.4, 1.9, 0.2]),\n",
       "  array([5. , 3.4, 1.6, 0.4]),\n",
       "  array([4.8, 3.4, 1.6, 0.2]),\n",
       "  array([5. , 3.4, 1.5, 0.2]),\n",
       "  array([4.6, 3.4, 1.4, 0.3]),\n",
       "  array([5.1, 3.3, 1.7, 0.5]),\n",
       "  array([5. , 3.3, 1.4, 0.2]),\n",
       "  array([4.7, 3.2, 1.6, 0.2]),\n",
       "  array([4.6, 3.2, 1.4, 0.2]),\n",
       "  array([4.7, 3.2, 1.3, 0.2]),\n",
       "  array([4.4, 3.2, 1.3, 0.2]),\n",
       "  array([4.8, 3.1, 1.6, 0.2]),\n",
       "  array([4.6, 3.1, 1.5, 0.2]),\n",
       "  array([4.9, 3.1, 1.5, 0.1]),\n",
       "  array([4.9, 3.1, 1.5, 0.1]),\n",
       "  array([4.9, 3.1, 1.5, 0.1]),\n",
       "  array([5. , 3. , 1.6, 0.2]),\n",
       "  array([4.8, 3. , 1.4, 0.3]),\n",
       "  array([4.9, 3. , 1.4, 0.2]),\n",
       "  array([4.8, 3. , 1.4, 0.1]),\n",
       "  array([4.4, 3. , 1.3, 0.2]),\n",
       "  array([4.3, 3. , 1.1, 0.1]),\n",
       "  array([5.6, 2.9, 3.6, 1.3]),\n",
       "  array([4.4, 2.9, 1.4, 0.2]),\n",
       "  array([5.7, 2.6, 3.5, 1. ]),\n",
       "  array([5.1, 2.5, 3. , 1.1]),\n",
       "  array([5.5, 2.4, 3.7, 1. ]),\n",
       "  array([4.9, 2.4, 3.3, 1. ]),\n",
       "  array([5. , 2.3, 3.3, 1. ]),\n",
       "  array([4.5, 2.3, 1.3, 0.3]),\n",
       "  array([5. , 2. , 3.5, 1. ])]}"
      ]
     },
     "execution_count": 27,
     "metadata": {},
     "output_type": "execute_result"
    }
   ],
   "source": [
    "classes"
   ]
  },
  {
   "cell_type": "code",
   "execution_count": 24,
   "metadata": {},
   "outputs": [
    {
     "data": {
      "text/plain": [
       "array([[6.33763441, 2.90430108, 5.01827957, 1.72258065],\n",
       "       [5.256     , 3.692     , 1.456     , 0.26      ],\n",
       "       [4.865625  , 2.990625  , 1.896875  , 0.409375  ]])"
      ]
     },
     "execution_count": 24,
     "metadata": {},
     "output_type": "execute_result"
    }
   ],
   "source": [
    "centroids = np.array(list(centroids.values()))\n",
    "centroids"
   ]
  },
  {
   "cell_type": "code",
   "execution_count": 26,
   "metadata": {},
   "outputs": [
    {
     "data": {
      "text/plain": [
       "<matplotlib.collections.PathCollection at 0x2153572d308>"
      ]
     },
     "execution_count": 26,
     "metadata": {},
     "output_type": "execute_result"
    },
    {
     "data": {
      "image/png": "[encoded data removed]",
      "text/plain": [
       "<Figure size 432x288 with 1 Axes>"
      ]
     },
     "metadata": {
      "needs_background": "light"
     },
     "output_type": "display_data"
    }
   ],
   "source": [
    "n = 150\n",
    "for i in range(n):\n",
    "    plt.scatter(data[i, 0], data[i,1], s=10)\n",
    "plt.scatter(centroids[:,0], centroids[:,1], marker='*',s=200)"
   ]
  },
  {
   "cell_type": "code",
   "execution_count": null,
   "metadata": {},
   "outputs": [],
   "source": [
    "data = df.values[:, 0:4]\n",
    "plt.scatter(data[:,0],data[:,1],c='black')\n",
    "plt.scatter(avg[:,0], avg[:,1], marker='*',s=200)"
   ]
  },
  {
   "cell_type": "code",
   "execution_count": 53,
   "metadata": {},
   "outputs": [
    {
     "ename": "ValueError",
     "evalue": "zero-dimensional arrays cannot be concatenated",
     "output_type": "error",
     "traceback": [
      "\u001b[1;31m---------------------------------------------------------------------------\u001b[0m",
      "\u001b[1;31mValueError\u001b[0m                                Traceback (most recent call last)",
      "\u001b[1;32m<ipython-input-53-898d3c0b1711>\u001b[0m in \u001b[0;36m<module>\u001b[1;34m\u001b[0m\n\u001b[0;32m      1\u001b[0m \u001b[1;32mfor\u001b[0m \u001b[0mx\u001b[0m\u001b[1;33m,\u001b[0m\u001b[0my\u001b[0m \u001b[1;32min\u001b[0m \u001b[0mclasses\u001b[0m\u001b[1;33m.\u001b[0m\u001b[0mitems\u001b[0m\u001b[1;33m(\u001b[0m\u001b[1;33m)\u001b[0m\u001b[1;33m:\u001b[0m\u001b[1;33m\u001b[0m\u001b[1;33m\u001b[0m\u001b[0m\n\u001b[1;32m----> 2\u001b[1;33m     \u001b[0mdtm\u001b[0m \u001b[1;33m=\u001b[0m \u001b[0mnp\u001b[0m\u001b[1;33m.\u001b[0m\u001b[0mconcatenate\u001b[0m\u001b[1;33m(\u001b[0m\u001b[1;33m(\u001b[0m\u001b[0mx\u001b[0m\u001b[1;33m,\u001b[0m\u001b[0my\u001b[0m\u001b[1;33m)\u001b[0m\u001b[1;33m,\u001b[0m \u001b[0maxis\u001b[0m \u001b[1;33m=\u001b[0m \u001b[1;36m0\u001b[0m\u001b[1;33m)\u001b[0m\u001b[1;33m\u001b[0m\u001b[1;33m\u001b[0m\u001b[0m\n\u001b[0m\u001b[0;32m      3\u001b[0m \u001b[0mdtm\u001b[0m\u001b[1;33m\u001b[0m\u001b[1;33m\u001b[0m\u001b[0m\n",
      "\u001b[1;32m<__array_function__ internals>\u001b[0m in \u001b[0;36mconcatenate\u001b[1;34m(*args, **kwargs)\u001b[0m\n",
      "\u001b[1;31mValueError\u001b[0m: zero-dimensional arrays cannot be concatenated"
     ]
    }
   ],
   "source": [
    "for x,y in classes.items():\n",
    "    dtm = np.concatenate((x,y), axis = 0)\n",
    "dtm"
   ]
  },
  {
   "cell_type": "code",
   "execution_count": 64,
   "metadata": {},
   "outputs": [
    {
     "name": "stdout",
     "output_type": "stream",
     "text": [
      "[array([7.7, 3.8, 6.7, 2.2]), array([7.9, 3.8, 6.4, 2. ]), array([7.2, 3.6, 6.1, 2.5]), array([6.3, 3.4, 5.6, 2.4]), array([6.2, 3.4, 5.4, 2.3]), array([6. , 3.4, 4.5, 1.6]), array([6.3, 3.3, 6. , 2.5]), array([6.7, 3.3, 5.7, 2.5]), array([6.7, 3.3, 5.7, 2.1]), array([6.3, 3.3, 4.7, 1.6]), array([7.2, 3.2, 6. , 1.8]), array([6.8, 3.2, 5.9, 2.3]), array([6.9, 3.2, 5.7, 2.3]), array([6.4, 3.2, 5.3, 2.3]), array([6.5, 3.2, 5.1, 2. ]), array([5.9, 3.2, 4.8, 1.8]), array([7. , 3.2, 4.7, 1.4]), array([6.4, 3.2, 4.5, 1.5]), array([6.7, 3.1, 5.6, 2.4]), array([6.4, 3.1, 5.5, 1.8]), array([6.9, 3.1, 5.4, 2.1]), array([6.9, 3.1, 5.1, 2.3]), array([6.9, 3.1, 4.9, 1.5]), array([6.7, 3.1, 4.7, 1.5]), array([6.7, 3.1, 4.4, 1.4]), array([7.6, 3. , 6.6, 2.1]), array([7.7, 3. , 6.1, 2.3]), array([7.1, 3. , 5.9, 2.1]), array([6.5, 3. , 5.8, 2.2]), array([7.2, 3. , 5.8, 1.6]), array([6.8, 3. , 5.5, 2.1]), array([6.5, 3. , 5.5, 1.8]), array([6.7, 3. , 5.2, 2.3]), array([6.5, 3. , 5.2, 2. ]), array([5.9, 3. , 5.1, 1.8]), array([6.7, 3. , 5. , 1.7]), array([6.1, 3. , 4.9, 1.8]), array([6. , 3. , 4.8, 1.8]), array([6.1, 3. , 4.6, 1.4]), array([5.6, 3. , 4.5, 1.5]), array([5.4, 3. , 4.5, 1.5]), array([6.6, 3. , 4.4, 1.4]), array([5.9, 3. , 4.2, 1.5]), array([5.7, 3. , 4.2, 1.2]), array([5.6, 3. , 4.1, 1.3]), array([7.3, 2.9, 6.3, 1.8]), array([6.3, 2.9, 5.6, 1.8]), array([6.1, 2.9, 4.7, 1.4]), array([6.6, 2.9, 4.6, 1.3]), array([6. , 2.9, 4.5, 1.5]), array([6.4, 2.9, 4.3, 1.3]), array([6.2, 2.9, 4.3, 1.3]), array([5.7, 2.9, 4.2, 1.3]), array([7.7, 2.8, 6.7, 2. ]), array([7.4, 2.8, 6.1, 1.9]), array([6.4, 2.8, 5.6, 2.2]), array([6.4, 2.8, 5.6, 2.1]), array([5.8, 2.8, 5.1, 2.4]), array([6.3, 2.8, 5.1, 1.5]), array([5.6, 2.8, 4.9, 2. ]), array([6.2, 2.8, 4.8, 1.8]), array([6.8, 2.8, 4.8, 1.4]), array([6.1, 2.8, 4.7, 1.2]), array([6.5, 2.8, 4.6, 1.5]), array([5.7, 2.8, 4.5, 1.3]), array([5.7, 2.8, 4.1, 1.3]), array([6.1, 2.8, 4. , 1.3]), array([6.4, 2.7, 5.3, 1.9]), array([5.8, 2.7, 5.1, 1.9]), array([5.8, 2.7, 5.1, 1.9]), array([6. , 2.7, 5.1, 1.6]), array([6.3, 2.7, 4.9, 1.8]), array([5.6, 2.7, 4.2, 1.3]), array([5.8, 2.7, 4.1, 1. ]), array([5.2, 2.7, 3.9, 1.4]), array([5.8, 2.7, 3.9, 1.2]), array([7.7, 2.6, 6.9, 2.3]), array([6.1, 2.6, 5.6, 1.4]), array([5.5, 2.6, 4.4, 1.2]), array([5.8, 2.6, 4. , 1.2]), array([6.7, 2.5, 5.8, 1.8]), array([5.7, 2.5, 5. , 2. ]), array([6.3, 2.5, 5. , 1.9]), array([6.3, 2.5, 4.9, 1.5]), array([4.9, 2.5, 4.5, 1.7]), array([5.5, 2.5, 4. , 1.3]), array([5.6, 2.5, 3.9, 1.1]), array([5.5, 2.4, 3.8, 1.1]), array([6.3, 2.3, 4.4, 1.3]), array([5.5, 2.3, 4. , 1.3]), array([6. , 2.2, 5. , 1.5]), array([6.2, 2.2, 4.5, 1.5]), array([6. , 2.2, 4. , 1. ])]\n",
      ":)\n",
      "[array([5.7, 4.4, 1.5, 0.4]), array([5.5, 4.2, 1.4, 0.2]), array([5.2, 4.1, 1.5, 0.1]), array([5.8, 4. , 1.2, 0.2]), array([5.4, 3.9, 1.7, 0.4]), array([5.4, 3.9, 1.3, 0.4]), array([5.1, 3.8, 1.9, 0.4]), array([5.7, 3.8, 1.7, 0.3]), array([5.1, 3.8, 1.6, 0.2]), array([5.1, 3.8, 1.5, 0.3]), array([5.1, 3.7, 1.5, 0.4]), array([5.4, 3.7, 1.5, 0.2]), array([5.3, 3.7, 1.5, 0.2]), array([5. , 3.6, 1.4, 0.2]), array([4.6, 3.6, 1. , 0.2]), array([5.2, 3.5, 1.5, 0.2]), array([5.1, 3.5, 1.4, 0.3]), array([5.1, 3.5, 1.4, 0.2]), array([5. , 3.5, 1.3, 0.3]), array([5.5, 3.5, 1.3, 0.2]), array([5.4, 3.4, 1.7, 0.2]), array([5.4, 3.4, 1.5, 0.4]), array([5.1, 3.4, 1.5, 0.2]), array([5.2, 3.4, 1.4, 0.2]), array([5. , 3.2, 1.2, 0.2])]\n",
      ":)\n",
      "[array([5. , 3.5, 1.6, 0.6]), array([4.8, 3.4, 1.9, 0.2]), array([5. , 3.4, 1.6, 0.4]), array([4.8, 3.4, 1.6, 0.2]), array([5. , 3.4, 1.5, 0.2]), array([4.6, 3.4, 1.4, 0.3]), array([5.1, 3.3, 1.7, 0.5]), array([5. , 3.3, 1.4, 0.2]), array([4.7, 3.2, 1.6, 0.2]), array([4.6, 3.2, 1.4, 0.2]), array([4.7, 3.2, 1.3, 0.2]), array([4.4, 3.2, 1.3, 0.2]), array([4.8, 3.1, 1.6, 0.2]), array([4.6, 3.1, 1.5, 0.2]), array([4.9, 3.1, 1.5, 0.1]), array([4.9, 3.1, 1.5, 0.1]), array([4.9, 3.1, 1.5, 0.1]), array([5. , 3. , 1.6, 0.2]), array([4.8, 3. , 1.4, 0.3]), array([4.9, 3. , 1.4, 0.2]), array([4.8, 3. , 1.4, 0.1]), array([4.4, 3. , 1.3, 0.2]), array([4.3, 3. , 1.1, 0.1]), array([5.6, 2.9, 3.6, 1.3]), array([4.4, 2.9, 1.4, 0.2]), array([5.7, 2.6, 3.5, 1. ]), array([5.1, 2.5, 3. , 1.1]), array([5.5, 2.4, 3.7, 1. ]), array([4.9, 2.4, 3.3, 1. ]), array([5. , 2.3, 3.3, 1. ]), array([4.5, 2.3, 1.3, 0.3]), array([5. , 2. , 3.5, 1. ])]\n",
      ":)\n"
     ]
    }
   ],
   "source": [
    "for x in classes.values():\n",
    "    print(x)\n",
    "    print(\":)\")"
   ]
  },
  {
   "cell_type": "code",
   "execution_count": 71,
   "metadata": {},
   "outputs": [
    {
     "name": "stdout",
     "output_type": "stream",
     "text": [
      "[array([7.7, 3.8, 6.7, 2.2]), array([7.9, 3.8, 6.4, 2. ]), array([7.2, 3.6, 6.1, 2.5]), array([6.3, 3.4, 5.6, 2.4]), array([6.2, 3.4, 5.4, 2.3]), array([6. , 3.4, 4.5, 1.6]), array([6.3, 3.3, 6. , 2.5]), array([6.7, 3.3, 5.7, 2.5]), array([6.7, 3.3, 5.7, 2.1]), array([6.3, 3.3, 4.7, 1.6]), array([7.2, 3.2, 6. , 1.8]), array([6.8, 3.2, 5.9, 2.3]), array([6.9, 3.2, 5.7, 2.3]), array([6.4, 3.2, 5.3, 2.3]), array([6.5, 3.2, 5.1, 2. ]), array([5.9, 3.2, 4.8, 1.8]), array([7. , 3.2, 4.7, 1.4]), array([6.4, 3.2, 4.5, 1.5]), array([6.7, 3.1, 5.6, 2.4]), array([6.4, 3.1, 5.5, 1.8]), array([6.9, 3.1, 5.4, 2.1]), array([6.9, 3.1, 5.1, 2.3]), array([6.9, 3.1, 4.9, 1.5]), array([6.7, 3.1, 4.7, 1.5]), array([6.7, 3.1, 4.4, 1.4]), array([7.6, 3. , 6.6, 2.1]), array([7.7, 3. , 6.1, 2.3]), array([7.1, 3. , 5.9, 2.1]), array([6.5, 3. , 5.8, 2.2]), array([7.2, 3. , 5.8, 1.6]), array([6.8, 3. , 5.5, 2.1]), array([6.5, 3. , 5.5, 1.8]), array([6.7, 3. , 5.2, 2.3]), array([6.5, 3. , 5.2, 2. ]), array([5.9, 3. , 5.1, 1.8]), array([6.7, 3. , 5. , 1.7]), array([6.1, 3. , 4.9, 1.8]), array([6. , 3. , 4.8, 1.8]), array([6.1, 3. , 4.6, 1.4]), array([5.6, 3. , 4.5, 1.5]), array([5.4, 3. , 4.5, 1.5]), array([6.6, 3. , 4.4, 1.4]), array([5.9, 3. , 4.2, 1.5]), array([5.7, 3. , 4.2, 1.2]), array([5.6, 3. , 4.1, 1.3]), array([7.3, 2.9, 6.3, 1.8]), array([6.3, 2.9, 5.6, 1.8]), array([6.1, 2.9, 4.7, 1.4]), array([6.6, 2.9, 4.6, 1.3]), array([6. , 2.9, 4.5, 1.5]), array([6.4, 2.9, 4.3, 1.3]), array([6.2, 2.9, 4.3, 1.3]), array([5.7, 2.9, 4.2, 1.3]), array([7.7, 2.8, 6.7, 2. ]), array([7.4, 2.8, 6.1, 1.9]), array([6.4, 2.8, 5.6, 2.2]), array([6.4, 2.8, 5.6, 2.1]), array([5.8, 2.8, 5.1, 2.4]), array([6.3, 2.8, 5.1, 1.5]), array([5.6, 2.8, 4.9, 2. ]), array([6.2, 2.8, 4.8, 1.8]), array([6.8, 2.8, 4.8, 1.4]), array([6.1, 2.8, 4.7, 1.2]), array([6.5, 2.8, 4.6, 1.5]), array([5.7, 2.8, 4.5, 1.3]), array([5.7, 2.8, 4.1, 1.3]), array([6.1, 2.8, 4. , 1.3]), array([6.4, 2.7, 5.3, 1.9]), array([5.8, 2.7, 5.1, 1.9]), array([5.8, 2.7, 5.1, 1.9]), array([6. , 2.7, 5.1, 1.6]), array([6.3, 2.7, 4.9, 1.8]), array([5.6, 2.7, 4.2, 1.3]), array([5.8, 2.7, 4.1, 1. ]), array([5.2, 2.7, 3.9, 1.4]), array([5.8, 2.7, 3.9, 1.2]), array([7.7, 2.6, 6.9, 2.3]), array([6.1, 2.6, 5.6, 1.4]), array([5.5, 2.6, 4.4, 1.2]), array([5.8, 2.6, 4. , 1.2]), array([6.7, 2.5, 5.8, 1.8]), array([5.7, 2.5, 5. , 2. ]), array([6.3, 2.5, 5. , 1.9]), array([6.3, 2.5, 4.9, 1.5]), array([4.9, 2.5, 4.5, 1.7]), array([5.5, 2.5, 4. , 1.3]), array([5.6, 2.5, 3.9, 1.1]), array([5.5, 2.4, 3.8, 1.1]), array([6.3, 2.3, 4.4, 1.3]), array([5.5, 2.3, 4. , 1.3]), array([6. , 2.2, 5. , 1.5]), array([6.2, 2.2, 4.5, 1.5]), array([6. , 2.2, 4. , 1. ])]\n",
      "[array([5.7, 4.4, 1.5, 0.4]), array([5.5, 4.2, 1.4, 0.2]), array([5.2, 4.1, 1.5, 0.1]), array([5.8, 4. , 1.2, 0.2]), array([5.4, 3.9, 1.7, 0.4]), array([5.4, 3.9, 1.3, 0.4]), array([5.1, 3.8, 1.9, 0.4]), array([5.7, 3.8, 1.7, 0.3]), array([5.1, 3.8, 1.6, 0.2]), array([5.1, 3.8, 1.5, 0.3]), array([5.1, 3.7, 1.5, 0.4]), array([5.4, 3.7, 1.5, 0.2]), array([5.3, 3.7, 1.5, 0.2]), array([5. , 3.6, 1.4, 0.2]), array([4.6, 3.6, 1. , 0.2]), array([5.2, 3.5, 1.5, 0.2]), array([5.1, 3.5, 1.4, 0.3]), array([5.1, 3.5, 1.4, 0.2]), array([5. , 3.5, 1.3, 0.3]), array([5.5, 3.5, 1.3, 0.2]), array([5.4, 3.4, 1.7, 0.2]), array([5.4, 3.4, 1.5, 0.4]), array([5.1, 3.4, 1.5, 0.2]), array([5.2, 3.4, 1.4, 0.2]), array([5. , 3.2, 1.2, 0.2])]\n",
      "[array([5. , 3.5, 1.6, 0.6]), array([4.8, 3.4, 1.9, 0.2]), array([5. , 3.4, 1.6, 0.4]), array([4.8, 3.4, 1.6, 0.2]), array([5. , 3.4, 1.5, 0.2]), array([4.6, 3.4, 1.4, 0.3]), array([5.1, 3.3, 1.7, 0.5]), array([5. , 3.3, 1.4, 0.2]), array([4.7, 3.2, 1.6, 0.2]), array([4.6, 3.2, 1.4, 0.2]), array([4.7, 3.2, 1.3, 0.2]), array([4.4, 3.2, 1.3, 0.2]), array([4.8, 3.1, 1.6, 0.2]), array([4.6, 3.1, 1.5, 0.2]), array([4.9, 3.1, 1.5, 0.1]), array([4.9, 3.1, 1.5, 0.1]), array([4.9, 3.1, 1.5, 0.1]), array([5. , 3. , 1.6, 0.2]), array([4.8, 3. , 1.4, 0.3]), array([4.9, 3. , 1.4, 0.2]), array([4.8, 3. , 1.4, 0.1]), array([4.4, 3. , 1.3, 0.2]), array([4.3, 3. , 1.1, 0.1]), array([5.6, 2.9, 3.6, 1.3]), array([4.4, 2.9, 1.4, 0.2]), array([5.7, 2.6, 3.5, 1. ]), array([5.1, 2.5, 3. , 1.1]), array([5.5, 2.4, 3.7, 1. ]), array([4.9, 2.4, 3.3, 1. ]), array([5. , 2.3, 3.3, 1. ]), array([4.5, 2.3, 1.3, 0.3]), array([5. , 2. , 3.5, 1. ])]\n"
     ]
    }
   ],
   "source": [
    "for x, y in classes.items():\n",
    "  print(y.)\n"
   ]
  },
  {
   "cell_type": "code",
   "execution_count": 41,
   "metadata": {},
   "outputs": [],
   "source": [
    "newdf=df.to_numpy()"
   ]
  },
  {
   "cell_type": "code",
   "execution_count": 72,
   "metadata": {},
   "outputs": [
    {
     "data": {
      "text/plain": [
       "dict_items([(0, [array([7.7, 3.8, 6.7, 2.2]), array([7.9, 3.8, 6.4, 2. ]), array([7.2, 3.6, 6.1, 2.5]), array([6.3, 3.4, 5.6, 2.4]), array([6.2, 3.4, 5.4, 2.3]), array([6. , 3.4, 4.5, 1.6]), array([6.3, 3.3, 6. , 2.5]), array([6.7, 3.3, 5.7, 2.5]), array([6.7, 3.3, 5.7, 2.1]), array([6.3, 3.3, 4.7, 1.6]), array([7.2, 3.2, 6. , 1.8]), array([6.8, 3.2, 5.9, 2.3]), array([6.9, 3.2, 5.7, 2.3]), array([6.4, 3.2, 5.3, 2.3]), array([6.5, 3.2, 5.1, 2. ]), array([5.9, 3.2, 4.8, 1.8]), array([7. , 3.2, 4.7, 1.4]), array([6.4, 3.2, 4.5, 1.5]), array([6.7, 3.1, 5.6, 2.4]), array([6.4, 3.1, 5.5, 1.8]), array([6.9, 3.1, 5.4, 2.1]), array([6.9, 3.1, 5.1, 2.3]), array([6.9, 3.1, 4.9, 1.5]), array([6.7, 3.1, 4.7, 1.5]), array([6.7, 3.1, 4.4, 1.4]), array([7.6, 3. , 6.6, 2.1]), array([7.7, 3. , 6.1, 2.3]), array([7.1, 3. , 5.9, 2.1]), array([6.5, 3. , 5.8, 2.2]), array([7.2, 3. , 5.8, 1.6]), array([6.8, 3. , 5.5, 2.1]), array([6.5, 3. , 5.5, 1.8]), array([6.7, 3. , 5.2, 2.3]), array([6.5, 3. , 5.2, 2. ]), array([5.9, 3. , 5.1, 1.8]), array([6.7, 3. , 5. , 1.7]), array([6.1, 3. , 4.9, 1.8]), array([6. , 3. , 4.8, 1.8]), array([6.1, 3. , 4.6, 1.4]), array([5.6, 3. , 4.5, 1.5]), array([5.4, 3. , 4.5, 1.5]), array([6.6, 3. , 4.4, 1.4]), array([5.9, 3. , 4.2, 1.5]), array([5.7, 3. , 4.2, 1.2]), array([5.6, 3. , 4.1, 1.3]), array([7.3, 2.9, 6.3, 1.8]), array([6.3, 2.9, 5.6, 1.8]), array([6.1, 2.9, 4.7, 1.4]), array([6.6, 2.9, 4.6, 1.3]), array([6. , 2.9, 4.5, 1.5]), array([6.4, 2.9, 4.3, 1.3]), array([6.2, 2.9, 4.3, 1.3]), array([5.7, 2.9, 4.2, 1.3]), array([7.7, 2.8, 6.7, 2. ]), array([7.4, 2.8, 6.1, 1.9]), array([6.4, 2.8, 5.6, 2.2]), array([6.4, 2.8, 5.6, 2.1]), array([5.8, 2.8, 5.1, 2.4]), array([6.3, 2.8, 5.1, 1.5]), array([5.6, 2.8, 4.9, 2. ]), array([6.2, 2.8, 4.8, 1.8]), array([6.8, 2.8, 4.8, 1.4]), array([6.1, 2.8, 4.7, 1.2]), array([6.5, 2.8, 4.6, 1.5]), array([5.7, 2.8, 4.5, 1.3]), array([5.7, 2.8, 4.1, 1.3]), array([6.1, 2.8, 4. , 1.3]), array([6.4, 2.7, 5.3, 1.9]), array([5.8, 2.7, 5.1, 1.9]), array([5.8, 2.7, 5.1, 1.9]), array([6. , 2.7, 5.1, 1.6]), array([6.3, 2.7, 4.9, 1.8]), array([5.6, 2.7, 4.2, 1.3]), array([5.8, 2.7, 4.1, 1. ]), array([5.2, 2.7, 3.9, 1.4]), array([5.8, 2.7, 3.9, 1.2]), array([7.7, 2.6, 6.9, 2.3]), array([6.1, 2.6, 5.6, 1.4]), array([5.5, 2.6, 4.4, 1.2]), array([5.8, 2.6, 4. , 1.2]), array([6.7, 2.5, 5.8, 1.8]), array([5.7, 2.5, 5. , 2. ]), array([6.3, 2.5, 5. , 1.9]), array([6.3, 2.5, 4.9, 1.5]), array([4.9, 2.5, 4.5, 1.7]), array([5.5, 2.5, 4. , 1.3]), array([5.6, 2.5, 3.9, 1.1]), array([5.5, 2.4, 3.8, 1.1]), array([6.3, 2.3, 4.4, 1.3]), array([5.5, 2.3, 4. , 1.3]), array([6. , 2.2, 5. , 1.5]), array([6.2, 2.2, 4.5, 1.5]), array([6. , 2.2, 4. , 1. ])]), (1, [array([5.7, 4.4, 1.5, 0.4]), array([5.5, 4.2, 1.4, 0.2]), array([5.2, 4.1, 1.5, 0.1]), array([5.8, 4. , 1.2, 0.2]), array([5.4, 3.9, 1.7, 0.4]), array([5.4, 3.9, 1.3, 0.4]), array([5.1, 3.8, 1.9, 0.4]), array([5.7, 3.8, 1.7, 0.3]), array([5.1, 3.8, 1.6, 0.2]), array([5.1, 3.8, 1.5, 0.3]), array([5.1, 3.7, 1.5, 0.4]), array([5.4, 3.7, 1.5, 0.2]), array([5.3, 3.7, 1.5, 0.2]), array([5. , 3.6, 1.4, 0.2]), array([4.6, 3.6, 1. , 0.2]), array([5.2, 3.5, 1.5, 0.2]), array([5.1, 3.5, 1.4, 0.3]), array([5.1, 3.5, 1.4, 0.2]), array([5. , 3.5, 1.3, 0.3]), array([5.5, 3.5, 1.3, 0.2]), array([5.4, 3.4, 1.7, 0.2]), array([5.4, 3.4, 1.5, 0.4]), array([5.1, 3.4, 1.5, 0.2]), array([5.2, 3.4, 1.4, 0.2]), array([5. , 3.2, 1.2, 0.2])]), (2, [array([5. , 3.5, 1.6, 0.6]), array([4.8, 3.4, 1.9, 0.2]), array([5. , 3.4, 1.6, 0.4]), array([4.8, 3.4, 1.6, 0.2]), array([5. , 3.4, 1.5, 0.2]), array([4.6, 3.4, 1.4, 0.3]), array([5.1, 3.3, 1.7, 0.5]), array([5. , 3.3, 1.4, 0.2]), array([4.7, 3.2, 1.6, 0.2]), array([4.6, 3.2, 1.4, 0.2]), array([4.7, 3.2, 1.3, 0.2]), array([4.4, 3.2, 1.3, 0.2]), array([4.8, 3.1, 1.6, 0.2]), array([4.6, 3.1, 1.5, 0.2]), array([4.9, 3.1, 1.5, 0.1]), array([4.9, 3.1, 1.5, 0.1]), array([4.9, 3.1, 1.5, 0.1]), array([5. , 3. , 1.6, 0.2]), array([4.8, 3. , 1.4, 0.3]), array([4.9, 3. , 1.4, 0.2]), array([4.8, 3. , 1.4, 0.1]), array([4.4, 3. , 1.3, 0.2]), array([4.3, 3. , 1.1, 0.1]), array([5.6, 2.9, 3.6, 1.3]), array([4.4, 2.9, 1.4, 0.2]), array([5.7, 2.6, 3.5, 1. ]), array([5.1, 2.5, 3. , 1.1]), array([5.5, 2.4, 3.7, 1. ]), array([4.9, 2.4, 3.3, 1. ]), array([5. , 2.3, 3.3, 1. ]), array([4.5, 2.3, 1.3, 0.3]), array([5. , 2. , 3.5, 1. ])])])"
      ]
     },
     "execution_count": 72,
     "metadata": {},
     "output_type": "execute_result"
    }
   ],
   "source": [
    "classes.items()"
   ]
  },
  {
   "cell_type": "code",
   "execution_count": 70,
   "metadata": {},
   "outputs": [
    {
     "ename": "SyntaxError",
     "evalue": "invalid syntax (<ipython-input-70-77d77c165112>, line 4)",
     "output_type": "error",
     "traceback": [
      "\u001b[1;36m  File \u001b[1;32m\"<ipython-input-70-77d77c165112>\"\u001b[1;36m, line \u001b[1;32m4\u001b[0m\n\u001b[1;33m    if newdf[i] = y\u001b[0m\n\u001b[1;37m                ^\u001b[0m\n\u001b[1;31mSyntaxError\u001b[0m\u001b[1;31m:\u001b[0m invalid syntax\n"
     ]
    }
   ],
   "source": [
    "l = []\n",
    "for i in newdf:\n",
    "    for x, y in classes.items():\n",
    "        if newdf[i] = y\n",
    "            l[i]=x"
   ]
  }
 ],
 "metadata": {
  "kernelspec": {
   "display_name": "Python 3",
   "language": "python",
   "name": "python3"
  },
  "language_info": {
   "codemirror_mode": {
    "name": "ipython",
    "version": 3
   },
   "file_extension": ".py",
   "mimetype": "text/x-python",
   "name": "python",
   "nbconvert_exporter": "python",
   "pygments_lexer": "ipython3",
   "version": "3.7.6"
  }
 },
 "nbformat": 4,
 "nbformat_minor": 4
}
