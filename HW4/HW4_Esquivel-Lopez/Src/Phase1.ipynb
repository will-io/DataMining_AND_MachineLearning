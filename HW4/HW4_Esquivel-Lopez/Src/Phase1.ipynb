{
 "cells": [
  {
   "cell_type": "code",
   "execution_count": 1,
   "metadata": {},
   "outputs": [],
   "source": [
    "import numpy as np\n",
    "import pandas as pd\n",
    "import seaborn as sns  \n",
    "import matplotlib.pyplot as plt\n",
    "import re\n",
    "import scipy\n",
    "from sklearn.datasets import make_blobs\n",
    "import random"
   ]
  },
  {
   "cell_type": "code",
   "execution_count": 2,
   "metadata": {},
   "outputs": [],
   "source": [
    "np.random.seed(99)"
   ]
  },
  {
   "cell_type": "code",
   "execution_count": 3,
   "metadata": {},
   "outputs": [],
   "source": [
    "class KMeans():\n",
    "\n",
    "    def __init__(self, data, k, precision=5):\n",
    "        self.data = data\n",
    "        self.k = k\n",
    "        self.precision = precision\n",
    "         # the centers (i.e. mean feature vector) for each cluster\n",
    "        self.centroids = []\n",
    "        # list of sample indices for each cluster and its respective size\n",
    "        self.clusters = []\n",
    "        self.cluster_sizes = []\n",
    "\n",
    "    @staticmethod\n",
    "    def dist(p1, p2):\n",
    "        \"\"\"Method returns the euclidean distance between two points\"\"\"\n",
    "        return np.linalg.norm(np.array(p1) - np.array(p2))\n",
    "\n",
    "    @staticmethod\n",
    "    def cal_centroids(_, precision):\n",
    "        \"\"\"Method returns centroids for input list of clusters\"\"\"\n",
    "        centroids = []\n",
    "        for item in _:\n",
    "            ele = len(item[0])\n",
    "            c_item = []\n",
    "            for i in range(ele):\n",
    "                c_item.append(round(np.mean([li[i] for li in item]), precision))\n",
    "            centroids.append(c_item)\n",
    "        return centroids\n",
    "\n",
    "    @staticmethod\n",
    "    def compare_lists(list_1, list_2):\n",
    "        \"\"\"Method returns True when the two lists are same else returns False\"\"\"\n",
    "        flag = True\n",
    "        for item in list_1:\n",
    "            if item not in list_2:\n",
    "                flag = False\n",
    "            break\n",
    "        if flag:\n",
    "            return True\n",
    "        else:\n",
    "            return False\n",
    "\n",
    "    def fit(self):\n",
    "        \"\"\"Method that does the clustering\"\"\"\n",
    "        # Randomly selects indices of initial centroids\n",
    "        indices = random.sample(range(len(self.data)), self.k)\n",
    "        # Initialization of initial centroids\n",
    "        for index in indices:\n",
    "            self.centroids.append(self.data[index])\n",
    "        # Loop that does the iterative calculations\n",
    "        while True:\n",
    "            # Initialization of clusters\n",
    "            self.clusters = []\n",
    "            for i in range(self.k):\n",
    "                self.clusters.append([])\n",
    "            # Calculation of Euclidean distances between each point in the data set and the centroids\n",
    "            for point in self.data:\n",
    "                distances = []\n",
    "                for centroid in self.centroids:\n",
    "                    distances.append(self.dist(point, centroid))\n",
    "                # Clustering of each point happens in this step\n",
    "                self.clusters[distances.index(min(distances))].append(point)\n",
    "            # Calculation of new centroids\n",
    "            new_centroids = self.cal_centroids(self.clusters, self.precision)\n",
    "            # Loop breaks when centroids do not change any more\n",
    "            if self.compare_lists(self.centroids, new_centroids):\n",
    "                break\n",
    "            # Updating new centroids for next iteration\n",
    "            self.centroids = new_centroids\n",
    "        # Cluster sizes\n",
    "        for cluster in self.clusters:\n",
    "            self.cluster_sizes.append(len(cluster))"
   ]
  },
  {
   "cell_type": "code",
   "execution_count": 4,
   "metadata": {},
   "outputs": [],
   "source": [
    "df = pd.read_csv('../Data/iris_test_data.txt', names=[\"s_length\", \"s_width\", \"p_length\", \"p_width\"], delim_whitespace=True)"
   ]
  },
  {
   "cell_type": "code",
   "execution_count": 5,
   "metadata": {},
   "outputs": [],
   "source": [
    "# will use as my K value\n",
    "clusters = 3"
   ]
  },
  {
   "cell_type": "code",
   "execution_count": 6,
   "metadata": {},
   "outputs": [
    {
     "data": {
      "text/html": [
       "<div>\n",
       "<style scoped>\n",
       "    .dataframe tbody tr th:only-of-type {\n",
       "        vertical-align: middle;\n",
       "    }\n",
       "\n",
       "    .dataframe tbody tr th {\n",
       "        vertical-align: top;\n",
       "    }\n",
       "\n",
       "    .dataframe thead th {\n",
       "        text-align: right;\n",
       "    }\n",
       "</style>\n",
       "<table border=\"1\" class=\"dataframe\">\n",
       "  <thead>\n",
       "    <tr style=\"text-align: right;\">\n",
       "      <th></th>\n",
       "      <th>s_length</th>\n",
       "      <th>s_width</th>\n",
       "      <th>p_length</th>\n",
       "      <th>p_width</th>\n",
       "    </tr>\n",
       "  </thead>\n",
       "  <tbody>\n",
       "    <tr>\n",
       "      <th>0</th>\n",
       "      <td>5.7</td>\n",
       "      <td>4.4</td>\n",
       "      <td>1.5</td>\n",
       "      <td>0.4</td>\n",
       "    </tr>\n",
       "    <tr>\n",
       "      <th>1</th>\n",
       "      <td>5.5</td>\n",
       "      <td>4.2</td>\n",
       "      <td>1.4</td>\n",
       "      <td>0.2</td>\n",
       "    </tr>\n",
       "    <tr>\n",
       "      <th>2</th>\n",
       "      <td>5.2</td>\n",
       "      <td>4.1</td>\n",
       "      <td>1.5</td>\n",
       "      <td>0.1</td>\n",
       "    </tr>\n",
       "    <tr>\n",
       "      <th>3</th>\n",
       "      <td>5.8</td>\n",
       "      <td>4.0</td>\n",
       "      <td>1.2</td>\n",
       "      <td>0.2</td>\n",
       "    </tr>\n",
       "    <tr>\n",
       "      <th>4</th>\n",
       "      <td>5.4</td>\n",
       "      <td>3.9</td>\n",
       "      <td>1.7</td>\n",
       "      <td>0.4</td>\n",
       "    </tr>\n",
       "  </tbody>\n",
       "</table>\n",
       "</div>"
      ],
      "text/plain": [
       "   s_length  s_width  p_length  p_width\n",
       "0       5.7      4.4       1.5      0.4\n",
       "1       5.5      4.2       1.4      0.2\n",
       "2       5.2      4.1       1.5      0.1\n",
       "3       5.8      4.0       1.2      0.2\n",
       "4       5.4      3.9       1.7      0.4"
      ]
     },
     "execution_count": 6,
     "metadata": {},
     "output_type": "execute_result"
    }
   ],
   "source": [
    "df.head()"
   ]
  },
  {
   "cell_type": "code",
   "execution_count": 18,
   "metadata": {},
   "outputs": [
    {
     "name": "stdout",
     "output_type": "stream",
     "text": [
      "[[5.7, 4.4, 1.5, 0.4], [5.5, 4.2, 1.4, 0.2], [5.2, 4.1, 1.5, 0.1], [5.8, 4.0, 1.2, 0.2], [5.4, 3.9, 1.7, 0.4], [5.4, 3.9, 1.3, 0.4], [7.7, 3.8, 6.7, 2.2], [7.9, 3.8, 6.4, 2.0], [5.1, 3.8, 1.9, 0.4], [5.7, 3.8, 1.7, 0.3], [5.1, 3.8, 1.6, 0.2], [5.1, 3.8, 1.5, 0.3], [5.1, 3.7, 1.5, 0.4], [5.4, 3.7, 1.5, 0.2], [5.3, 3.7, 1.5, 0.2], [7.2, 3.6, 6.1, 2.5], [5.0, 3.6, 1.4, 0.2], [4.6, 3.6, 1.0, 0.2], [5.0, 3.5, 1.6, 0.6], [5.2, 3.5, 1.5, 0.2], [5.1, 3.5, 1.4, 0.3], [5.1, 3.5, 1.4, 0.2], [5.0, 3.5, 1.3, 0.3], [5.5, 3.5, 1.3, 0.2], [6.3, 3.4, 5.6, 2.4], [6.2, 3.4, 5.4, 2.3], [6.0, 3.4, 4.5, 1.6], [4.8, 3.4, 1.9, 0.2], [5.4, 3.4, 1.7, 0.2], [5.0, 3.4, 1.6, 0.4], [4.8, 3.4, 1.6, 0.2], [5.4, 3.4, 1.5, 0.4], [5.1, 3.4, 1.5, 0.2], [5.0, 3.4, 1.5, 0.2], [4.6, 3.4, 1.4, 0.3], [5.2, 3.4, 1.4, 0.2], [6.3, 3.3, 6.0, 2.5], [6.7, 3.3, 5.7, 2.5], [6.7, 3.3, 5.7, 2.1], [6.3, 3.3, 4.7, 1.6], [5.1, 3.3, 1.7, 0.5], [5.0, 3.3, 1.4, 0.2], [7.2, 3.2, 6.0, 1.8], [6.8, 3.2, 5.9, 2.3], [6.9, 3.2, 5.7, 2.3], [6.4, 3.2, 5.3, 2.3], [6.5, 3.2, 5.1, 2.0], [5.9, 3.2, 4.8, 1.8], [7.0, 3.2, 4.7, 1.4], [6.4, 3.2, 4.5, 1.5], [4.7, 3.2, 1.6, 0.2], [4.6, 3.2, 1.4, 0.2], [4.7, 3.2, 1.3, 0.2], [4.4, 3.2, 1.3, 0.2], [5.0, 3.2, 1.2, 0.2], [6.7, 3.1, 5.6, 2.4], [6.4, 3.1, 5.5, 1.8], [6.9, 3.1, 5.4, 2.1], [6.9, 3.1, 5.1, 2.3], [6.9, 3.1, 4.9, 1.5], [6.7, 3.1, 4.7, 1.5], [6.7, 3.1, 4.4, 1.4], [4.8, 3.1, 1.6, 0.2], [4.6, 3.1, 1.5, 0.2], [4.9, 3.1, 1.5, 0.1], [4.9, 3.1, 1.5, 0.1], [4.9, 3.1, 1.5, 0.1], [7.6, 3.0, 6.6, 2.1], [7.7, 3.0, 6.1, 2.3], [7.1, 3.0, 5.9, 2.1], [6.5, 3.0, 5.8, 2.2], [7.2, 3.0, 5.8, 1.6], [6.8, 3.0, 5.5, 2.1], [6.5, 3.0, 5.5, 1.8], [6.7, 3.0, 5.2, 2.3], [6.5, 3.0, 5.2, 2.0], [5.9, 3.0, 5.1, 1.8], [6.7, 3.0, 5.0, 1.7], [6.1, 3.0, 4.9, 1.8], [6.0, 3.0, 4.8, 1.8], [6.1, 3.0, 4.6, 1.4], [5.6, 3.0, 4.5, 1.5], [5.4, 3.0, 4.5, 1.5], [6.6, 3.0, 4.4, 1.4], [5.9, 3.0, 4.2, 1.5], [5.7, 3.0, 4.2, 1.2], [5.6, 3.0, 4.1, 1.3], [5.0, 3.0, 1.6, 0.2], [4.8, 3.0, 1.4, 0.3], [4.9, 3.0, 1.4, 0.2], [4.8, 3.0, 1.4, 0.1], [4.4, 3.0, 1.3, 0.2], [4.3, 3.0, 1.1, 0.1], [7.3, 2.9, 6.3, 1.8], [6.3, 2.9, 5.6, 1.8], [6.1, 2.9, 4.7, 1.4], [6.6, 2.9, 4.6, 1.3], [6.0, 2.9, 4.5, 1.5], [6.4, 2.9, 4.3, 1.3], [6.2, 2.9, 4.3, 1.3], [5.7, 2.9, 4.2, 1.3], [5.6, 2.9, 3.6, 1.3], [4.4, 2.9, 1.4, 0.2], [7.7, 2.8, 6.7, 2.0], [7.4, 2.8, 6.1, 1.9], [6.4, 2.8, 5.6, 2.2], [6.4, 2.8, 5.6, 2.1], [5.8, 2.8, 5.1, 2.4], [6.3, 2.8, 5.1, 1.5], [5.6, 2.8, 4.9, 2.0], [6.2, 2.8, 4.8, 1.8], [6.8, 2.8, 4.8, 1.4], [6.1, 2.8, 4.7, 1.2], [6.5, 2.8, 4.6, 1.5], [5.7, 2.8, 4.5, 1.3], [5.7, 2.8, 4.1, 1.3], [6.1, 2.8, 4.0, 1.3], [6.4, 2.7, 5.3, 1.9], [5.8, 2.7, 5.1, 1.9], [5.8, 2.7, 5.1, 1.9], [6.0, 2.7, 5.1, 1.6], [6.3, 2.7, 4.9, 1.8], [5.6, 2.7, 4.2, 1.3], [5.8, 2.7, 4.1, 1.0], [5.2, 2.7, 3.9, 1.4], [5.8, 2.7, 3.9, 1.2], [7.7, 2.6, 6.9, 2.3], [6.1, 2.6, 5.6, 1.4], [5.5, 2.6, 4.4, 1.2], [5.8, 2.6, 4.0, 1.2], [5.7, 2.6, 3.5, 1.0], [6.7, 2.5, 5.8, 1.8], [5.7, 2.5, 5.0, 2.0], [6.3, 2.5, 5.0, 1.9], [6.3, 2.5, 4.9, 1.5], [4.9, 2.5, 4.5, 1.7], [5.5, 2.5, 4.0, 1.3], [5.6, 2.5, 3.9, 1.1], [5.1, 2.5, 3.0, 1.1], [5.5, 2.4, 3.8, 1.1], [5.5, 2.4, 3.7, 1.0], [4.9, 2.4, 3.3, 1.0], [6.3, 2.3, 4.4, 1.3], [5.5, 2.3, 4.0, 1.3], [5.0, 2.3, 3.3, 1.0], [4.5, 2.3, 1.3, 0.3], [6.0, 2.2, 5.0, 1.5], [6.2, 2.2, 4.5, 1.5], [6.0, 2.2, 4.0, 1.0], [5.0, 2.0, 3.5, 1.0]]\n"
     ]
    }
   ],
   "source": [
    "data = df.values.tolist()\n",
    "print(data)"
   ]
  },
  {
   "cell_type": "code",
   "execution_count": 19,
   "metadata": {},
   "outputs": [
    {
     "name": "stdout",
     "output_type": "stream",
     "text": [
      "[[[7.7, 3.8, 6.7, 2.2], [7.9, 3.8, 6.4, 2.0], [7.2, 3.6, 6.1, 2.5], [6.3, 3.4, 5.6, 2.4], [6.2, 3.4, 5.4, 2.3], [6.3, 3.3, 6.0, 2.5], [6.7, 3.3, 5.7, 2.5], [6.7, 3.3, 5.7, 2.1], [7.2, 3.2, 6.0, 1.8], [6.8, 3.2, 5.9, 2.3], [6.9, 3.2, 5.7, 2.3], [6.4, 3.2, 5.3, 2.3], [6.5, 3.2, 5.1, 2.0], [7.0, 3.2, 4.7, 1.4], [6.7, 3.1, 5.6, 2.4], [6.4, 3.1, 5.5, 1.8], [6.9, 3.1, 5.4, 2.1], [6.9, 3.1, 5.1, 2.3], [6.9, 3.1, 4.9, 1.5], [7.6, 3.0, 6.6, 2.1], [7.7, 3.0, 6.1, 2.3], [7.1, 3.0, 5.9, 2.1], [6.5, 3.0, 5.8, 2.2], [7.2, 3.0, 5.8, 1.6], [6.8, 3.0, 5.5, 2.1], [6.5, 3.0, 5.5, 1.8], [6.7, 3.0, 5.2, 2.3], [6.5, 3.0, 5.2, 2.0], [6.7, 3.0, 5.0, 1.7], [7.3, 2.9, 6.3, 1.8], [6.3, 2.9, 5.6, 1.8], [7.7, 2.8, 6.7, 2.0], [7.4, 2.8, 6.1, 1.9], [6.4, 2.8, 5.6, 2.2], [6.4, 2.8, 5.6, 2.1], [6.4, 2.7, 5.3, 1.9], [7.7, 2.6, 6.9, 2.3], [6.1, 2.6, 5.6, 1.4], [6.7, 2.5, 5.8, 1.8]], [[6.0, 3.4, 4.5, 1.6], [6.3, 3.3, 4.7, 1.6], [5.9, 3.2, 4.8, 1.8], [6.4, 3.2, 4.5, 1.5], [6.7, 3.1, 4.7, 1.5], [6.7, 3.1, 4.4, 1.4], [5.9, 3.0, 5.1, 1.8], [6.1, 3.0, 4.9, 1.8], [6.0, 3.0, 4.8, 1.8], [6.1, 3.0, 4.6, 1.4], [5.6, 3.0, 4.5, 1.5], [5.4, 3.0, 4.5, 1.5], [6.6, 3.0, 4.4, 1.4], [5.9, 3.0, 4.2, 1.5], [5.7, 3.0, 4.2, 1.2], [5.6, 3.0, 4.1, 1.3], [6.1, 2.9, 4.7, 1.4], [6.6, 2.9, 4.6, 1.3], [6.0, 2.9, 4.5, 1.5], [6.4, 2.9, 4.3, 1.3], [6.2, 2.9, 4.3, 1.3], [5.7, 2.9, 4.2, 1.3], [5.6, 2.9, 3.6, 1.3], [5.8, 2.8, 5.1, 2.4], [6.3, 2.8, 5.1, 1.5], [5.6, 2.8, 4.9, 2.0], [6.2, 2.8, 4.8, 1.8], [6.8, 2.8, 4.8, 1.4], [6.1, 2.8, 4.7, 1.2], [6.5, 2.8, 4.6, 1.5], [5.7, 2.8, 4.5, 1.3], [5.7, 2.8, 4.1, 1.3], [6.1, 2.8, 4.0, 1.3], [5.8, 2.7, 5.1, 1.9], [5.8, 2.7, 5.1, 1.9], [6.0, 2.7, 5.1, 1.6], [6.3, 2.7, 4.9, 1.8], [5.6, 2.7, 4.2, 1.3], [5.8, 2.7, 4.1, 1.0], [5.2, 2.7, 3.9, 1.4], [5.8, 2.7, 3.9, 1.2], [5.5, 2.6, 4.4, 1.2], [5.8, 2.6, 4.0, 1.2], [5.7, 2.6, 3.5, 1.0], [5.7, 2.5, 5.0, 2.0], [6.3, 2.5, 5.0, 1.9], [6.3, 2.5, 4.9, 1.5], [4.9, 2.5, 4.5, 1.7], [5.5, 2.5, 4.0, 1.3], [5.6, 2.5, 3.9, 1.1], [5.1, 2.5, 3.0, 1.1], [5.5, 2.4, 3.8, 1.1], [5.5, 2.4, 3.7, 1.0], [4.9, 2.4, 3.3, 1.0], [6.3, 2.3, 4.4, 1.3], [5.5, 2.3, 4.0, 1.3], [5.0, 2.3, 3.3, 1.0], [6.0, 2.2, 5.0, 1.5], [6.2, 2.2, 4.5, 1.5], [6.0, 2.2, 4.0, 1.0], [5.0, 2.0, 3.5, 1.0]], [[5.7, 4.4, 1.5, 0.4], [5.5, 4.2, 1.4, 0.2], [5.2, 4.1, 1.5, 0.1], [5.8, 4.0, 1.2, 0.2], [5.4, 3.9, 1.7, 0.4], [5.4, 3.9, 1.3, 0.4], [5.1, 3.8, 1.9, 0.4], [5.7, 3.8, 1.7, 0.3], [5.1, 3.8, 1.6, 0.2], [5.1, 3.8, 1.5, 0.3], [5.1, 3.7, 1.5, 0.4], [5.4, 3.7, 1.5, 0.2], [5.3, 3.7, 1.5, 0.2], [5.0, 3.6, 1.4, 0.2], [4.6, 3.6, 1.0, 0.2], [5.0, 3.5, 1.6, 0.6], [5.2, 3.5, 1.5, 0.2], [5.1, 3.5, 1.4, 0.3], [5.1, 3.5, 1.4, 0.2], [5.0, 3.5, 1.3, 0.3], [5.5, 3.5, 1.3, 0.2], [4.8, 3.4, 1.9, 0.2], [5.4, 3.4, 1.7, 0.2], [5.0, 3.4, 1.6, 0.4], [4.8, 3.4, 1.6, 0.2], [5.4, 3.4, 1.5, 0.4], [5.1, 3.4, 1.5, 0.2], [5.0, 3.4, 1.5, 0.2], [4.6, 3.4, 1.4, 0.3], [5.2, 3.4, 1.4, 0.2], [5.1, 3.3, 1.7, 0.5], [5.0, 3.3, 1.4, 0.2], [4.7, 3.2, 1.6, 0.2], [4.6, 3.2, 1.4, 0.2], [4.7, 3.2, 1.3, 0.2], [4.4, 3.2, 1.3, 0.2], [5.0, 3.2, 1.2, 0.2], [4.8, 3.1, 1.6, 0.2], [4.6, 3.1, 1.5, 0.2], [4.9, 3.1, 1.5, 0.1], [4.9, 3.1, 1.5, 0.1], [4.9, 3.1, 1.5, 0.1], [5.0, 3.0, 1.6, 0.2], [4.8, 3.0, 1.4, 0.3], [4.9, 3.0, 1.4, 0.2], [4.8, 3.0, 1.4, 0.1], [4.4, 3.0, 1.3, 0.2], [4.3, 3.0, 1.1, 0.1], [4.4, 2.9, 1.4, 0.2], [4.5, 2.3, 1.3, 0.3]]]\n"
     ]
    }
   ],
   "source": [
    "model = KMeans(data, 3)\n",
    "model.fit()\n",
    "print(model.clusters)"
   ]
  },
  {
   "cell_type": "code",
   "execution_count": 26,
   "metadata": {},
   "outputs": [
    {
     "data": {
      "text/plain": [
       "<matplotlib.collections.PathCollection at 0x19b2b17f608>"
      ]
     },
     "execution_count": 26,
     "metadata": {},
     "output_type": "execute_result"
    },
    {
     "data": {
      "image/png": "[encoded data removed]",
      "text/plain": [
       "<Figure size 432x288 with 1 Axes>"
      ]
     },
     "metadata": {
      "needs_background": "light"
     },
     "output_type": "display_data"
    }
   ],
   "source": [
    "#print(model.cluster_sizes)\n",
    "data = np.concatenate((model.clusters), axis = 0)\n",
    "plt.scatter(data[:,0],data[:,1], s=7)\n"
   ]
  },
  {
   "cell_type": "code",
   "execution_count": 28,
   "metadata": {},
   "outputs": [
    {
     "ename": "TypeError",
     "evalue": "'function' object is not subscriptable",
     "output_type": "error",
     "traceback": [
      "\u001b[1;31m---------------------------------------------------------------------------\u001b[0m",
      "\u001b[1;31mTypeError\u001b[0m                                 Traceback (most recent call last)",
      "\u001b[1;32m<ipython-input-28-3edab8ccd568>\u001b[0m in \u001b[0;36m<module>\u001b[1;34m\u001b[0m\n\u001b[0;32m      1\u001b[0m \u001b[0mcenters\u001b[0m \u001b[1;33m=\u001b[0m \u001b[0mKMeans\u001b[0m\u001b[1;33m.\u001b[0m\u001b[0mcal_centroids\u001b[0m\u001b[1;33m\u001b[0m\u001b[1;33m\u001b[0m\u001b[0m\n\u001b[1;32m----> 2\u001b[1;33m \u001b[0mplt\u001b[0m\u001b[1;33m.\u001b[0m\u001b[0mscatter\u001b[0m\u001b[1;33m(\u001b[0m\u001b[0mcenters\u001b[0m\u001b[1;33m[\u001b[0m\u001b[1;33m:\u001b[0m\u001b[1;33m,\u001b[0m \u001b[1;36m0\u001b[0m\u001b[1;33m]\u001b[0m\u001b[1;33m,\u001b[0m \u001b[0mcenters\u001b[0m\u001b[1;33m[\u001b[0m\u001b[1;33m:\u001b[0m\u001b[1;33m,\u001b[0m \u001b[1;36m1\u001b[0m\u001b[1;33m]\u001b[0m\u001b[1;33m,\u001b[0m \u001b[0mc\u001b[0m\u001b[1;33m=\u001b[0m\u001b[1;34m'black'\u001b[0m\u001b[1;33m,\u001b[0m \u001b[0ms\u001b[0m\u001b[1;33m=\u001b[0m\u001b[1;36m200\u001b[0m\u001b[1;33m,\u001b[0m \u001b[0malpha\u001b[0m\u001b[1;33m=\u001b[0m\u001b[1;36m0.5\u001b[0m\u001b[1;33m)\u001b[0m\u001b[1;33m;\u001b[0m\u001b[1;33m\u001b[0m\u001b[1;33m\u001b[0m\u001b[0m\n\u001b[0m",
      "\u001b[1;31mTypeError\u001b[0m: 'function' object is not subscriptable"
     ]
    }
   ],
   "source": [
    "centers = KMeans.cal_centroids\n",
    "plt.scatter(centers[:, 0], centers[:, 1], c='black', s=200, alpha=0.5);"
   ]
  }
 ],
 "metadata": {
  "kernelspec": {
   "display_name": "Python 3",
   "language": "python",
   "name": "python3"
  },
  "language_info": {
   "codemirror_mode": {
    "name": "ipython",
    "version": 3
   },
   "file_extension": ".py",
   "mimetype": "text/x-python",
   "name": "python",
   "nbconvert_exporter": "python",
   "pygments_lexer": "ipython3",
   "version": "3.7.6"
  }
 },
 "nbformat": 4,
 "nbformat_minor": 4
}
