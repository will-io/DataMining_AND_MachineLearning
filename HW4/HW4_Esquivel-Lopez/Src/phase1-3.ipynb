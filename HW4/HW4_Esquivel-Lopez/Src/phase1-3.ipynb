{
 "cells": [
  {
   "cell_type": "code",
   "execution_count": 1,
   "metadata": {},
   "outputs": [],
   "source": [
    "import numpy as np\n",
    "import pandas as pd\n",
    "import seaborn as sns  \n",
    "import matplotlib.pyplot as plt\n",
    "import re\n",
    "import random\n",
    "import scipy\n",
    "from matplotlib.pyplot import figure\n",
    "from sklearn.decomposition import PCA\n",
    "from sklearn.manifold import TSNE"
   ]
  },
  {
   "cell_type": "code",
   "execution_count": 17,
   "metadata": {},
   "outputs": [
    {
     "data": {
      "text/html": [
       "<div>\n",
       "<style scoped>\n",
       "    .dataframe tbody tr th:only-of-type {\n",
       "        vertical-align: middle;\n",
       "    }\n",
       "\n",
       "    .dataframe tbody tr th {\n",
       "        vertical-align: top;\n",
       "    }\n",
       "\n",
       "    .dataframe thead th {\n",
       "        text-align: right;\n",
       "    }\n",
       "</style>\n",
       "<table border=\"1\" class=\"dataframe\">\n",
       "  <thead>\n",
       "    <tr style=\"text-align: right;\">\n",
       "      <th></th>\n",
       "      <th>5.7</th>\n",
       "      <th>4.4</th>\n",
       "      <th>1.5</th>\n",
       "      <th>0.4</th>\n",
       "    </tr>\n",
       "  </thead>\n",
       "  <tbody>\n",
       "    <tr>\n",
       "      <th>0</th>\n",
       "      <td>5.5</td>\n",
       "      <td>4.2</td>\n",
       "      <td>1.4</td>\n",
       "      <td>0.2</td>\n",
       "    </tr>\n",
       "    <tr>\n",
       "      <th>1</th>\n",
       "      <td>5.2</td>\n",
       "      <td>4.1</td>\n",
       "      <td>1.5</td>\n",
       "      <td>0.1</td>\n",
       "    </tr>\n",
       "    <tr>\n",
       "      <th>2</th>\n",
       "      <td>5.8</td>\n",
       "      <td>4.0</td>\n",
       "      <td>1.2</td>\n",
       "      <td>0.2</td>\n",
       "    </tr>\n",
       "    <tr>\n",
       "      <th>3</th>\n",
       "      <td>5.4</td>\n",
       "      <td>3.9</td>\n",
       "      <td>1.7</td>\n",
       "      <td>0.4</td>\n",
       "    </tr>\n",
       "    <tr>\n",
       "      <th>4</th>\n",
       "      <td>5.4</td>\n",
       "      <td>3.9</td>\n",
       "      <td>1.3</td>\n",
       "      <td>0.4</td>\n",
       "    </tr>\n",
       "    <tr>\n",
       "      <th>...</th>\n",
       "      <td>...</td>\n",
       "      <td>...</td>\n",
       "      <td>...</td>\n",
       "      <td>...</td>\n",
       "    </tr>\n",
       "    <tr>\n",
       "      <th>144</th>\n",
       "      <td>4.5</td>\n",
       "      <td>2.3</td>\n",
       "      <td>1.3</td>\n",
       "      <td>0.3</td>\n",
       "    </tr>\n",
       "    <tr>\n",
       "      <th>145</th>\n",
       "      <td>6.0</td>\n",
       "      <td>2.2</td>\n",
       "      <td>5.0</td>\n",
       "      <td>1.5</td>\n",
       "    </tr>\n",
       "    <tr>\n",
       "      <th>146</th>\n",
       "      <td>6.2</td>\n",
       "      <td>2.2</td>\n",
       "      <td>4.5</td>\n",
       "      <td>1.5</td>\n",
       "    </tr>\n",
       "    <tr>\n",
       "      <th>147</th>\n",
       "      <td>6.0</td>\n",
       "      <td>2.2</td>\n",
       "      <td>4.0</td>\n",
       "      <td>1.0</td>\n",
       "    </tr>\n",
       "    <tr>\n",
       "      <th>148</th>\n",
       "      <td>5.0</td>\n",
       "      <td>2.0</td>\n",
       "      <td>3.5</td>\n",
       "      <td>1.0</td>\n",
       "    </tr>\n",
       "  </tbody>\n",
       "</table>\n",
       "<p>149 rows × 4 columns</p>\n",
       "</div>"
      ],
      "text/plain": [
       "     5.7  4.4  1.5  0.4\n",
       "0    5.5  4.2  1.4  0.2\n",
       "1    5.2  4.1  1.5  0.1\n",
       "2    5.8  4.0  1.2  0.2\n",
       "3    5.4  3.9  1.7  0.4\n",
       "4    5.4  3.9  1.3  0.4\n",
       "..   ...  ...  ...  ...\n",
       "144  4.5  2.3  1.3  0.3\n",
       "145  6.0  2.2  5.0  1.5\n",
       "146  6.2  2.2  4.5  1.5\n",
       "147  6.0  2.2  4.0  1.0\n",
       "148  5.0  2.0  3.5  1.0\n",
       "\n",
       "[149 rows x 4 columns]"
      ]
     },
     "execution_count": 17,
     "metadata": {},
     "output_type": "execute_result"
    }
   ],
   "source": [
    "df = pd.read_csv('../Data/iris_test_data.txt', names=[\"s_length\", \"s_width\", \"p_length\", \"p_width\"], delim_whitespace=True)\n",
    "df"
   ]
  },
  {
   "cell_type": "code",
   "execution_count": 3,
   "metadata": {},
   "outputs": [
    {
     "data": {
      "text/plain": [
       "array([[5.7, 4.4, 1.5, 0.4],\n",
       "       [5.5, 4.2, 1.4, 0.2],\n",
       "       [5.2, 4.1, 1.5, 0.1],\n",
       "       [5.8, 4. , 1.2, 0.2],\n",
       "       [5.4, 3.9, 1.7, 0.4],\n",
       "       [5.4, 3.9, 1.3, 0.4],\n",
       "       [7.7, 3.8, 6.7, 2.2],\n",
       "       [7.9, 3.8, 6.4, 2. ],\n",
       "       [5.1, 3.8, 1.9, 0.4],\n",
       "       [5.7, 3.8, 1.7, 0.3],\n",
       "       [5.1, 3.8, 1.6, 0.2],\n",
       "       [5.1, 3.8, 1.5, 0.3],\n",
       "       [5.1, 3.7, 1.5, 0.4],\n",
       "       [5.4, 3.7, 1.5, 0.2],\n",
       "       [5.3, 3.7, 1.5, 0.2],\n",
       "       [7.2, 3.6, 6.1, 2.5],\n",
       "       [5. , 3.6, 1.4, 0.2],\n",
       "       [4.6, 3.6, 1. , 0.2],\n",
       "       [5. , 3.5, 1.6, 0.6],\n",
       "       [5.2, 3.5, 1.5, 0.2],\n",
       "       [5.1, 3.5, 1.4, 0.3],\n",
       "       [5.1, 3.5, 1.4, 0.2],\n",
       "       [5. , 3.5, 1.3, 0.3],\n",
       "       [5.5, 3.5, 1.3, 0.2],\n",
       "       [6.3, 3.4, 5.6, 2.4],\n",
       "       [6.2, 3.4, 5.4, 2.3],\n",
       "       [6. , 3.4, 4.5, 1.6],\n",
       "       [4.8, 3.4, 1.9, 0.2],\n",
       "       [5.4, 3.4, 1.7, 0.2],\n",
       "       [5. , 3.4, 1.6, 0.4],\n",
       "       [4.8, 3.4, 1.6, 0.2],\n",
       "       [5.4, 3.4, 1.5, 0.4],\n",
       "       [5.1, 3.4, 1.5, 0.2],\n",
       "       [5. , 3.4, 1.5, 0.2],\n",
       "       [4.6, 3.4, 1.4, 0.3],\n",
       "       [5.2, 3.4, 1.4, 0.2],\n",
       "       [6.3, 3.3, 6. , 2.5],\n",
       "       [6.7, 3.3, 5.7, 2.5],\n",
       "       [6.7, 3.3, 5.7, 2.1],\n",
       "       [6.3, 3.3, 4.7, 1.6],\n",
       "       [5.1, 3.3, 1.7, 0.5],\n",
       "       [5. , 3.3, 1.4, 0.2],\n",
       "       [7.2, 3.2, 6. , 1.8],\n",
       "       [6.8, 3.2, 5.9, 2.3],\n",
       "       [6.9, 3.2, 5.7, 2.3],\n",
       "       [6.4, 3.2, 5.3, 2.3],\n",
       "       [6.5, 3.2, 5.1, 2. ],\n",
       "       [5.9, 3.2, 4.8, 1.8],\n",
       "       [7. , 3.2, 4.7, 1.4],\n",
       "       [6.4, 3.2, 4.5, 1.5],\n",
       "       [4.7, 3.2, 1.6, 0.2],\n",
       "       [4.6, 3.2, 1.4, 0.2],\n",
       "       [4.7, 3.2, 1.3, 0.2],\n",
       "       [4.4, 3.2, 1.3, 0.2],\n",
       "       [5. , 3.2, 1.2, 0.2],\n",
       "       [6.7, 3.1, 5.6, 2.4],\n",
       "       [6.4, 3.1, 5.5, 1.8],\n",
       "       [6.9, 3.1, 5.4, 2.1],\n",
       "       [6.9, 3.1, 5.1, 2.3],\n",
       "       [6.9, 3.1, 4.9, 1.5],\n",
       "       [6.7, 3.1, 4.7, 1.5],\n",
       "       [6.7, 3.1, 4.4, 1.4],\n",
       "       [4.8, 3.1, 1.6, 0.2],\n",
       "       [4.6, 3.1, 1.5, 0.2],\n",
       "       [4.9, 3.1, 1.5, 0.1],\n",
       "       [4.9, 3.1, 1.5, 0.1],\n",
       "       [4.9, 3.1, 1.5, 0.1],\n",
       "       [7.6, 3. , 6.6, 2.1],\n",
       "       [7.7, 3. , 6.1, 2.3],\n",
       "       [7.1, 3. , 5.9, 2.1],\n",
       "       [6.5, 3. , 5.8, 2.2],\n",
       "       [7.2, 3. , 5.8, 1.6],\n",
       "       [6.8, 3. , 5.5, 2.1],\n",
       "       [6.5, 3. , 5.5, 1.8],\n",
       "       [6.7, 3. , 5.2, 2.3],\n",
       "       [6.5, 3. , 5.2, 2. ],\n",
       "       [5.9, 3. , 5.1, 1.8],\n",
       "       [6.7, 3. , 5. , 1.7],\n",
       "       [6.1, 3. , 4.9, 1.8],\n",
       "       [6. , 3. , 4.8, 1.8],\n",
       "       [6.1, 3. , 4.6, 1.4],\n",
       "       [5.6, 3. , 4.5, 1.5],\n",
       "       [5.4, 3. , 4.5, 1.5],\n",
       "       [6.6, 3. , 4.4, 1.4],\n",
       "       [5.9, 3. , 4.2, 1.5],\n",
       "       [5.7, 3. , 4.2, 1.2],\n",
       "       [5.6, 3. , 4.1, 1.3],\n",
       "       [5. , 3. , 1.6, 0.2],\n",
       "       [4.8, 3. , 1.4, 0.3],\n",
       "       [4.9, 3. , 1.4, 0.2],\n",
       "       [4.8, 3. , 1.4, 0.1],\n",
       "       [4.4, 3. , 1.3, 0.2],\n",
       "       [4.3, 3. , 1.1, 0.1],\n",
       "       [7.3, 2.9, 6.3, 1.8],\n",
       "       [6.3, 2.9, 5.6, 1.8],\n",
       "       [6.1, 2.9, 4.7, 1.4],\n",
       "       [6.6, 2.9, 4.6, 1.3],\n",
       "       [6. , 2.9, 4.5, 1.5],\n",
       "       [6.4, 2.9, 4.3, 1.3],\n",
       "       [6.2, 2.9, 4.3, 1.3],\n",
       "       [5.7, 2.9, 4.2, 1.3],\n",
       "       [5.6, 2.9, 3.6, 1.3],\n",
       "       [4.4, 2.9, 1.4, 0.2],\n",
       "       [7.7, 2.8, 6.7, 2. ],\n",
       "       [7.4, 2.8, 6.1, 1.9],\n",
       "       [6.4, 2.8, 5.6, 2.2],\n",
       "       [6.4, 2.8, 5.6, 2.1],\n",
       "       [5.8, 2.8, 5.1, 2.4],\n",
       "       [6.3, 2.8, 5.1, 1.5],\n",
       "       [5.6, 2.8, 4.9, 2. ],\n",
       "       [6.2, 2.8, 4.8, 1.8],\n",
       "       [6.8, 2.8, 4.8, 1.4],\n",
       "       [6.1, 2.8, 4.7, 1.2],\n",
       "       [6.5, 2.8, 4.6, 1.5],\n",
       "       [5.7, 2.8, 4.5, 1.3],\n",
       "       [5.7, 2.8, 4.1, 1.3],\n",
       "       [6.1, 2.8, 4. , 1.3],\n",
       "       [6.4, 2.7, 5.3, 1.9],\n",
       "       [5.8, 2.7, 5.1, 1.9],\n",
       "       [5.8, 2.7, 5.1, 1.9],\n",
       "       [6. , 2.7, 5.1, 1.6],\n",
       "       [6.3, 2.7, 4.9, 1.8],\n",
       "       [5.6, 2.7, 4.2, 1.3],\n",
       "       [5.8, 2.7, 4.1, 1. ],\n",
       "       [5.2, 2.7, 3.9, 1.4],\n",
       "       [5.8, 2.7, 3.9, 1.2],\n",
       "       [7.7, 2.6, 6.9, 2.3],\n",
       "       [6.1, 2.6, 5.6, 1.4],\n",
       "       [5.5, 2.6, 4.4, 1.2],\n",
       "       [5.8, 2.6, 4. , 1.2],\n",
       "       [5.7, 2.6, 3.5, 1. ],\n",
       "       [6.7, 2.5, 5.8, 1.8],\n",
       "       [5.7, 2.5, 5. , 2. ],\n",
       "       [6.3, 2.5, 5. , 1.9],\n",
       "       [6.3, 2.5, 4.9, 1.5],\n",
       "       [4.9, 2.5, 4.5, 1.7],\n",
       "       [5.5, 2.5, 4. , 1.3],\n",
       "       [5.6, 2.5, 3.9, 1.1],\n",
       "       [5.1, 2.5, 3. , 1.1],\n",
       "       [5.5, 2.4, 3.8, 1.1],\n",
       "       [5.5, 2.4, 3.7, 1. ],\n",
       "       [4.9, 2.4, 3.3, 1. ],\n",
       "       [6.3, 2.3, 4.4, 1.3],\n",
       "       [5.5, 2.3, 4. , 1.3],\n",
       "       [5. , 2.3, 3.3, 1. ],\n",
       "       [4.5, 2.3, 1.3, 0.3],\n",
       "       [6. , 2.2, 5. , 1.5],\n",
       "       [6.2, 2.2, 4.5, 1.5],\n",
       "       [6. , 2.2, 4. , 1. ],\n",
       "       [5. , 2. , 3.5, 1. ]])"
      ]
     },
     "execution_count": 3,
     "metadata": {},
     "output_type": "execute_result"
    }
   ],
   "source": [
    "data = df.values[:, 0:4]\n",
    "data"
   ]
  },
  {
   "cell_type": "code",
   "execution_count": 4,
   "metadata": {},
   "outputs": [],
   "source": [
    "def kmeans(data, targets, k=3, iters=5,plotdata=None):\n",
    "\n",
    "    # good initial centroids found upon inspection\n",
    "    centroid_indices = np.array([136,130,0])\n",
    "    #centroid_indices = np.array([63, 53, 48])\n",
    "\n",
    "\n",
    "    # Comment the above line and uncoment the line below to\n",
    "    # chooses k random different points from the dataset as intitial centroids\n",
    "\n",
    "    #centroid_indices = random.sample(range(data.shape[0]),k)\n",
    "    print(centroid_indices)\n",
    "    centroids =  np.array([data[i] for i in centroid_indices])\n",
    "\n",
    "    for it in range(iters):\n",
    "        centroids, classes = compute_centroids(data, centroids)\n",
    "        plotme(plotdata,classes, centroids, iter=it+1)\n",
    "        print(classes)\n",
    "    #plotme(plotdata, targets, centroids, legends=True, clear = True)\n",
    "    #plt.savefig(\"classes-known.jpg\")\n",
    "    plt.pause(4)\n",
    "    plotme(plotdata, classes, iter=\"Final\", clear = True)\n",
    "    return classes"
   ]
  },
  {
   "cell_type": "code",
   "execution_count": 5,
   "metadata": {},
   "outputs": [],
   "source": [
    "def euclidian(x1,x2):\n",
    "    return np.sqrt(sum(np.square(x1-x2)))\n",
    "\n",
    "def getclass(datapoint, centroids):\n",
    "    distances = np.array([euclidian(datapoint, centroid) for centroid in centroids])\n",
    "    return np.argmin(distances)\n",
    "\n",
    "\n",
    "def compute_centroids(data, centroids):\n",
    "    classes = np.zeros(data.shape[0])\n",
    "    # assign each data point to closest centroid\n",
    "    for i in range(len(data)):\n",
    "        classes[i] = getclass(data[i], centroids)\n",
    "\n",
    "    new_centroids = np.ndarray(centroids.shape)\n",
    "\n",
    "    for i in range(len(centroids)):\n",
    "        new_centroids[i] = np.mean(data[classes==i],axis=0)\n",
    "\n",
    "\n",
    "    return new_centroids, classes\n",
    "\n",
    "def plotme(data, target, centroids=[], legends=False, iter=None,clear=False):\n",
    "    if clear:\n",
    "        plt.clf() # Draw the plot each iteration\n",
    "\n",
    "    # Ref: http://www.dummies.com/programming/big-data/data-science/how-to-visualize-the-clusters-in-a-k-means-unsupervised-learning-model/\n",
    "    class_1 = data[target==0]\n",
    "    class_2 = data[target==1]\n",
    "    class_3 = data[target==2]\n",
    "\n",
    "\n",
    "    c1 = plt.scatter(class_1[:,0], class_1[:,1],c='r',\n",
    "            marker='o')\t\n",
    "    c2 = plt.scatter(class_2[:,0], class_2[:,1],c='g',\n",
    "            marker='o')\n",
    "    c3 = plt.scatter(class_3[:,0], class_3[:,1],c='b',\n",
    "            marker='o')\n",
    "\n",
    "    if centroids!=[]:\n",
    "        plt.scatter(centroids[:,0],centroids[:,1],c='k',marker='x',s= 150)\n",
    "\n",
    "    plt.title('Iris dataset with 3 clusters and unknown outcomes : Iter '+str(iter))\n",
    "\n",
    "    plt.pause(1)\n"
   ]
  },
  {
   "cell_type": "code",
   "execution_count": 6,
   "metadata": {},
   "outputs": [],
   "source": [
    "#data = df.values.tolist()\n",
    "data = df.to_numpy()\n",
    "pca = TSNE(n_components=2).fit_transform(data)\n",
    "#pca_2d = pca.transform(data)"
   ]
  },
  {
   "cell_type": "code",
   "execution_count": 7,
   "metadata": {},
   "outputs": [
    {
     "data": {
      "text/plain": [
       "numpy.float32"
      ]
     },
     "execution_count": 7,
     "metadata": {},
     "output_type": "execute_result"
    }
   ],
   "source": [
    "type(pca[1][1])"
   ]
  },
  {
   "cell_type": "code",
   "execution_count": 8,
   "metadata": {},
   "outputs": [
    {
     "name": "stdout",
     "output_type": "stream",
     "text": [
      "[136 130   0]\n"
     ]
    },
    {
     "name": "stderr",
     "output_type": "stream",
     "text": [
      "C:\\Users\\willa\\AppData\\Roaming\\Python\\Python37\\site-packages\\ipykernel_launcher.py:40: DeprecationWarning: elementwise comparison failed; this will raise an error in the future.\n"
     ]
    },
    {
     "data": {
      "image/png": "[encoded data removed]",
      "text/plain": [
       "<Figure size 432x288 with 1 Axes>"
      ]
     },
     "metadata": {
      "needs_background": "light"
     },
     "output_type": "display_data"
    },
    {
     "name": "stdout",
     "output_type": "stream",
     "text": [
      "[2. 2. 2. 2. 2. 2. 0. 0. 2. 2. 2. 2. 2. 2. 2. 0. 2. 2. 2. 2. 2. 2. 2. 2.\n",
      " 0. 0. 0. 2. 2. 2. 2. 2. 2. 2. 2. 2. 0. 0. 0. 0. 2. 2. 0. 0. 0. 0. 0. 0.\n",
      " 0. 0. 2. 2. 2. 2. 2. 0. 0. 0. 0. 0. 0. 0. 2. 2. 2. 2. 2. 0. 0. 0. 0. 0.\n",
      " 0. 0. 0. 0. 0. 0. 0. 0. 0. 0. 0. 0. 0. 0. 0. 2. 2. 2. 2. 2. 2. 0. 0. 0.\n",
      " 0. 0. 0. 0. 0. 1. 2. 0. 0. 0. 0. 0. 0. 0. 0. 0. 0. 0. 0. 0. 0. 0. 0. 0.\n",
      " 0. 0. 0. 0. 0. 0. 0. 0. 0. 0. 1. 0. 0. 0. 0. 0. 0. 0. 1. 1. 1. 1. 0. 0.\n",
      " 1. 2. 0. 0. 1. 1.]\n"
     ]
    },
    {
     "data": {
      "image/png": "[encoded data removed]",
      "text/plain": [
       "<Figure size 432x288 with 1 Axes>"
      ]
     },
     "metadata": {
      "needs_background": "light"
     },
     "output_type": "display_data"
    },
    {
     "name": "stdout",
     "output_type": "stream",
     "text": [
      "[2. 2. 2. 2. 2. 2. 0. 0. 2. 2. 2. 2. 2. 2. 2. 0. 2. 2. 2. 2. 2. 2. 2. 2.\n",
      " 0. 0. 0. 2. 2. 2. 2. 2. 2. 2. 2. 2. 0. 0. 0. 0. 2. 2. 0. 0. 0. 0. 0. 0.\n",
      " 0. 0. 2. 2. 2. 2. 2. 0. 0. 0. 0. 0. 0. 0. 2. 2. 2. 2. 2. 0. 0. 0. 0. 0.\n",
      " 0. 0. 0. 0. 0. 0. 0. 0. 0. 1. 1. 0. 1. 1. 1. 2. 2. 2. 2. 2. 2. 0. 0. 0.\n",
      " 0. 0. 0. 0. 1. 1. 2. 0. 0. 0. 0. 0. 0. 0. 0. 0. 0. 0. 1. 1. 1. 0. 0. 0.\n",
      " 0. 0. 1. 1. 1. 1. 0. 0. 1. 1. 1. 0. 0. 0. 0. 1. 1. 1. 1. 1. 1. 1. 1. 1.\n",
      " 1. 2. 0. 1. 1. 1.]\n"
     ]
    },
    {
     "data": {
      "image/png": "[encoded data removed]",
      "text/plain": [
       "<Figure size 432x288 with 1 Axes>"
      ]
     },
     "metadata": {
      "needs_background": "light"
     },
     "output_type": "display_data"
    },
    {
     "name": "stdout",
     "output_type": "stream",
     "text": [
      "[2. 2. 2. 2. 2. 2. 0. 0. 2. 2. 2. 2. 2. 2. 2. 0. 2. 2. 2. 2. 2. 2. 2. 2.\n",
      " 0. 0. 1. 2. 2. 2. 2. 2. 2. 2. 2. 2. 0. 0. 0. 0. 2. 2. 0. 0. 0. 0. 0. 0.\n",
      " 0. 0. 2. 2. 2. 2. 2. 0. 0. 0. 0. 0. 0. 0. 2. 2. 2. 2. 2. 0. 0. 0. 0. 0.\n",
      " 0. 0. 0. 0. 0. 0. 0. 0. 1. 1. 1. 0. 1. 1. 1. 2. 2. 2. 2. 2. 2. 0. 0. 1.\n",
      " 0. 1. 1. 1. 1. 1. 2. 0. 0. 0. 0. 0. 0. 0. 0. 0. 1. 0. 1. 1. 1. 0. 0. 0.\n",
      " 0. 0. 1. 1. 1. 1. 0. 0. 1. 1. 1. 0. 0. 0. 0. 1. 1. 1. 1. 1. 1. 1. 1. 1.\n",
      " 1. 2. 0. 1. 1. 1.]\n"
     ]
    },
    {
     "data": {
      "image/png": "[encoded data removed]",
      "text/plain": [
       "<Figure size 432x288 with 1 Axes>"
      ]
     },
     "metadata": {
      "needs_background": "light"
     },
     "output_type": "display_data"
    },
    {
     "name": "stdout",
     "output_type": "stream",
     "text": [
      "[2. 2. 2. 2. 2. 2. 0. 0. 2. 2. 2. 2. 2. 2. 2. 0. 2. 2. 2. 2. 2. 2. 2. 2.\n",
      " 0. 0. 1. 2. 2. 2. 2. 2. 2. 2. 2. 2. 0. 0. 0. 1. 2. 2. 0. 0. 0. 0. 0. 1.\n",
      " 0. 1. 2. 2. 2. 2. 2. 0. 0. 0. 0. 0. 0. 1. 2. 2. 2. 2. 2. 0. 0. 0. 0. 0.\n",
      " 0. 0. 0. 0. 0. 0. 0. 0. 1. 1. 1. 1. 1. 1. 1. 2. 2. 2. 2. 2. 2. 0. 0. 1.\n",
      " 0. 1. 1. 1. 1. 1. 2. 0. 0. 0. 0. 0. 0. 0. 0. 0. 1. 0. 1. 1. 1. 0. 0. 0.\n",
      " 0. 0. 1. 1. 1. 1. 0. 0. 1. 1. 1. 0. 0. 0. 0. 1. 1. 1. 1. 1. 1. 1. 1. 1.\n",
      " 1. 2. 0. 1. 1. 1.]\n"
     ]
    },
    {
     "data": {
      "image/png": "[encoded data removed]",
      "text/plain": [
       "<Figure size 432x288 with 1 Axes>"
      ]
     },
     "metadata": {
      "needs_background": "light"
     },
     "output_type": "display_data"
    },
    {
     "name": "stdout",
     "output_type": "stream",
     "text": [
      "[2. 2. 2. 2. 2. 2. 0. 0. 2. 2. 2. 2. 2. 2. 2. 0. 2. 2. 2. 2. 2. 2. 2. 2.\n",
      " 0. 0. 1. 2. 2. 2. 2. 2. 2. 2. 2. 2. 0. 0. 0. 1. 2. 2. 0. 0. 0. 0. 0. 1.\n",
      " 0. 1. 2. 2. 2. 2. 2. 0. 0. 0. 0. 0. 0. 1. 2. 2. 2. 2. 2. 0. 0. 0. 0. 0.\n",
      " 0. 0. 0. 0. 0. 0. 0. 1. 1. 1. 1. 1. 1. 1. 1. 2. 2. 2. 2. 2. 2. 0. 0. 1.\n",
      " 1. 1. 1. 1. 1. 1. 2. 0. 0. 0. 0. 0. 0. 0. 0. 0. 1. 1. 1. 1. 1. 0. 0. 0.\n",
      " 0. 0. 1. 1. 1. 1. 0. 0. 1. 1. 1. 0. 0. 0. 0. 1. 1. 1. 1. 1. 1. 1. 1. 1.\n",
      " 1. 2. 0. 1. 1. 1.]\n"
     ]
    },
    {
     "data": {
      "image/png": "[encoded data removed]",
      "text/plain": [
       "<Figure size 432x288 with 1 Axes>"
      ]
     },
     "metadata": {
      "needs_background": "light"
     },
     "output_type": "display_data"
    }
   ],
   "source": [
    "plt.ion() # Interactive on\n",
    "target = np.array([1,2,3])\n",
    "y = kmeans(pca, target, k=len(np.unique(target)), plotdata=pca)"
   ]
  },
  {
   "cell_type": "code",
   "execution_count": 9,
   "metadata": {},
   "outputs": [
    {
     "data": {
      "text/plain": [
       "array([2., 2., 2., 2., 2., 2., 0., 0., 2., 2., 2., 2., 2., 2., 2., 0., 2.,\n",
       "       2., 2., 2., 2., 2., 2., 2., 0., 0., 1., 2., 2., 2., 2., 2., 2., 2.,\n",
       "       2., 2., 0., 0., 0., 1., 2., 2., 0., 0., 0., 0., 0., 1., 0., 1., 2.,\n",
       "       2., 2., 2., 2., 0., 0., 0., 0., 0., 0., 1., 2., 2., 2., 2., 2., 0.,\n",
       "       0., 0., 0., 0., 0., 0., 0., 0., 0., 0., 0., 1., 1., 1., 1., 1., 1.,\n",
       "       1., 1., 2., 2., 2., 2., 2., 2., 0., 0., 1., 1., 1., 1., 1., 1., 1.,\n",
       "       2., 0., 0., 0., 0., 0., 0., 0., 0., 0., 1., 1., 1., 1., 1., 0., 0.,\n",
       "       0., 0., 0., 1., 1., 1., 1., 0., 0., 1., 1., 1., 0., 0., 0., 0., 1.,\n",
       "       1., 1., 1., 1., 1., 1., 1., 1., 1., 2., 0., 1., 1., 1.])"
      ]
     },
     "execution_count": 9,
     "metadata": {},
     "output_type": "execute_result"
    }
   ],
   "source": [
    "y\n"
   ]
  },
  {
   "cell_type": "code",
   "execution_count": 10,
   "metadata": {
    "scrolled": true
   },
   "outputs": [
    {
     "data": {
      "text/plain": [
       "numpy.ndarray"
      ]
     },
     "execution_count": 10,
     "metadata": {},
     "output_type": "execute_result"
    }
   ],
   "source": [
    "type(y)"
   ]
  },
  {
   "cell_type": "code",
   "execution_count": 11,
   "metadata": {},
   "outputs": [
    {
     "data": {
      "text/plain": [
       "numpy.float64"
      ]
     },
     "execution_count": 11,
     "metadata": {},
     "output_type": "execute_result"
    }
   ],
   "source": [
    "type(y[1])"
   ]
  },
  {
   "cell_type": "code",
   "execution_count": 12,
   "metadata": {},
   "outputs": [],
   "source": [
    "y = y.astype(np.int)"
   ]
  },
  {
   "cell_type": "code",
   "execution_count": 13,
   "metadata": {},
   "outputs": [
    {
     "data": {
      "text/plain": [
       "array([2, 2, 2, 2, 2, 2, 0, 0, 2, 2, 2, 2, 2, 2, 2, 0, 2, 2, 2, 2, 2, 2,\n",
       "       2, 2, 0, 0, 1, 2, 2, 2, 2, 2, 2, 2, 2, 2, 0, 0, 0, 1, 2, 2, 0, 0,\n",
       "       0, 0, 0, 1, 0, 1, 2, 2, 2, 2, 2, 0, 0, 0, 0, 0, 0, 1, 2, 2, 2, 2,\n",
       "       2, 0, 0, 0, 0, 0, 0, 0, 0, 0, 0, 0, 0, 1, 1, 1, 1, 1, 1, 1, 1, 2,\n",
       "       2, 2, 2, 2, 2, 0, 0, 1, 1, 1, 1, 1, 1, 1, 2, 0, 0, 0, 0, 0, 0, 0,\n",
       "       0, 0, 1, 1, 1, 1, 1, 0, 0, 0, 0, 0, 1, 1, 1, 1, 0, 0, 1, 1, 1, 0,\n",
       "       0, 0, 0, 1, 1, 1, 1, 1, 1, 1, 1, 1, 1, 2, 0, 1, 1, 1])"
      ]
     },
     "execution_count": 13,
     "metadata": {},
     "output_type": "execute_result"
    }
   ],
   "source": [
    "y"
   ]
  },
  {
   "cell_type": "code",
   "execution_count": 14,
   "metadata": {},
   "outputs": [
    {
     "data": {
      "text/plain": [
       "array([3, 3, 3, 3, 3, 3, 1, 1, 3, 3, 3, 3, 3, 3, 3, 1, 3, 3, 3, 3, 3, 3,\n",
       "       3, 3, 1, 1, 2, 3, 3, 3, 3, 3, 3, 3, 3, 3, 1, 1, 1, 2, 3, 3, 1, 1,\n",
       "       1, 1, 1, 2, 1, 2, 3, 3, 3, 3, 3, 1, 1, 1, 1, 1, 1, 2, 3, 3, 3, 3,\n",
       "       3, 1, 1, 1, 1, 1, 1, 1, 1, 1, 1, 1, 1, 2, 2, 2, 2, 2, 2, 2, 2, 3,\n",
       "       3, 3, 3, 3, 3, 1, 1, 2, 2, 2, 2, 2, 2, 2, 3, 1, 1, 1, 1, 1, 1, 1,\n",
       "       1, 1, 2, 2, 2, 2, 2, 1, 1, 1, 1, 1, 2, 2, 2, 2, 1, 1, 2, 2, 2, 1,\n",
       "       1, 1, 1, 2, 2, 2, 2, 2, 2, 2, 2, 2, 2, 3, 1, 2, 2, 2])"
      ]
     },
     "execution_count": 14,
     "metadata": {},
     "output_type": "execute_result"
    }
   ],
   "source": [
    "for i in range(len(y)):\n",
    "        y[i]=y[i]+1\n",
    "y"
   ]
  },
  {
   "cell_type": "code",
   "execution_count": 15,
   "metadata": {},
   "outputs": [
    {
     "data": {
      "text/html": [
       "<div>\n",
       "<style scoped>\n",
       "    .dataframe tbody tr th:only-of-type {\n",
       "        vertical-align: middle;\n",
       "    }\n",
       "\n",
       "    .dataframe tbody tr th {\n",
       "        vertical-align: top;\n",
       "    }\n",
       "\n",
       "    .dataframe thead th {\n",
       "        text-align: right;\n",
       "    }\n",
       "</style>\n",
       "<table border=\"1\" class=\"dataframe\">\n",
       "  <thead>\n",
       "    <tr style=\"text-align: right;\">\n",
       "      <th></th>\n",
       "      <th>s_length</th>\n",
       "      <th>s_width</th>\n",
       "      <th>p_length</th>\n",
       "      <th>p_width</th>\n",
       "      <th>target</th>\n",
       "    </tr>\n",
       "  </thead>\n",
       "  <tbody>\n",
       "    <tr>\n",
       "      <th>0</th>\n",
       "      <td>5.7</td>\n",
       "      <td>4.4</td>\n",
       "      <td>1.5</td>\n",
       "      <td>0.4</td>\n",
       "      <td>3</td>\n",
       "    </tr>\n",
       "    <tr>\n",
       "      <th>1</th>\n",
       "      <td>5.5</td>\n",
       "      <td>4.2</td>\n",
       "      <td>1.4</td>\n",
       "      <td>0.2</td>\n",
       "      <td>3</td>\n",
       "    </tr>\n",
       "    <tr>\n",
       "      <th>2</th>\n",
       "      <td>5.2</td>\n",
       "      <td>4.1</td>\n",
       "      <td>1.5</td>\n",
       "      <td>0.1</td>\n",
       "      <td>3</td>\n",
       "    </tr>\n",
       "    <tr>\n",
       "      <th>3</th>\n",
       "      <td>5.8</td>\n",
       "      <td>4.0</td>\n",
       "      <td>1.2</td>\n",
       "      <td>0.2</td>\n",
       "      <td>3</td>\n",
       "    </tr>\n",
       "    <tr>\n",
       "      <th>4</th>\n",
       "      <td>5.4</td>\n",
       "      <td>3.9</td>\n",
       "      <td>1.7</td>\n",
       "      <td>0.4</td>\n",
       "      <td>3</td>\n",
       "    </tr>\n",
       "    <tr>\n",
       "      <th>...</th>\n",
       "      <td>...</td>\n",
       "      <td>...</td>\n",
       "      <td>...</td>\n",
       "      <td>...</td>\n",
       "      <td>...</td>\n",
       "    </tr>\n",
       "    <tr>\n",
       "      <th>145</th>\n",
       "      <td>4.5</td>\n",
       "      <td>2.3</td>\n",
       "      <td>1.3</td>\n",
       "      <td>0.3</td>\n",
       "      <td>3</td>\n",
       "    </tr>\n",
       "    <tr>\n",
       "      <th>146</th>\n",
       "      <td>6.0</td>\n",
       "      <td>2.2</td>\n",
       "      <td>5.0</td>\n",
       "      <td>1.5</td>\n",
       "      <td>1</td>\n",
       "    </tr>\n",
       "    <tr>\n",
       "      <th>147</th>\n",
       "      <td>6.2</td>\n",
       "      <td>2.2</td>\n",
       "      <td>4.5</td>\n",
       "      <td>1.5</td>\n",
       "      <td>2</td>\n",
       "    </tr>\n",
       "    <tr>\n",
       "      <th>148</th>\n",
       "      <td>6.0</td>\n",
       "      <td>2.2</td>\n",
       "      <td>4.0</td>\n",
       "      <td>1.0</td>\n",
       "      <td>2</td>\n",
       "    </tr>\n",
       "    <tr>\n",
       "      <th>149</th>\n",
       "      <td>5.0</td>\n",
       "      <td>2.0</td>\n",
       "      <td>3.5</td>\n",
       "      <td>1.0</td>\n",
       "      <td>2</td>\n",
       "    </tr>\n",
       "  </tbody>\n",
       "</table>\n",
       "<p>150 rows × 5 columns</p>\n",
       "</div>"
      ],
      "text/plain": [
       "     s_length  s_width  p_length  p_width  target\n",
       "0         5.7      4.4       1.5      0.4       3\n",
       "1         5.5      4.2       1.4      0.2       3\n",
       "2         5.2      4.1       1.5      0.1       3\n",
       "3         5.8      4.0       1.2      0.2       3\n",
       "4         5.4      3.9       1.7      0.4       3\n",
       "..        ...      ...       ...      ...     ...\n",
       "145       4.5      2.3       1.3      0.3       3\n",
       "146       6.0      2.2       5.0      1.5       1\n",
       "147       6.2      2.2       4.5      1.5       2\n",
       "148       6.0      2.2       4.0      1.0       2\n",
       "149       5.0      2.0       3.5      1.0       2\n",
       "\n",
       "[150 rows x 5 columns]"
      ]
     },
     "execution_count": 15,
     "metadata": {},
     "output_type": "execute_result"
    }
   ],
   "source": [
    "df['target'] = pd.Series(y)\n",
    "df"
   ]
  },
  {
   "cell_type": "code",
   "execution_count": 16,
   "metadata": {},
   "outputs": [],
   "source": [
    "np.savetxt(r'../Data/out4.txt',df['target'],fmt='%d')"
   ]
  }
 ],
 "metadata": {
  "kernelspec": {
   "display_name": "Python 3",
   "language": "python",
   "name": "python3"
  },
  "language_info": {
   "codemirror_mode": {
    "name": "ipython",
    "version": 3
   },
   "file_extension": ".py",
   "mimetype": "text/x-python",
   "name": "python",
   "nbconvert_exporter": "python",
   "pygments_lexer": "ipython3",
   "version": "3.7.6"
  }
 },
 "nbformat": 4,
 "nbformat_minor": 4
}
