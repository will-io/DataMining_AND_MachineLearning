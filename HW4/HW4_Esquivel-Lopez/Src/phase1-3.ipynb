{
 "cells": [
  {
   "cell_type": "code",
   "execution_count": 1,
   "metadata": {},
   "outputs": [],
   "source": [
    "import numpy as np\n",
    "import pandas as pd\n",
    "import seaborn as sns  \n",
    "import matplotlib.pyplot as plt\n",
    "import re\n",
    "import scipy\n",
    "from matplotlib.pyplot import figure\n",
    "from sklearn.decomposition import PCA"
   ]
  },
  {
   "cell_type": "code",
   "execution_count": 2,
   "metadata": {},
   "outputs": [
    {
     "data": {
      "text/html": [
       "<div>\n",
       "<style scoped>\n",
       "    .dataframe tbody tr th:only-of-type {\n",
       "        vertical-align: middle;\n",
       "    }\n",
       "\n",
       "    .dataframe tbody tr th {\n",
       "        vertical-align: top;\n",
       "    }\n",
       "\n",
       "    .dataframe thead th {\n",
       "        text-align: right;\n",
       "    }\n",
       "</style>\n",
       "<table border=\"1\" class=\"dataframe\">\n",
       "  <thead>\n",
       "    <tr style=\"text-align: right;\">\n",
       "      <th></th>\n",
       "      <th>s_length</th>\n",
       "      <th>s_width</th>\n",
       "      <th>p_length</th>\n",
       "      <th>p_width</th>\n",
       "    </tr>\n",
       "  </thead>\n",
       "  <tbody>\n",
       "    <tr>\n",
       "      <th>0</th>\n",
       "      <td>5.7</td>\n",
       "      <td>4.4</td>\n",
       "      <td>1.5</td>\n",
       "      <td>0.4</td>\n",
       "    </tr>\n",
       "    <tr>\n",
       "      <th>1</th>\n",
       "      <td>5.5</td>\n",
       "      <td>4.2</td>\n",
       "      <td>1.4</td>\n",
       "      <td>0.2</td>\n",
       "    </tr>\n",
       "    <tr>\n",
       "      <th>2</th>\n",
       "      <td>5.2</td>\n",
       "      <td>4.1</td>\n",
       "      <td>1.5</td>\n",
       "      <td>0.1</td>\n",
       "    </tr>\n",
       "    <tr>\n",
       "      <th>3</th>\n",
       "      <td>5.8</td>\n",
       "      <td>4.0</td>\n",
       "      <td>1.2</td>\n",
       "      <td>0.2</td>\n",
       "    </tr>\n",
       "    <tr>\n",
       "      <th>4</th>\n",
       "      <td>5.4</td>\n",
       "      <td>3.9</td>\n",
       "      <td>1.7</td>\n",
       "      <td>0.4</td>\n",
       "    </tr>\n",
       "    <tr>\n",
       "      <th>...</th>\n",
       "      <td>...</td>\n",
       "      <td>...</td>\n",
       "      <td>...</td>\n",
       "      <td>...</td>\n",
       "    </tr>\n",
       "    <tr>\n",
       "      <th>145</th>\n",
       "      <td>4.5</td>\n",
       "      <td>2.3</td>\n",
       "      <td>1.3</td>\n",
       "      <td>0.3</td>\n",
       "    </tr>\n",
       "    <tr>\n",
       "      <th>146</th>\n",
       "      <td>6.0</td>\n",
       "      <td>2.2</td>\n",
       "      <td>5.0</td>\n",
       "      <td>1.5</td>\n",
       "    </tr>\n",
       "    <tr>\n",
       "      <th>147</th>\n",
       "      <td>6.2</td>\n",
       "      <td>2.2</td>\n",
       "      <td>4.5</td>\n",
       "      <td>1.5</td>\n",
       "    </tr>\n",
       "    <tr>\n",
       "      <th>148</th>\n",
       "      <td>6.0</td>\n",
       "      <td>2.2</td>\n",
       "      <td>4.0</td>\n",
       "      <td>1.0</td>\n",
       "    </tr>\n",
       "    <tr>\n",
       "      <th>149</th>\n",
       "      <td>5.0</td>\n",
       "      <td>2.0</td>\n",
       "      <td>3.5</td>\n",
       "      <td>1.0</td>\n",
       "    </tr>\n",
       "  </tbody>\n",
       "</table>\n",
       "<p>150 rows × 4 columns</p>\n",
       "</div>"
      ],
      "text/plain": [
       "     s_length  s_width  p_length  p_width\n",
       "0         5.7      4.4       1.5      0.4\n",
       "1         5.5      4.2       1.4      0.2\n",
       "2         5.2      4.1       1.5      0.1\n",
       "3         5.8      4.0       1.2      0.2\n",
       "4         5.4      3.9       1.7      0.4\n",
       "..        ...      ...       ...      ...\n",
       "145       4.5      2.3       1.3      0.3\n",
       "146       6.0      2.2       5.0      1.5\n",
       "147       6.2      2.2       4.5      1.5\n",
       "148       6.0      2.2       4.0      1.0\n",
       "149       5.0      2.0       3.5      1.0\n",
       "\n",
       "[150 rows x 4 columns]"
      ]
     },
     "execution_count": 2,
     "metadata": {},
     "output_type": "execute_result"
    }
   ],
   "source": [
    "df = pd.read_csv('../Data/iris_test_data.txt', names=[\"s_length\", \"s_width\", \"p_length\", \"p_width\"], delim_whitespace=True)\n",
    "df"
   ]
  },
  {
   "cell_type": "code",
   "execution_count": 3,
   "metadata": {},
   "outputs": [
    {
     "data": {
      "text/plain": [
       "array([[5.7, 4.4, 1.5, 0.4],\n",
       "       [5.5, 4.2, 1.4, 0.2],\n",
       "       [5.2, 4.1, 1.5, 0.1],\n",
       "       [5.8, 4. , 1.2, 0.2],\n",
       "       [5.4, 3.9, 1.7, 0.4],\n",
       "       [5.4, 3.9, 1.3, 0.4],\n",
       "       [7.7, 3.8, 6.7, 2.2],\n",
       "       [7.9, 3.8, 6.4, 2. ],\n",
       "       [5.1, 3.8, 1.9, 0.4],\n",
       "       [5.7, 3.8, 1.7, 0.3],\n",
       "       [5.1, 3.8, 1.6, 0.2],\n",
       "       [5.1, 3.8, 1.5, 0.3],\n",
       "       [5.1, 3.7, 1.5, 0.4],\n",
       "       [5.4, 3.7, 1.5, 0.2],\n",
       "       [5.3, 3.7, 1.5, 0.2],\n",
       "       [7.2, 3.6, 6.1, 2.5],\n",
       "       [5. , 3.6, 1.4, 0.2],\n",
       "       [4.6, 3.6, 1. , 0.2],\n",
       "       [5. , 3.5, 1.6, 0.6],\n",
       "       [5.2, 3.5, 1.5, 0.2],\n",
       "       [5.1, 3.5, 1.4, 0.3],\n",
       "       [5.1, 3.5, 1.4, 0.2],\n",
       "       [5. , 3.5, 1.3, 0.3],\n",
       "       [5.5, 3.5, 1.3, 0.2],\n",
       "       [6.3, 3.4, 5.6, 2.4],\n",
       "       [6.2, 3.4, 5.4, 2.3],\n",
       "       [6. , 3.4, 4.5, 1.6],\n",
       "       [4.8, 3.4, 1.9, 0.2],\n",
       "       [5.4, 3.4, 1.7, 0.2],\n",
       "       [5. , 3.4, 1.6, 0.4],\n",
       "       [4.8, 3.4, 1.6, 0.2],\n",
       "       [5.4, 3.4, 1.5, 0.4],\n",
       "       [5.1, 3.4, 1.5, 0.2],\n",
       "       [5. , 3.4, 1.5, 0.2],\n",
       "       [4.6, 3.4, 1.4, 0.3],\n",
       "       [5.2, 3.4, 1.4, 0.2],\n",
       "       [6.3, 3.3, 6. , 2.5],\n",
       "       [6.7, 3.3, 5.7, 2.5],\n",
       "       [6.7, 3.3, 5.7, 2.1],\n",
       "       [6.3, 3.3, 4.7, 1.6],\n",
       "       [5.1, 3.3, 1.7, 0.5],\n",
       "       [5. , 3.3, 1.4, 0.2],\n",
       "       [7.2, 3.2, 6. , 1.8],\n",
       "       [6.8, 3.2, 5.9, 2.3],\n",
       "       [6.9, 3.2, 5.7, 2.3],\n",
       "       [6.4, 3.2, 5.3, 2.3],\n",
       "       [6.5, 3.2, 5.1, 2. ],\n",
       "       [5.9, 3.2, 4.8, 1.8],\n",
       "       [7. , 3.2, 4.7, 1.4],\n",
       "       [6.4, 3.2, 4.5, 1.5],\n",
       "       [4.7, 3.2, 1.6, 0.2],\n",
       "       [4.6, 3.2, 1.4, 0.2],\n",
       "       [4.7, 3.2, 1.3, 0.2],\n",
       "       [4.4, 3.2, 1.3, 0.2],\n",
       "       [5. , 3.2, 1.2, 0.2],\n",
       "       [6.7, 3.1, 5.6, 2.4],\n",
       "       [6.4, 3.1, 5.5, 1.8],\n",
       "       [6.9, 3.1, 5.4, 2.1],\n",
       "       [6.9, 3.1, 5.1, 2.3],\n",
       "       [6.9, 3.1, 4.9, 1.5],\n",
       "       [6.7, 3.1, 4.7, 1.5],\n",
       "       [6.7, 3.1, 4.4, 1.4],\n",
       "       [4.8, 3.1, 1.6, 0.2],\n",
       "       [4.6, 3.1, 1.5, 0.2],\n",
       "       [4.9, 3.1, 1.5, 0.1],\n",
       "       [4.9, 3.1, 1.5, 0.1],\n",
       "       [4.9, 3.1, 1.5, 0.1],\n",
       "       [7.6, 3. , 6.6, 2.1],\n",
       "       [7.7, 3. , 6.1, 2.3],\n",
       "       [7.1, 3. , 5.9, 2.1],\n",
       "       [6.5, 3. , 5.8, 2.2],\n",
       "       [7.2, 3. , 5.8, 1.6],\n",
       "       [6.8, 3. , 5.5, 2.1],\n",
       "       [6.5, 3. , 5.5, 1.8],\n",
       "       [6.7, 3. , 5.2, 2.3],\n",
       "       [6.5, 3. , 5.2, 2. ],\n",
       "       [5.9, 3. , 5.1, 1.8],\n",
       "       [6.7, 3. , 5. , 1.7],\n",
       "       [6.1, 3. , 4.9, 1.8],\n",
       "       [6. , 3. , 4.8, 1.8],\n",
       "       [6.1, 3. , 4.6, 1.4],\n",
       "       [5.6, 3. , 4.5, 1.5],\n",
       "       [5.4, 3. , 4.5, 1.5],\n",
       "       [6.6, 3. , 4.4, 1.4],\n",
       "       [5.9, 3. , 4.2, 1.5],\n",
       "       [5.7, 3. , 4.2, 1.2],\n",
       "       [5.6, 3. , 4.1, 1.3],\n",
       "       [5. , 3. , 1.6, 0.2],\n",
       "       [4.8, 3. , 1.4, 0.3],\n",
       "       [4.9, 3. , 1.4, 0.2],\n",
       "       [4.8, 3. , 1.4, 0.1],\n",
       "       [4.4, 3. , 1.3, 0.2],\n",
       "       [4.3, 3. , 1.1, 0.1],\n",
       "       [7.3, 2.9, 6.3, 1.8],\n",
       "       [6.3, 2.9, 5.6, 1.8],\n",
       "       [6.1, 2.9, 4.7, 1.4],\n",
       "       [6.6, 2.9, 4.6, 1.3],\n",
       "       [6. , 2.9, 4.5, 1.5],\n",
       "       [6.4, 2.9, 4.3, 1.3],\n",
       "       [6.2, 2.9, 4.3, 1.3],\n",
       "       [5.7, 2.9, 4.2, 1.3],\n",
       "       [5.6, 2.9, 3.6, 1.3],\n",
       "       [4.4, 2.9, 1.4, 0.2],\n",
       "       [7.7, 2.8, 6.7, 2. ],\n",
       "       [7.4, 2.8, 6.1, 1.9],\n",
       "       [6.4, 2.8, 5.6, 2.2],\n",
       "       [6.4, 2.8, 5.6, 2.1],\n",
       "       [5.8, 2.8, 5.1, 2.4],\n",
       "       [6.3, 2.8, 5.1, 1.5],\n",
       "       [5.6, 2.8, 4.9, 2. ],\n",
       "       [6.2, 2.8, 4.8, 1.8],\n",
       "       [6.8, 2.8, 4.8, 1.4],\n",
       "       [6.1, 2.8, 4.7, 1.2],\n",
       "       [6.5, 2.8, 4.6, 1.5],\n",
       "       [5.7, 2.8, 4.5, 1.3],\n",
       "       [5.7, 2.8, 4.1, 1.3],\n",
       "       [6.1, 2.8, 4. , 1.3],\n",
       "       [6.4, 2.7, 5.3, 1.9],\n",
       "       [5.8, 2.7, 5.1, 1.9],\n",
       "       [5.8, 2.7, 5.1, 1.9],\n",
       "       [6. , 2.7, 5.1, 1.6],\n",
       "       [6.3, 2.7, 4.9, 1.8],\n",
       "       [5.6, 2.7, 4.2, 1.3],\n",
       "       [5.8, 2.7, 4.1, 1. ],\n",
       "       [5.2, 2.7, 3.9, 1.4],\n",
       "       [5.8, 2.7, 3.9, 1.2],\n",
       "       [7.7, 2.6, 6.9, 2.3],\n",
       "       [6.1, 2.6, 5.6, 1.4],\n",
       "       [5.5, 2.6, 4.4, 1.2],\n",
       "       [5.8, 2.6, 4. , 1.2],\n",
       "       [5.7, 2.6, 3.5, 1. ],\n",
       "       [6.7, 2.5, 5.8, 1.8],\n",
       "       [5.7, 2.5, 5. , 2. ],\n",
       "       [6.3, 2.5, 5. , 1.9],\n",
       "       [6.3, 2.5, 4.9, 1.5],\n",
       "       [4.9, 2.5, 4.5, 1.7],\n",
       "       [5.5, 2.5, 4. , 1.3],\n",
       "       [5.6, 2.5, 3.9, 1.1],\n",
       "       [5.1, 2.5, 3. , 1.1],\n",
       "       [5.5, 2.4, 3.8, 1.1],\n",
       "       [5.5, 2.4, 3.7, 1. ],\n",
       "       [4.9, 2.4, 3.3, 1. ],\n",
       "       [6.3, 2.3, 4.4, 1.3],\n",
       "       [5.5, 2.3, 4. , 1.3],\n",
       "       [5. , 2.3, 3.3, 1. ],\n",
       "       [4.5, 2.3, 1.3, 0.3],\n",
       "       [6. , 2.2, 5. , 1.5],\n",
       "       [6.2, 2.2, 4.5, 1.5],\n",
       "       [6. , 2.2, 4. , 1. ],\n",
       "       [5. , 2. , 3.5, 1. ]])"
      ]
     },
     "execution_count": 3,
     "metadata": {},
     "output_type": "execute_result"
    }
   ],
   "source": [
    "data = df.values[:, 0:4]\n",
    "data"
   ]
  },
  {
   "cell_type": "code",
   "execution_count": 4,
   "metadata": {},
   "outputs": [],
   "source": [
    "def kmeans(data, targets, k=3, iters=4,plotdata=None):\n",
    "\n",
    "    # good initial centroids found by inspection\n",
    "    centroid_indices = np.array([136,130,0])\n",
    "    #centroid_indices = np.array([63, 53, 48])\n",
    "\n",
    "    # bad centroids \n",
    "    # centroid_indices = np.array([19,45,63])\n",
    "\n",
    "    # Comment the above line and uncoment the line below to\n",
    "    # chooses k random different points from the dataset as intitial centroids\n",
    "\n",
    "    # centroid_indices = random.sample(range(data.shape[0]),k)\n",
    "    print(centroid_indices)\n",
    "    centroids =  np.array([data[i] for i in centroid_indices])\n",
    "\n",
    "    for it in range(iters):\n",
    "        centroids, classes = compute_centroids(data, centroids)\n",
    "        plotme(plotdata,classes, centroids, iter=it+1)\n",
    "        print(classes)\n",
    "    #plotme(plotdata, targets, centroids, legends=True, clear = True)\n",
    "    #plt.savefig(\"classes-known.jpg\")\n",
    "    plt.pause(4)\n",
    "    plotme(plotdata, classes, iter=\"Final\", clear = True)\n",
    "    return classes"
   ]
  },
  {
   "cell_type": "code",
   "execution_count": 5,
   "metadata": {},
   "outputs": [],
   "source": [
    "def euclidian(x1,x2):\n",
    "    return np.sqrt(sum(np.square(x1-x2)))\n",
    "\n",
    "def getclass(datapoint, centroids):\n",
    "    distances = np.array([euclidian(datapoint, centroid) for centroid in centroids])\n",
    "    return np.argmin(distances)\n",
    "\n",
    "\n",
    "def compute_centroids(data, centroids):\n",
    "    classes = np.zeros(data.shape[0])\n",
    "    # assign each data point to closest centroid\n",
    "    for i in range(len(data)):\n",
    "        classes[i] = getclass(data[i], centroids)\n",
    "\n",
    "    new_centroids = np.ndarray(centroids.shape)\n",
    "\n",
    "    for i in range(len(centroids)):\n",
    "        new_centroids[i] = np.mean(data[classes==i],axis=0)\n",
    "\n",
    "\n",
    "    return new_centroids, classes\n",
    "\n",
    "def plotme(data, target, centroids=[], legends=False, iter=None,clear=False):\n",
    "    if clear:\n",
    "        plt.clf() # Draw the plot each iteration\n",
    "\n",
    "    # Ref: http://www.dummies.com/programming/big-data/data-science/how-to-visualize-the-clusters-in-a-k-means-unsupervised-learning-model/\n",
    "    class_1 = data[target==0]\n",
    "    class_2 = data[target==1]\n",
    "    class_3 = data[target==2]\n",
    "\n",
    "\n",
    "    c1 = plt.scatter(class_1[:,0], class_1[:,1],c='r',\n",
    "            marker='o')\t\n",
    "    c2 = plt.scatter(class_2[:,0], class_2[:,1],c='g',\n",
    "            marker='o')\n",
    "    c3 = plt.scatter(class_3[:,0], class_3[:,1],c='b',\n",
    "            marker='o')\n",
    "\n",
    "    if centroids!=[]:\n",
    "        plt.scatter(centroids[:,0],centroids[:,1],c='k',marker='x',s= 150)\n",
    "\n",
    "    plt.title('Iris dataset with 3 clusters and unknown outcomes : Iter '+str(iter))\n",
    "\n",
    "    plt.pause(1)\n"
   ]
  },
  {
   "cell_type": "code",
   "execution_count": 6,
   "metadata": {},
   "outputs": [],
   "source": [
    "data = df.values.tolist()\n",
    "pca = PCA(n_components=2).fit(data)\n",
    "pca_2d = pca.transform(data)"
   ]
  },
  {
   "cell_type": "code",
   "execution_count": 7,
   "metadata": {},
   "outputs": [
    {
     "data": {
      "text/plain": [
       "array([[-2.38386932,  1.34475434],\n",
       "       [-2.59715948,  1.10002193],\n",
       "       [-2.64763667,  0.81998263],\n",
       "       [-2.64354322,  1.1861949 ],\n",
       "       [-2.27989736,  0.74778271],\n",
       "       [-2.6225262 ,  0.81808967],\n",
       "       [ 3.48876538,  1.17154454],\n",
       "       [ 3.2323429 ,  1.37052404],\n",
       "       [-2.20883295,  0.44269603],\n",
       "       [-2.19907796,  0.87924409],\n",
       "       [-2.53757337,  0.51036755],\n",
       "       [-2.58734619,  0.52047364],\n",
       "       [-2.54323491,  0.44003175],\n",
       "       [-2.50652679,  0.65193501],\n",
       "       [-2.54268576,  0.58628103],\n",
       "       [ 2.91813423,  0.78038063],\n",
       "       [-2.72859298,  0.33392456],\n",
       "       [-3.21585769,  0.14161557],\n",
       "       [-2.4055141 ,  0.19591726],\n",
       "       [-2.56239095,  0.37468456],\n",
       "       [-2.64832273,  0.31913667],\n",
       "       [-2.68420713,  0.32660731],\n",
       "       [-2.77013891,  0.27105942],\n",
       "       [-2.62522846,  0.60680001],\n",
       "       [ 2.14498686,  0.13890661],\n",
       "       [ 1.90162908,  0.11587675],\n",
       "       [ 0.8072055 ,  0.19505396],\n",
       "       [-2.35617109, -0.03120959],\n",
       "       [-2.3105317 ,  0.39786782],\n",
       "       [-2.469056  ,  0.13788731],\n",
       "       [-2.61314272,  0.02152063],\n",
       "       [-2.41007734,  0.41808001],\n",
       "       [-2.59032303,  0.23605934],\n",
       "       [-2.62648199,  0.17040535],\n",
       "       [-2.82089068, -0.08210451],\n",
       "       [-2.63982127,  0.31929007],\n",
       "       [ 2.53172698, -0.01184224],\n",
       "       [ 2.41939122,  0.30350394],\n",
       "       [ 2.27585365,  0.33338653],\n",
       "       [ 1.09522371,  0.28389121],\n",
       "       [-2.30312854,  0.10552268],\n",
       "       [-2.70391231,  0.11501085],\n",
       "       [ 2.61419383,  0.55836695],\n",
       "       [ 2.56332271,  0.2759745 ],\n",
       "       [ 2.42816726,  0.37678197],\n",
       "       [ 1.90474358,  0.11881899],\n",
       "       [ 1.66193495,  0.2420384 ],\n",
       "       [ 1.11624072, -0.08421401],\n",
       "       [ 1.28479459,  0.68543919],\n",
       "       [ 0.93241075,  0.31919809],\n",
       "       [-2.63284791, -0.19007583],\n",
       "       [-2.8403213 , -0.22057634],\n",
       "       [-2.88981954, -0.13734561],\n",
       "       [-2.99829644, -0.33430757],\n",
       "       [-2.86699985,  0.0771931 ],\n",
       "       [ 2.31430339,  0.18260885],\n",
       "       [ 1.90486293,  0.04804751],\n",
       "       [ 2.10765373,  0.37148225],\n",
       "       [ 1.92245088,  0.40927118],\n",
       "       [ 1.46406132,  0.50418983],\n",
       "       [ 1.22042897,  0.40803534],\n",
       "       [ 0.92757294,  0.46823621],\n",
       "       [-2.58846205, -0.19739308],\n",
       "       [-2.7464372 , -0.31112432],\n",
       "       [-2.67384469, -0.1066917 ],\n",
       "       [-2.67384469, -0.1066917 ],\n",
       "       [-2.67384469, -0.1066917 ],\n",
       "       [ 3.39687992,  0.54716805],\n",
       "       [ 3.07652162,  0.68576444],\n",
       "       [ 2.61648461,  0.34193529],\n",
       "       [ 2.34975798, -0.04188255],\n",
       "       [ 2.3875644 ,  0.46251925],\n",
       "       [ 2.16537886,  0.21528028],\n",
       "       [ 1.94924878,  0.04073026],\n",
       "       [ 1.94401705,  0.18741522],\n",
       "       [ 1.76404594,  0.07851919],\n",
       "       [ 1.38966613, -0.28288671],\n",
       "       [ 1.55739627,  0.26739258],\n",
       "       [ 1.29066965, -0.11642525],\n",
       "       [ 1.16885347, -0.1645025 ],\n",
       "       [ 0.89016045, -0.03381244],\n",
       "       [ 0.65959279, -0.35197629],\n",
       "       [ 0.58727485, -0.48328427],\n",
       "       [ 0.89964086,  0.32961098],\n",
       "       [ 0.51109806, -0.10228411],\n",
       "       [ 0.33112695, -0.21118014],\n",
       "       [ 0.24519516, -0.26672804],\n",
       "       [-2.50791723, -0.13905634],\n",
       "       [-2.71566519, -0.24268148],\n",
       "       [-2.71539062, -0.16955685],\n",
       "       [-2.78743398, -0.22774019],\n",
       "       [-2.98184266, -0.48025005],\n",
       "       [-3.22520045, -0.50327991],\n",
       "       [ 2.9320051 ,  0.35237701],\n",
       "       [ 1.97081495, -0.18112569],\n",
       "       [ 0.98404455, -0.12436042],\n",
       "       [ 1.04329778,  0.22895691],\n",
       "       [ 0.81245555, -0.16233157],\n",
       "       [ 0.71400821,  0.15037915],\n",
       "       [ 0.64169028,  0.01907118],\n",
       "       [ 0.37523823, -0.29162202],\n",
       "       [-0.174864  , -0.25181557],\n",
       "       [-2.88795857, -0.57079803],\n",
       "       [ 3.49926548,  0.45677347],\n",
       "       [ 2.84096093,  0.37274259],\n",
       "       [ 2.15873837, -0.21832553],\n",
       "       [ 2.12285398, -0.21085488],\n",
       "       [ 1.5852673 , -0.53930705],\n",
       "       [ 1.4431026 , -0.14380129],\n",
       "       [ 1.19809737, -0.60557896],\n",
       "       [ 1.25762518, -0.179137  ],\n",
       "       [ 1.33104142,  0.24466952],\n",
       "       [ 0.92050265, -0.18239036],\n",
       "       [ 1.08713449,  0.07539039],\n",
       "       [ 0.64043675, -0.41732348],\n",
       "       [ 0.29780791, -0.34701652],\n",
       "       [ 0.35678657, -0.06682383],\n",
       "       [ 1.80234045, -0.21615461],\n",
       "       [ 1.41407223, -0.57492506],\n",
       "       [ 1.41407223, -0.57492506],\n",
       "       [ 1.37873698, -0.42120514],\n",
       "       [ 1.38766825, -0.20403099],\n",
       "       [ 0.35553304, -0.50321849],\n",
       "       [ 0.23454059, -0.33192183],\n",
       "       [-0.01019007, -0.72057487],\n",
       "       [ 0.13499495, -0.31170964],\n",
       "       [ 3.79468686,  0.25326557],\n",
       "       [ 1.77964011, -0.50146479],\n",
       "       [ 0.46303099, -0.66952655],\n",
       "       [ 0.22887905, -0.40225762],\n",
       "       [-0.30733476, -0.36508661],\n",
       "       [ 2.31967279, -0.24554817],\n",
       "       [ 1.34459422, -0.77641543],\n",
       "       [ 1.52566363, -0.37502085],\n",
       "       [ 1.29646885, -0.32756152],\n",
       "       [ 0.51938325, -1.19135169],\n",
       "       [ 0.16451343, -0.67966147],\n",
       "       [ 0.0432464 , -0.58148945],\n",
       "       [-0.90846333, -0.75156873],\n",
       "       [-0.07034289, -0.70253793],\n",
       "       [-0.19188449, -0.67749054],\n",
       "       [-0.75146714, -1.00110751],\n",
       "       [ 0.81286779, -0.370679  ],\n",
       "       [ 0.18096721, -0.82560394],\n",
       "       [-0.70708128, -1.00842476],\n",
       "       [-2.85221108, -0.93286537],\n",
       "       [ 1.29832982, -0.76101394],\n",
       "       [ 0.94236171, -0.54182226],\n",
       "       [ 0.26233576, -0.5478933 ],\n",
       "       [-0.5110862 , -1.26249195]])"
      ]
     },
     "execution_count": 7,
     "metadata": {},
     "output_type": "execute_result"
    }
   ],
   "source": [
    "pca_2d"
   ]
  },
  {
   "cell_type": "code",
   "execution_count": 8,
   "metadata": {},
   "outputs": [
    {
     "name": "stdout",
     "output_type": "stream",
     "text": [
      "[136 130   0]\n"
     ]
    },
    {
     "name": "stderr",
     "output_type": "stream",
     "text": [
      "C:\\Users\\willa\\AppData\\Roaming\\Python\\Python37\\site-packages\\ipykernel_launcher.py:40: DeprecationWarning: elementwise comparison failed; this will raise an error in the future.\n"
     ]
    },
    {
     "data": {
      "image/png": "[encoded data removed]",
      "text/plain": [
       "<Figure size 432x288 with 1 Axes>"
      ]
     },
     "metadata": {
      "needs_background": "light"
     },
     "output_type": "display_data"
    },
    {
     "name": "stdout",
     "output_type": "stream",
     "text": [
      "[2. 2. 2. 2. 2. 2. 0. 0. 2. 2. 2. 2. 2. 2. 2. 0. 2. 2. 2. 2. 2. 2. 2. 2.\n",
      " 0. 0. 0. 2. 2. 2. 2. 2. 2. 2. 2. 2. 0. 0. 0. 0. 2. 2. 0. 0. 0. 0. 0. 0.\n",
      " 0. 0. 2. 2. 2. 2. 2. 0. 0. 0. 0. 0. 0. 0. 2. 2. 2. 2. 2. 0. 0. 0. 0. 0.\n",
      " 0. 0. 0. 0. 0. 0. 0. 0. 0. 0. 0. 0. 0. 0. 0. 2. 2. 2. 2. 2. 2. 0. 0. 0.\n",
      " 0. 0. 0. 0. 0. 1. 2. 0. 0. 0. 0. 0. 0. 0. 0. 0. 0. 0. 0. 0. 0. 0. 0. 0.\n",
      " 0. 0. 0. 0. 0. 0. 0. 0. 0. 0. 1. 0. 0. 0. 0. 0. 0. 0. 1. 0. 1. 1. 0. 0.\n",
      " 1. 2. 0. 0. 0. 0.]\n"
     ]
    },
    {
     "data": {
      "image/png": "[encoded data removed]",
      "text/plain": [
       "<Figure size 432x288 with 1 Axes>"
      ]
     },
     "metadata": {
      "needs_background": "light"
     },
     "output_type": "display_data"
    },
    {
     "name": "stdout",
     "output_type": "stream",
     "text": [
      "[2. 2. 2. 2. 2. 2. 0. 0. 2. 2. 2. 2. 2. 2. 2. 0. 2. 2. 2. 2. 2. 2. 2. 2.\n",
      " 0. 0. 0. 2. 2. 2. 2. 2. 2. 2. 2. 2. 0. 0. 0. 0. 2. 2. 0. 0. 0. 0. 0. 0.\n",
      " 0. 0. 2. 2. 2. 2. 2. 0. 0. 0. 0. 0. 0. 0. 2. 2. 2. 2. 2. 0. 0. 0. 0. 0.\n",
      " 0. 0. 0. 0. 0. 0. 0. 0. 0. 0. 0. 0. 0. 1. 1. 2. 2. 2. 2. 2. 2. 0. 0. 0.\n",
      " 0. 0. 0. 0. 1. 1. 2. 0. 0. 0. 0. 0. 0. 0. 0. 0. 0. 0. 0. 1. 1. 0. 0. 0.\n",
      " 0. 0. 1. 1. 1. 1. 0. 0. 1. 1. 1. 0. 0. 0. 0. 1. 1. 1. 1. 1. 1. 1. 0. 1.\n",
      " 1. 2. 0. 0. 1. 1.]\n"
     ]
    },
    {
     "data": {
      "image/png": "[encoded data removed]",
      "text/plain": [
       "<Figure size 432x288 with 1 Axes>"
      ]
     },
     "metadata": {
      "needs_background": "light"
     },
     "output_type": "display_data"
    },
    {
     "name": "stdout",
     "output_type": "stream",
     "text": [
      "[2. 2. 2. 2. 2. 2. 0. 0. 2. 2. 2. 2. 2. 2. 2. 0. 2. 2. 2. 2. 2. 2. 2. 2.\n",
      " 0. 0. 0. 2. 2. 2. 2. 2. 2. 2. 2. 2. 0. 0. 0. 0. 2. 2. 0. 0. 0. 0. 0. 0.\n",
      " 0. 0. 2. 2. 2. 2. 2. 0. 0. 0. 0. 0. 0. 0. 2. 2. 2. 2. 2. 0. 0. 0. 0. 0.\n",
      " 0. 0. 0. 0. 0. 0. 0. 0. 0. 1. 1. 0. 1. 1. 1. 2. 2. 2. 2. 2. 2. 0. 0. 0.\n",
      " 0. 1. 1. 1. 1. 1. 2. 0. 0. 0. 0. 0. 0. 0. 0. 0. 0. 0. 1. 1. 1. 0. 0. 0.\n",
      " 0. 0. 1. 1. 1. 1. 0. 0. 1. 1. 1. 0. 0. 0. 0. 1. 1. 1. 1. 1. 1. 1. 1. 1.\n",
      " 1. 2. 0. 1. 1. 1.]\n"
     ]
    },
    {
     "data": {
      "image/png": "[encoded data removed]",
      "text/plain": [
       "<Figure size 432x288 with 1 Axes>"
      ]
     },
     "metadata": {
      "needs_background": "light"
     },
     "output_type": "display_data"
    },
    {
     "name": "stdout",
     "output_type": "stream",
     "text": [
      "[2. 2. 2. 2. 2. 2. 0. 0. 2. 2. 2. 2. 2. 2. 2. 0. 2. 2. 2. 2. 2. 2. 2. 2.\n",
      " 0. 0. 1. 2. 2. 2. 2. 2. 2. 2. 2. 2. 0. 0. 0. 0. 2. 2. 0. 0. 0. 0. 0. 0.\n",
      " 0. 0. 2. 2. 2. 2. 2. 0. 0. 0. 0. 0. 0. 0. 2. 2. 2. 2. 2. 0. 0. 0. 0. 0.\n",
      " 0. 0. 0. 0. 0. 0. 0. 0. 1. 1. 1. 0. 1. 1. 1. 2. 2. 2. 2. 2. 2. 0. 0. 1.\n",
      " 0. 1. 1. 1. 1. 1. 2. 0. 0. 0. 0. 0. 0. 0. 0. 0. 1. 0. 1. 1. 1. 0. 0. 0.\n",
      " 0. 0. 1. 1. 1. 1. 0. 0. 1. 1. 1. 0. 0. 0. 0. 1. 1. 1. 1. 1. 1. 1. 1. 1.\n",
      " 1. 2. 0. 1. 1. 1.]\n"
     ]
    },
    {
     "data": {
      "image/png": "[encoded data removed]",
      "text/plain": [
       "<Figure size 432x288 with 1 Axes>"
      ]
     },
     "metadata": {
      "needs_background": "light"
     },
     "output_type": "display_data"
    }
   ],
   "source": [
    "plt.ion() # Interactive on\n",
    "target = np.array([1,2,3])\n",
    "y = kmeans(pca_2d, target, k=len(np.unique(target)), plotdata=pca_2d)"
   ]
  },
  {
   "cell_type": "code",
   "execution_count": 9,
   "metadata": {},
   "outputs": [
    {
     "data": {
      "text/plain": [
       "array([2., 2., 2., 2., 2., 2., 0., 0., 2., 2., 2., 2., 2., 2., 2., 0., 2.,\n",
       "       2., 2., 2., 2., 2., 2., 2., 0., 0., 1., 2., 2., 2., 2., 2., 2., 2.,\n",
       "       2., 2., 0., 0., 0., 0., 2., 2., 0., 0., 0., 0., 0., 0., 0., 0., 2.,\n",
       "       2., 2., 2., 2., 0., 0., 0., 0., 0., 0., 0., 2., 2., 2., 2., 2., 0.,\n",
       "       0., 0., 0., 0., 0., 0., 0., 0., 0., 0., 0., 0., 1., 1., 1., 0., 1.,\n",
       "       1., 1., 2., 2., 2., 2., 2., 2., 0., 0., 1., 0., 1., 1., 1., 1., 1.,\n",
       "       2., 0., 0., 0., 0., 0., 0., 0., 0., 0., 1., 0., 1., 1., 1., 0., 0.,\n",
       "       0., 0., 0., 1., 1., 1., 1., 0., 0., 1., 1., 1., 0., 0., 0., 0., 1.,\n",
       "       1., 1., 1., 1., 1., 1., 1., 1., 1., 2., 0., 1., 1., 1.])"
      ]
     },
     "execution_count": 9,
     "metadata": {},
     "output_type": "execute_result"
    }
   ],
   "source": [
    "y\n"
   ]
  },
  {
   "cell_type": "code",
   "execution_count": 10,
   "metadata": {
    "scrolled": true
   },
   "outputs": [
    {
     "data": {
      "text/plain": [
       "numpy.ndarray"
      ]
     },
     "execution_count": 10,
     "metadata": {},
     "output_type": "execute_result"
    }
   ],
   "source": [
    "type(y)"
   ]
  },
  {
   "cell_type": "code",
   "execution_count": 11,
   "metadata": {},
   "outputs": [
    {
     "data": {
      "text/plain": [
       "numpy.float64"
      ]
     },
     "execution_count": 11,
     "metadata": {},
     "output_type": "execute_result"
    }
   ],
   "source": [
    "type(y[1])"
   ]
  },
  {
   "cell_type": "code",
   "execution_count": 12,
   "metadata": {},
   "outputs": [],
   "source": [
    "y = y.astype(np.int)"
   ]
  },
  {
   "cell_type": "code",
   "execution_count": 13,
   "metadata": {},
   "outputs": [
    {
     "data": {
      "text/plain": [
       "array([2, 2, 2, 2, 2, 2, 0, 0, 2, 2, 2, 2, 2, 2, 2, 0, 2, 2, 2, 2, 2, 2,\n",
       "       2, 2, 0, 0, 1, 2, 2, 2, 2, 2, 2, 2, 2, 2, 0, 0, 0, 0, 2, 2, 0, 0,\n",
       "       0, 0, 0, 0, 0, 0, 2, 2, 2, 2, 2, 0, 0, 0, 0, 0, 0, 0, 2, 2, 2, 2,\n",
       "       2, 0, 0, 0, 0, 0, 0, 0, 0, 0, 0, 0, 0, 0, 1, 1, 1, 0, 1, 1, 1, 2,\n",
       "       2, 2, 2, 2, 2, 0, 0, 1, 0, 1, 1, 1, 1, 1, 2, 0, 0, 0, 0, 0, 0, 0,\n",
       "       0, 0, 1, 0, 1, 1, 1, 0, 0, 0, 0, 0, 1, 1, 1, 1, 0, 0, 1, 1, 1, 0,\n",
       "       0, 0, 0, 1, 1, 1, 1, 1, 1, 1, 1, 1, 1, 2, 0, 1, 1, 1])"
      ]
     },
     "execution_count": 13,
     "metadata": {},
     "output_type": "execute_result"
    }
   ],
   "source": [
    "y"
   ]
  },
  {
   "cell_type": "code",
   "execution_count": 14,
   "metadata": {},
   "outputs": [
    {
     "data": {
      "text/plain": [
       "array([3, 3, 3, 3, 3, 3, 1, 1, 3, 3, 3, 3, 3, 3, 3, 1, 3, 3, 3, 3, 3, 3,\n",
       "       3, 3, 1, 1, 2, 3, 3, 3, 3, 3, 3, 3, 3, 3, 1, 1, 1, 1, 3, 3, 1, 1,\n",
       "       1, 1, 1, 1, 1, 1, 3, 3, 3, 3, 3, 1, 1, 1, 1, 1, 1, 1, 3, 3, 3, 3,\n",
       "       3, 1, 1, 1, 1, 1, 1, 1, 1, 1, 1, 1, 1, 1, 2, 2, 2, 1, 2, 2, 2, 3,\n",
       "       3, 3, 3, 3, 3, 1, 1, 2, 1, 2, 2, 2, 2, 2, 3, 1, 1, 1, 1, 1, 1, 1,\n",
       "       1, 1, 2, 1, 2, 2, 2, 1, 1, 1, 1, 1, 2, 2, 2, 2, 1, 1, 2, 2, 2, 1,\n",
       "       1, 1, 1, 2, 2, 2, 2, 2, 2, 2, 2, 2, 2, 3, 1, 2, 2, 2])"
      ]
     },
     "execution_count": 14,
     "metadata": {},
     "output_type": "execute_result"
    }
   ],
   "source": [
    "for i in range(len(y)):\n",
    "        y[i]=y[i]+1\n",
    "y"
   ]
  },
  {
   "cell_type": "code",
   "execution_count": 15,
   "metadata": {},
   "outputs": [
    {
     "data": {
      "text/html": [
       "<div>\n",
       "<style scoped>\n",
       "    .dataframe tbody tr th:only-of-type {\n",
       "        vertical-align: middle;\n",
       "    }\n",
       "\n",
       "    .dataframe tbody tr th {\n",
       "        vertical-align: top;\n",
       "    }\n",
       "\n",
       "    .dataframe thead th {\n",
       "        text-align: right;\n",
       "    }\n",
       "</style>\n",
       "<table border=\"1\" class=\"dataframe\">\n",
       "  <thead>\n",
       "    <tr style=\"text-align: right;\">\n",
       "      <th></th>\n",
       "      <th>s_length</th>\n",
       "      <th>s_width</th>\n",
       "      <th>p_length</th>\n",
       "      <th>p_width</th>\n",
       "      <th>target</th>\n",
       "    </tr>\n",
       "  </thead>\n",
       "  <tbody>\n",
       "    <tr>\n",
       "      <th>0</th>\n",
       "      <td>5.7</td>\n",
       "      <td>4.4</td>\n",
       "      <td>1.5</td>\n",
       "      <td>0.4</td>\n",
       "      <td>3</td>\n",
       "    </tr>\n",
       "    <tr>\n",
       "      <th>1</th>\n",
       "      <td>5.5</td>\n",
       "      <td>4.2</td>\n",
       "      <td>1.4</td>\n",
       "      <td>0.2</td>\n",
       "      <td>3</td>\n",
       "    </tr>\n",
       "    <tr>\n",
       "      <th>2</th>\n",
       "      <td>5.2</td>\n",
       "      <td>4.1</td>\n",
       "      <td>1.5</td>\n",
       "      <td>0.1</td>\n",
       "      <td>3</td>\n",
       "    </tr>\n",
       "    <tr>\n",
       "      <th>3</th>\n",
       "      <td>5.8</td>\n",
       "      <td>4.0</td>\n",
       "      <td>1.2</td>\n",
       "      <td>0.2</td>\n",
       "      <td>3</td>\n",
       "    </tr>\n",
       "    <tr>\n",
       "      <th>4</th>\n",
       "      <td>5.4</td>\n",
       "      <td>3.9</td>\n",
       "      <td>1.7</td>\n",
       "      <td>0.4</td>\n",
       "      <td>3</td>\n",
       "    </tr>\n",
       "    <tr>\n",
       "      <th>...</th>\n",
       "      <td>...</td>\n",
       "      <td>...</td>\n",
       "      <td>...</td>\n",
       "      <td>...</td>\n",
       "      <td>...</td>\n",
       "    </tr>\n",
       "    <tr>\n",
       "      <th>145</th>\n",
       "      <td>4.5</td>\n",
       "      <td>2.3</td>\n",
       "      <td>1.3</td>\n",
       "      <td>0.3</td>\n",
       "      <td>3</td>\n",
       "    </tr>\n",
       "    <tr>\n",
       "      <th>146</th>\n",
       "      <td>6.0</td>\n",
       "      <td>2.2</td>\n",
       "      <td>5.0</td>\n",
       "      <td>1.5</td>\n",
       "      <td>1</td>\n",
       "    </tr>\n",
       "    <tr>\n",
       "      <th>147</th>\n",
       "      <td>6.2</td>\n",
       "      <td>2.2</td>\n",
       "      <td>4.5</td>\n",
       "      <td>1.5</td>\n",
       "      <td>2</td>\n",
       "    </tr>\n",
       "    <tr>\n",
       "      <th>148</th>\n",
       "      <td>6.0</td>\n",
       "      <td>2.2</td>\n",
       "      <td>4.0</td>\n",
       "      <td>1.0</td>\n",
       "      <td>2</td>\n",
       "    </tr>\n",
       "    <tr>\n",
       "      <th>149</th>\n",
       "      <td>5.0</td>\n",
       "      <td>2.0</td>\n",
       "      <td>3.5</td>\n",
       "      <td>1.0</td>\n",
       "      <td>2</td>\n",
       "    </tr>\n",
       "  </tbody>\n",
       "</table>\n",
       "<p>150 rows × 5 columns</p>\n",
       "</div>"
      ],
      "text/plain": [
       "     s_length  s_width  p_length  p_width  target\n",
       "0         5.7      4.4       1.5      0.4       3\n",
       "1         5.5      4.2       1.4      0.2       3\n",
       "2         5.2      4.1       1.5      0.1       3\n",
       "3         5.8      4.0       1.2      0.2       3\n",
       "4         5.4      3.9       1.7      0.4       3\n",
       "..        ...      ...       ...      ...     ...\n",
       "145       4.5      2.3       1.3      0.3       3\n",
       "146       6.0      2.2       5.0      1.5       1\n",
       "147       6.2      2.2       4.5      1.5       2\n",
       "148       6.0      2.2       4.0      1.0       2\n",
       "149       5.0      2.0       3.5      1.0       2\n",
       "\n",
       "[150 rows x 5 columns]"
      ]
     },
     "execution_count": 15,
     "metadata": {},
     "output_type": "execute_result"
    }
   ],
   "source": [
    "df['target'] = pd.Series(y)\n",
    "df"
   ]
  },
  {
   "cell_type": "code",
   "execution_count": 16,
   "metadata": {},
   "outputs": [],
   "source": [
    "np.savetxt(r'../Data/out.txt',df['target'],fmt='%d')"
   ]
  }
 ],
 "metadata": {
  "kernelspec": {
   "display_name": "Python 3",
   "language": "python",
   "name": "python3"
  },
  "language_info": {
   "codemirror_mode": {
    "name": "ipython",
    "version": 3
   },
   "file_extension": ".py",
   "mimetype": "text/x-python",
   "name": "python",
   "nbconvert_exporter": "python",
   "pygments_lexer": "ipython3",
   "version": "3.7.6"
  }
 },
 "nbformat": 4,
 "nbformat_minor": 4
}
