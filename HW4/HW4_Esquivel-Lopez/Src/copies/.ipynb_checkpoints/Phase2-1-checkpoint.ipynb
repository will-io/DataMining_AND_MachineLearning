{
 "cells": [
  {
   "cell_type": "code",
   "execution_count": 1,
   "metadata": {},
   "outputs": [],
   "source": [
    "import numpy as np\n",
    "import pandas as pd\n",
    "import seaborn as sns  \n",
    "import matplotlib.pyplot as plt\n",
    "import re\n",
    "import random\n",
    "import scipy\n",
    "from matplotlib.pyplot import figure\n",
    "from sklearn.decomposition import PCA\n",
    "import sklearn.model_selection as skl_ms\n",
    "from sklearn.manifold import TSNE"
   ]
  },
  {
   "cell_type": "code",
   "execution_count": 2,
   "metadata": {},
   "outputs": [
    {
     "data": {
      "text/plain": [
       "array([  0,   0,   0,   0,   0,   0,   0,   0,   0,   0,   0,   0,   0,\n",
       "         0,   0,   0,   0,   0,   0,   0,   0,   0,   0,   0,   0,   0,\n",
       "         0,   0,   0,   0,   0,   0,   0,   0,   0,   0,   0,   0,   0,\n",
       "         0,   0,   0,   0,   0,   0,   0,   0,   0,   0,   0,   0,   0,\n",
       "         0,   0,   0,   0,   0,   0,   0,   0,   0,   0,   0,   0,   0,\n",
       "         0,   0,   0,   0,   0,   0,   0,   0,   0,   0,   0,   0,   0,\n",
       "         0,   0,   0,   0,   0,   0,   0,   0,   0,   0,   0,   0,   0,\n",
       "         0,   0,   0,   0,   0,   0,   0,   0,   0,   0,   0,   0,   0,\n",
       "         0,   0,   0,   0,   0,   0,   0,   0,   0,   0,   0,   0,   0,\n",
       "         0,   0,   0,   0,   0,   0,   0,   0,   0,   0,   0,   0,   0,\n",
       "         0,   0,   0,   0,   0,   0,   0,   0,   0,   0,   0,   0,   0,\n",
       "         0,   0,   0,   0,   0,   0,   0,   0,   0,   0,   0,   0,   0,\n",
       "         0,   0,   0,   0,   0,   0,   0,   0,   0,   0,   0,   0,   0,\n",
       "         0,   0,   0,   0,   0,   0,   0,   0,   0,   4, 111, 179, 253,\n",
       "       253, 249, 122,  13,  94, 132,  99,   3,   0,   0,   0,   0,   0,\n",
       "         0,   0,   0,   0,   0,   0,   0,   0,   0,   0,  47, 175, 252,\n",
       "       252, 252, 252, 253, 252, 252, 252, 252, 252, 125,   4,   0,   0,\n",
       "         0,   0,   0,   0,   0,   0,   0,   0,   0,   0,   0,  48, 225,\n",
       "       252, 252, 238, 107,  96, 102, 237, 252, 235, 252, 252, 252,  36,\n",
       "         0,   0,   0,   0,   0,   0,   0,   0,   0,   0,   0,   0,   7,\n",
       "       185, 252, 252, 213,  69,   0,   0,   0, 118, 129,  76, 252, 252,\n",
       "       252,  36,   0,   0,   0,   0,   0,   0,   0,   0,   0,   0,   0,\n",
       "         0,  37, 252, 252, 252,  48,   0,   0,   0,   0,   0,   0, 135,\n",
       "       252, 252, 232,  27,   0,   0,   0,   0,   0,   0,   0,   0,   0,\n",
       "         0,   0,   0,  37, 252, 252, 197,  12,   0,   0,   0,   0,   0,\n",
       "         0, 169, 252, 252, 133,   0,   0,   0,   0,   0,   0,   0,   0,\n",
       "         0,   0,   0,   0,   0,  37, 252, 252, 239,  39,   0,   0,   0,\n",
       "         0,   0,  13, 197, 252, 228,  32,   0,   0,   0,   0,   0,   0,\n",
       "         0,   0,   0,   0,   0,   0,   0,  23, 220, 252, 252,  48,   0,\n",
       "         0,   0,   0,  21, 222, 252, 229,  54,   0,   0,   0,   0,   0,\n",
       "         0,   0,   0,   0,   0,   0,   0,   0,   0,   0, 118, 252, 252,\n",
       "       193,  16,   0,   0,  58, 180, 252, 252, 140,   0,   0,   0,   0,\n",
       "         0,   0,   0,   0,   0,   0,   0,   0,   0,   0,   0,   0,   3,\n",
       "       184, 252, 252, 150,   0,  58, 190, 252, 252, 148,   4,   0,   0,\n",
       "         0,   0,   0,   0,   0,   0,   0,   0,   0,   0,   0,   0,   0,\n",
       "         0,   0,  61, 253, 253, 207, 132, 248, 255, 252, 166,  40,   0,\n",
       "         0,   0,   0,   0,   0,   0,   0,   0,   0,   0,   0,   0,   0,\n",
       "         0,   0,   0,   0,  26, 200, 248, 252, 252, 252, 241, 148,   0,\n",
       "         0,   0,   0,   0,   0,   0,   0,   0,   0,   0,   0,   0,   0,\n",
       "         0,   0,   0,   0,   0,   0,   0,   0, 205, 252, 252, 252, 121,\n",
       "         0,   0,   0,   0,   0,   0,   0,   0,   0,   0,   0,   0,   0,\n",
       "         0,   0,   0,   0,   0,   0,   0,   0,   0,   0, 205, 252, 252,\n",
       "       252, 121,   0,   0,   0,   0,   0,   0,   0,   0,   0,   0,   0,\n",
       "         0,   0,   0,   0,   0,   0,   0,   0,   0,   0,   0,  53, 239,\n",
       "       252, 252, 252, 149,   0,   0,   0,   0,   0,   0,   0,   0,   0,\n",
       "         0,   0,   0,   0,   0,   0,   0,   0,   0,   0,   0,   0,  18,\n",
       "       182, 252, 252, 252, 252, 245,  31,   0,   0,   0,   0,   0,   0,\n",
       "         0,   0,   0,   0,   0,   0,   0,   0,   0,   0,   0,   0,   0,\n",
       "         0,  61, 252, 252, 252, 252, 252, 253, 108,   0,   0,   0,   0,\n",
       "         0,   0,   0,   0,   0,   0,   0,   0,   0,   0,   0,   0,   0,\n",
       "         0,   0,   0,  61, 252, 252, 252, 252, 252, 197,  15,   0,   0,\n",
       "         0,   0,   0,   0,   0,   0,   0,   0,   0,   0,   0,   0,   0,\n",
       "         0,   0,   0,   0,   0,  35, 227, 252, 252, 252, 252,  69,   0,\n",
       "         0,   0,   0,   0,   0,   0,   0,   0,   0,   0,   0,   0,   0,\n",
       "         0,   0,   0,   0,   0,   0,   0,   0,  44, 230, 252, 252,  80,\n",
       "         0,   0,   0,   0,   0,   0,   0,   0,   0,   0,   0,   0,   0,\n",
       "         0,   0,   0,   0,   0,   0,   0,   0,   0,   0,   0,   0,   0,\n",
       "         0,   0,   0,   0,   0,   0,   0,   0,   0,   0,   0,   0,   0,\n",
       "         0,   0,   0,   0,   0,   0,   0,   0,   0,   0,   0,   0,   0,\n",
       "         0,   0,   0,   0,   0,   0,   0,   0,   0,   0,   0,   0,   0,\n",
       "         0,   0,   0,   0])"
      ]
     },
     "execution_count": 2,
     "metadata": {},
     "output_type": "execute_result"
    }
   ],
   "source": [
    "my_data = np.genfromtxt('../../Data2/Test_Data.txt', delimiter=',',  dtype='int')\n",
    "#my_data[0]"
   ]
  },
  {
   "cell_type": "code",
   "execution_count": 3,
   "metadata": {},
   "outputs": [
    {
     "data": {
      "text/plain": [
       "numpy.ndarray"
      ]
     },
     "execution_count": 3,
     "metadata": {},
     "output_type": "execute_result"
    }
   ],
   "source": [
    "type(my_data)"
   ]
  },
  {
   "cell_type": "code",
   "execution_count": 4,
   "metadata": {},
   "outputs": [],
   "source": [
    "(A_train, A_test) = skl_ms.train_test_split(my_data)"
   ]
  },
  {
   "cell_type": "code",
   "execution_count": 5,
   "metadata": {},
   "outputs": [
    {
     "data": {
      "text/plain": [
       "numpy.ndarray"
      ]
     },
     "execution_count": 5,
     "metadata": {},
     "output_type": "execute_result"
    }
   ],
   "source": [
    "type(A_train)"
   ]
  },
  {
   "cell_type": "code",
   "execution_count": 6,
   "metadata": {},
   "outputs": [
    {
     "data": {
      "text/plain": [
       "(2500, 784)"
      ]
     },
     "execution_count": 6,
     "metadata": {},
     "output_type": "execute_result"
    }
   ],
   "source": [
    "A_test.shape"
   ]
  },
  {
   "cell_type": "code",
   "execution_count": 7,
   "metadata": {},
   "outputs": [
    {
     "data": {
      "text/plain": [
       "(10000, 784)"
      ]
     },
     "execution_count": 7,
     "metadata": {},
     "output_type": "execute_result"
    }
   ],
   "source": [
    "my_data.shape"
   ]
  },
  {
   "cell_type": "code",
   "execution_count": 8,
   "metadata": {},
   "outputs": [],
   "source": [
    "def kmeans(data, targets, k=10, iters=8,plotdata=None):\n",
    "\n",
    "    # good initial centroids found upon inspection\n",
    "    #centroid_indices = np.array([136,130,0])\n",
    "    #centroid_indices = np.array([63, 53, 48])\n",
    "\n",
    "\n",
    "    # Comment the above line and uncoment the line below to\n",
    "    # chooses k random different points from the dataset as intitial centroids\n",
    "\n",
    "    centroid_indices = random.sample(range(data.shape[0]),k)\n",
    "    print(centroid_indices)\n",
    "    centroids =  np.array([data[i] for i in centroid_indices])\n",
    "\n",
    "    for it in range(iters):\n",
    "        centroids, classes = compute_centroids(data, centroids)\n",
    "        plotme(plotdata,classes, centroids, iter=it+1)\n",
    "        print(classes)\n",
    "    #plotme(plotdata, targets, centroids, legends=True, clear = True)\n",
    "    #plt.savefig(\"classes-known.jpg\")\n",
    "    plt.pause(4)\n",
    "    plotme(plotdata, classes, iter=\"Final\", clear = True)\n",
    "    return classes"
   ]
  },
  {
   "cell_type": "code",
   "execution_count": 9,
   "metadata": {},
   "outputs": [],
   "source": [
    "def euclidian(x1,x2):\n",
    "    return np.sqrt(sum(np.square(x1-x2)))\n",
    "\n",
    "def getclass(datapoint, centroids):\n",
    "    distances = np.array([euclidian(datapoint, centroid) for centroid in centroids])\n",
    "    return np.argmin(distances)\n",
    "\n",
    "\n",
    "def compute_centroids(data, centroids):\n",
    "    classes = np.zeros(data.shape[0])\n",
    "    # assign each data point to closest centroid\n",
    "    for i in range(len(data)):\n",
    "        classes[i] = getclass(data[i], centroids)\n",
    "\n",
    "    new_centroids = np.ndarray(centroids.shape)\n",
    "\n",
    "    for i in range(len(centroids)):\n",
    "        new_centroids[i] = np.mean(data[classes==i],axis=0)\n",
    "\n",
    "\n",
    "    return new_centroids, classes\n",
    "\n",
    "def plotme(data, target, centroids=[], legends=False, iter=None,clear=False):\n",
    "    colors=  ['#1f77b4', '#ff7f0e', '#2ca02c', '#d62728', '#9467bd', '#8c564b', '#e377c2', '#7f7f7f', '#bcbd22', '#17becf']\n",
    "    if clear:\n",
    "        plt.clf() # Draw the plot each iteration\n",
    "\n",
    "    # Ref: http://www.dummies.com/programming/big-data/data-science/how-to-visualize-the-clusters-in-a-k-means-unsupervised-learning-model/\n",
    "    class_1 = data[target==0]\n",
    "    class_2 = data[target==1]\n",
    "    class_3 = data[target==2]\n",
    "    class_4 = data[target==3]\n",
    "    class_5 = data[target==4]\n",
    "    class_6 = data[target==5]\n",
    "    class_7 = data[target==6]\n",
    "    class_8 = data[target==7]\n",
    "    class_9 = data[target==8]\n",
    "    class_10 = data[target==9]\n",
    "    \n",
    "    c1 = plt.scatter(class_1[:,0], class_1[:,1],c=colors[0],\n",
    "            marker='o')\t\n",
    "    c2 = plt.scatter(class_2[:,0], class_2[:,1],c=colors[1],\n",
    "            marker='o')\n",
    "    c3 = plt.scatter(class_3[:,0], class_3[:,1],c=colors[2],\n",
    "            marker='o')\n",
    "    c4 = plt.scatter(class_4[:,0], class_4[:,1],c=colors[3],\n",
    "            marker='o')\t\n",
    "    c5 = plt.scatter(class_5[:,0], class_5[:,1],c=colors[4],\n",
    "            marker='o')\n",
    "    c6 = plt.scatter(class_6[:,0], class_6[:,1],c=colors[5],\n",
    "            marker='o')\n",
    "    c7 = plt.scatter(class_7[:,0], class_7[:,1],c=colors[6],\n",
    "            marker='o')\t\n",
    "    c8 = plt.scatter(class_8[:,0], class_8[:,1],c=colors[7],\n",
    "            marker='o')\n",
    "    c9 = plt.scatter(class_9[:,0], class_9[:,1],c=colors[8],\n",
    "            marker='o')\n",
    "    c10 = plt.scatter(class_10[:,0], class_10[:,1],c=colors[9],\n",
    "            marker='o')\n",
    "    \n",
    "\n",
    "    if centroids!=[]:\n",
    "        plt.scatter(centroids[:,0],centroids[:,1],c='k',marker='x',s= 150)\n",
    "\n",
    "    plt.title('Digit Images Clustering with 10 clusters and unknown outcomes: Iter '+str(iter))\n",
    "\n",
    "    plt.pause(1)\n"
   ]
  },
  {
   "cell_type": "code",
   "execution_count": 10,
   "metadata": {},
   "outputs": [],
   "source": [
    "#data = my_data.values.tolist()\n",
    "#pca = PCA(n_components=2).fit(my_data)\n",
    "#pca_2d = pca.transform(my_data)\n",
    "#pca_2d"
   ]
  },
  {
   "cell_type": "code",
   "execution_count": null,
   "metadata": {},
   "outputs": [],
   "source": [
    "#data = my_data.values.tolist()\n",
    "pca_2d = TSNE(n_components=2).fit_transform(my_data)"
   ]
  },
  {
   "cell_type": "code",
   "execution_count": null,
   "metadata": {},
   "outputs": [],
   "source": [
    "#type(pca_2d[1][1])"
   ]
  },
  {
   "cell_type": "code",
   "execution_count": null,
   "metadata": {},
   "outputs": [],
   "source": [
    "plt.ion() # Interactive on\n",
    "target = np.array([0,1,2,3,4,5,6,7,8,9])\n",
    "y = kmeans(pca_2d, target, k=len(np.unique(target)), plotdata=pca_2d)"
   ]
  },
  {
   "cell_type": "code",
   "execution_count": null,
   "metadata": {},
   "outputs": [],
   "source": [
    "#type(y)\n",
    "y = y.astype(np.int)\n",
    "y[:100]"
   ]
  },
  {
   "cell_type": "code",
   "execution_count": null,
   "metadata": {
    "scrolled": true
   },
   "outputs": [],
   "source": [
    "type(y)"
   ]
  },
  {
   "cell_type": "code",
   "execution_count": null,
   "metadata": {},
   "outputs": [],
   "source": [
    "for i in range(len(y)):\n",
    "        y[i]=y[i]+1\n",
    "y[:100]"
   ]
  },
  {
   "cell_type": "code",
   "execution_count": null,
   "metadata": {},
   "outputs": [],
   "source": [
    "np.savetxt(r'../../Data2/out8.txt',y,fmt='%d')"
   ]
  }
 ],
 "metadata": {
  "kernelspec": {
   "display_name": "Python 3",
   "language": "python",
   "name": "python3"
  },
  "language_info": {
   "codemirror_mode": {
    "name": "ipython",
    "version": 3
   },
   "file_extension": ".py",
   "mimetype": "text/x-python",
   "name": "python",
   "nbconvert_exporter": "python",
   "pygments_lexer": "ipython3",
   "version": "3.7.6"
  }
 },
 "nbformat": 4,
 "nbformat_minor": 4
}
