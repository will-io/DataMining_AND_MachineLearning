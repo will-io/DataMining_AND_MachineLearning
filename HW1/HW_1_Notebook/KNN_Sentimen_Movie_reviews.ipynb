{
 "cells": [
  {
   "cell_type": "code",
   "execution_count": 1,
   "metadata": {},
   "outputs": [],
   "source": [
    "import numpy as np\n",
    "import pandas as pd\n",
    "import matplotlib.pyplot as plt\n",
    "import nltk\n",
    "import re\n",
    "pd.set_option('max_colwidth', 275)"
   ]
  },
  {
   "cell_type": "code",
   "execution_count": 2,
   "metadata": {},
   "outputs": [
    {
     "data": {
      "text/html": [
       "<div>\n",
       "<style scoped>\n",
       "    .dataframe tbody tr th:only-of-type {\n",
       "        vertical-align: middle;\n",
       "    }\n",
       "\n",
       "    .dataframe tbody tr th {\n",
       "        vertical-align: top;\n",
       "    }\n",
       "\n",
       "    .dataframe thead th {\n",
       "        text-align: right;\n",
       "    }\n",
       "</style>\n",
       "<table border=\"1\" class=\"dataframe\">\n",
       "  <thead>\n",
       "    <tr style=\"text-align: right;\">\n",
       "      <th></th>\n",
       "      <th>sentiment</th>\n",
       "      <th>review</th>\n",
       "    </tr>\n",
       "  </thead>\n",
       "  <tbody>\n",
       "    <tr>\n",
       "      <th>0</th>\n",
       "      <td>1</td>\n",
       "      <td>One of the other reviewers has mentioned that after watching just 1 Oz episode you'll be hooked. They are right, as this is exactly what happened with me.&lt;br /&gt;&lt;br /&gt;The first thing that struck me about Oz was its brutality and unflinching scenes of violence, which set i...</td>\n",
       "    </tr>\n",
       "    <tr>\n",
       "      <th>1</th>\n",
       "      <td>1</td>\n",
       "      <td>A wonderful little production. &lt;br /&gt;&lt;br /&gt;The filming technique is very unassuming- very old-time-BBC fashion and gives a comforting, and sometimes discomforting, sense of realism to the entire piece. &lt;br /&gt;&lt;br /&gt;The actors are extremely well chosen- Michael Sheen not o...</td>\n",
       "    </tr>\n",
       "    <tr>\n",
       "      <th>2</th>\n",
       "      <td>1</td>\n",
       "      <td>I thought this was a wonderful way to spend time on a too hot summer weekend, sitting in the air conditioned theater and watching a light-hearted comedy. The plot is simplistic, but the dialogue is witty and the characters are likable (even the well bread suspected seria...</td>\n",
       "    </tr>\n",
       "    <tr>\n",
       "      <th>3</th>\n",
       "      <td>-1</td>\n",
       "      <td>Basically there's a family where a little boy (Jake) thinks there's a zombie in his closet &amp; his parents are fighting all the time.&lt;br /&gt;&lt;br /&gt;This movie is slower than a soap opera... and suddenly, Jake decides to become Rambo and kill the zombie.&lt;br /&gt;&lt;br /&gt;OK, first o...</td>\n",
       "    </tr>\n",
       "    <tr>\n",
       "      <th>4</th>\n",
       "      <td>1</td>\n",
       "      <td>Petter Mattei's \"Love in the Time of Money\" is a visually stunning film to watch. Mr. Mattei offers us a vivid portrait about human relations. This is a movie that seems to be telling us what money, power and success do to people in the different situations we encounter....</td>\n",
       "    </tr>\n",
       "    <tr>\n",
       "      <th>...</th>\n",
       "      <td>...</td>\n",
       "      <td>...</td>\n",
       "    </tr>\n",
       "    <tr>\n",
       "      <th>14994</th>\n",
       "      <td>1</td>\n",
       "      <td>*** out of ****&lt;br /&gt;&lt;br /&gt;Yep! Dressed To Kill is that kind of a movie. It's like Kalifornia, but it's different. Remember? That movie from 1993 which stars Brad Pitt as a serial killer who is \"welcomed\" by a couple of travelers in a trip to California as a buddy who mi...</td>\n",
       "    </tr>\n",
       "    <tr>\n",
       "      <th>14995</th>\n",
       "      <td>-1</td>\n",
       "      <td>Bobcat Goldthwait should be commended for attempting to do something different with this surprisingly heartfelt film, a cautionary tale about the pitfalls of being honest about everything. Melinda Hamilton stars as Amy, a girl who has had oral sex with a canine in the pa...</td>\n",
       "    </tr>\n",
       "    <tr>\n",
       "      <th>14996</th>\n",
       "      <td>1</td>\n",
       "      <td>And it's not because since her days on \"Clarissa Explains It All\" that I've had a bit of a crush on Melissa Joan Hart, who at the time this show was popular was already well into her 20s, but was still able to get teenage roles. \"Sabrina, the Teenage Witch\" was Hart's ne...</td>\n",
       "    </tr>\n",
       "    <tr>\n",
       "      <th>14997</th>\n",
       "      <td>-1</td>\n",
       "      <td>A traveling couple (Horton and Hamilton)stumble onto the town of Gatlin, where kids have slaughtered the adults and are always eager to slaughter more, along the way they're separated and Peter Horton of course must save his wife from these tiresome, er terrible tykes in...</td>\n",
       "    </tr>\n",
       "    <tr>\n",
       "      <th>14998</th>\n",
       "      <td>-1</td>\n",
       "      <td>This film is deeply disappointing. Not only that Wenders only displays a very limited musical spectrum of Blues, it is his subjective and personal interest in parts of the music he brings on film that make watching and listening absolutely boring. The only highlight of t...</td>\n",
       "    </tr>\n",
       "  </tbody>\n",
       "</table>\n",
       "<p>14999 rows × 2 columns</p>\n",
       "</div>"
      ],
      "text/plain": [
       "       sentiment  \\\n",
       "0              1   \n",
       "1              1   \n",
       "2              1   \n",
       "3             -1   \n",
       "4              1   \n",
       "...          ...   \n",
       "14994          1   \n",
       "14995         -1   \n",
       "14996          1   \n",
       "14997         -1   \n",
       "14998         -1   \n",
       "\n",
       "                                                                                                                                                                                                                                                                                   review  \n",
       "0      One of the other reviewers has mentioned that after watching just 1 Oz episode you'll be hooked. They are right, as this is exactly what happened with me.<br /><br />The first thing that struck me about Oz was its brutality and unflinching scenes of violence, which set i...  \n",
       "1      A wonderful little production. <br /><br />The filming technique is very unassuming- very old-time-BBC fashion and gives a comforting, and sometimes discomforting, sense of realism to the entire piece. <br /><br />The actors are extremely well chosen- Michael Sheen not o...  \n",
       "2      I thought this was a wonderful way to spend time on a too hot summer weekend, sitting in the air conditioned theater and watching a light-hearted comedy. The plot is simplistic, but the dialogue is witty and the characters are likable (even the well bread suspected seria...  \n",
       "3      Basically there's a family where a little boy (Jake) thinks there's a zombie in his closet & his parents are fighting all the time.<br /><br />This movie is slower than a soap opera... and suddenly, Jake decides to become Rambo and kill the zombie.<br /><br />OK, first o...  \n",
       "4      Petter Mattei's \"Love in the Time of Money\" is a visually stunning film to watch. Mr. Mattei offers us a vivid portrait about human relations. This is a movie that seems to be telling us what money, power and success do to people in the different situations we encounter....  \n",
       "...                                                                                                                                                                                                                                                                                   ...  \n",
       "14994  *** out of ****<br /><br />Yep! Dressed To Kill is that kind of a movie. It's like Kalifornia, but it's different. Remember? That movie from 1993 which stars Brad Pitt as a serial killer who is \"welcomed\" by a couple of travelers in a trip to California as a buddy who mi...  \n",
       "14995  Bobcat Goldthwait should be commended for attempting to do something different with this surprisingly heartfelt film, a cautionary tale about the pitfalls of being honest about everything. Melinda Hamilton stars as Amy, a girl who has had oral sex with a canine in the pa...  \n",
       "14996  And it's not because since her days on \"Clarissa Explains It All\" that I've had a bit of a crush on Melissa Joan Hart, who at the time this show was popular was already well into her 20s, but was still able to get teenage roles. \"Sabrina, the Teenage Witch\" was Hart's ne...  \n",
       "14997  A traveling couple (Horton and Hamilton)stumble onto the town of Gatlin, where kids have slaughtered the adults and are always eager to slaughter more, along the way they're separated and Peter Horton of course must save his wife from these tiresome, er terrible tykes in...  \n",
       "14998  This film is deeply disappointing. Not only that Wenders only displays a very limited musical spectrum of Blues, it is his subjective and personal interest in parts of the music he brings on film that make watching and listening absolutely boring. The only highlight of t...  \n",
       "\n",
       "[14999 rows x 2 columns]"
      ]
     },
     "execution_count": 2,
     "metadata": {},
     "output_type": "execute_result"
    }
   ],
   "source": [
    "#importing the Train Data using pandas\n",
    "df = pd.read_table('Data/Train_Data.txt')\n",
    "df"
   ]
  },
  {
   "cell_type": "code",
   "execution_count": 3,
   "metadata": {},
   "outputs": [
    {
     "data": {
      "text/plain": [
       "0    One of the other reviewers has mentioned that after watching just 1 Oz episode you'll be hooked. They are right, as this is exactly what happened with me.<br /><br />The first thing that struck me about Oz was its brutality and unflinching scenes of violence, which set i...\n",
       "1    A wonderful little production. <br /><br />The filming technique is very unassuming- very old-time-BBC fashion and gives a comforting, and sometimes discomforting, sense of realism to the entire piece. <br /><br />The actors are extremely well chosen- Michael Sheen not o...\n",
       "2    I thought this was a wonderful way to spend time on a too hot summer weekend, sitting in the air conditioned theater and watching a light-hearted comedy. The plot is simplistic, but the dialogue is witty and the characters are likable (even the well bread suspected seria...\n",
       "3    Basically there's a family where a little boy (Jake) thinks there's a zombie in his closet & his parents are fighting all the time.<br /><br />This movie is slower than a soap opera... and suddenly, Jake decides to become Rambo and kill the zombie.<br /><br />OK, first o...\n",
       "4    Petter Mattei's \"Love in the Time of Money\" is a visually stunning film to watch. Mr. Mattei offers us a vivid portrait about human relations. This is a movie that seems to be telling us what money, power and success do to people in the different situations we encounter....\n",
       "Name: review, dtype: object"
      ]
     },
     "execution_count": 3,
     "metadata": {},
     "output_type": "execute_result"
    }
   ],
   "source": [
    "# I want to have all the reviews from the data frame\n",
    "all_reviews = df['review']\n",
    "all_reviews.head()"
   ]
  },
  {
   "cell_type": "code",
   "execution_count": 4,
   "metadata": {},
   "outputs": [
    {
     "data": {
      "text/plain": [
       "0        One of the other reviewers has mentioned that after watching just 1 Oz episode you'll be hooked. They are right, as this is exactly what happened with me.The first thing that struck me about Oz was its brutality and unflinching scenes of violence, which set in right from...\n",
       "1        A wonderful little production. The filming technique is very unassuming- very old-time-BBC fashion and gives a comforting, and sometimes discomforting, sense of realism to the entire piece. The actors are extremely well chosen- Michael Sheen not only \"has got all the pol...\n",
       "2        I thought this was a wonderful way to spend time on a too hot summer weekend, sitting in the air conditioned theater and watching a light-hearted comedy. The plot is simplistic, but the dialogue is witty and the characters are likable (even the well bread suspected seria...\n",
       "3        Basically there's a family where a little boy (Jake) thinks there's a zombie in his closet & his parents are fighting all the time.This movie is slower than a soap opera... and suddenly, Jake decides to become Rambo and kill the zombie.OK, first of all when you're going ...\n",
       "4        Petter Mattei's \"Love in the Time of Money\" is a visually stunning film to watch. Mr. Mattei offers us a vivid portrait about human relations. This is a movie that seems to be telling us what money, power and success do to people in the different situations we encounter....\n",
       "                                                                                                                                                ...                                                                                                                                        \n",
       "14994    *** out of ****Yep! Dressed To Kill is that kind of a movie. It's like Kalifornia, but it's different. Remember? That movie from 1993 which stars Brad Pitt as a serial killer who is \"welcomed\" by a couple of travelers in a trip to California as a buddy who might be a goo...\n",
       "14995    Bobcat Goldthwait should be commended for attempting to do something different with this surprisingly heartfelt film, a cautionary tale about the pitfalls of being honest about everything. Melinda Hamilton stars as Amy, a girl who has had oral sex with a canine in the pa...\n",
       "14996    And it's not because since her days on \"Clarissa Explains It All\" that I've had a bit of a crush on Melissa Joan Hart, who at the time this show was popular was already well into her 20s, but was still able to get teenage roles. \"Sabrina, the Teenage Witch\" was Hart's ne...\n",
       "14997    A traveling couple (Horton and Hamilton)stumble onto the town of Gatlin, where kids have slaughtered the adults and are always eager to slaughter more, along the way they're separated and Peter Horton of course must save his wife from these tiresome, er terrible tykes in...\n",
       "14998    This film is deeply disappointing. Not only that Wenders only displays a very limited musical spectrum of Blues, it is his subjective and personal interest in parts of the music he brings on film that make watching and listening absolutely boring. The only highlight of t...\n",
       "Name: review, Length: 14999, dtype: object"
      ]
     },
     "execution_count": 4,
     "metadata": {},
     "output_type": "execute_result"
    }
   ],
   "source": [
    "# Here I will be cleaning the data from HTML tags, puntuation, stop words, and stem words.\n",
    "# I will also be splititng words into sentences \n",
    "clean = re.compile('<.*?>')\n",
    "clean_reviews = df['review'].str.replace(clean,'',regex=True)\n",
    "clean_reviews"
   ]
  },
  {
   "cell_type": "code",
   "execution_count": 5,
   "metadata": {},
   "outputs": [],
   "source": [
    "from nltk import sent_tokenize\n",
    "#sentences = clean_reviews.apply(sent_tokenize(clean_reviews))"
   ]
  },
  {
   "cell_type": "code",
   "execution_count": null,
   "metadata": {},
   "outputs": [],
   "source": []
  }
 ],
 "metadata": {
  "kernelspec": {
   "display_name": "Python 3",
   "language": "python",
   "name": "python3"
  },
  "language_info": {
   "codemirror_mode": {
    "name": "ipython",
    "version": 3
   },
   "file_extension": ".py",
   "mimetype": "text/x-python",
   "name": "python",
   "nbconvert_exporter": "python",
   "pygments_lexer": "ipython3",
   "version": "3.7.6"
  }
 },
 "nbformat": 4,
 "nbformat_minor": 4
}
