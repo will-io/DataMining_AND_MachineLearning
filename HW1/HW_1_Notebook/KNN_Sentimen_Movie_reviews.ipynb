{
 "cells": [
  {
   "cell_type": "code",
   "execution_count": 1,
   "metadata": {},
   "outputs": [
    {
     "name": "stderr",
     "output_type": "stream",
     "text": [
      "[nltk_data] Downloading package punkt to\n",
      "[nltk_data]     C:\\Users\\willa\\AppData\\Roaming\\nltk_data...\n",
      "[nltk_data]   Package punkt is already up-to-date!\n",
      "[nltk_data] Downloading package wordnet to\n",
      "[nltk_data]     C:\\Users\\willa\\AppData\\Roaming\\nltk_data...\n",
      "[nltk_data]   Package wordnet is already up-to-date!\n"
     ]
    },
    {
     "data": {
      "text/plain": [
       "True"
      ]
     },
     "execution_count": 1,
     "metadata": {},
     "output_type": "execute_result"
    }
   ],
   "source": [
    "# let start with a bunch of imports\n",
    "import numpy as np\n",
    "import pandas as pd\n",
    "import matplotlib.pyplot as plt\n",
    "import nltk\n",
    "import re\n",
    "import scipy\n",
    "\n",
    "from sklearn.neighbors import KNeighborsClassifier\n",
    "from sklearn.feature_extraction.text import CountVectorizer, TfidfVectorizer, TfidfTransformer\n",
    "from sklearn.model_selection import train_test_split, cross_val_score, cross_val_predict\n",
    "from sklearn.pipeline import Pipeline\n",
    "from sklearn.metrics import confusion_matrix, accuracy_score, precision_score, recall_score\n",
    "\n",
    "from nltk.corpus import stopwords\n",
    "from nltk.stem import WordNetLemmatizer,PorterStemmer\n",
    "from nltk.tokenize import sent_tokenize, word_tokenize\n",
    "\n",
    "from spellchecker import SpellChecker\n",
    "pd.set_option('max_colwidth', 275)\n",
    "nltk.download('punkt')\n",
    "nltk.download('wordnet')"
   ]
  },
  {
   "cell_type": "code",
   "execution_count": 2,
   "metadata": {},
   "outputs": [
    {
     "data": {
      "text/html": [
       "<div>\n",
       "<style scoped>\n",
       "    .dataframe tbody tr th:only-of-type {\n",
       "        vertical-align: middle;\n",
       "    }\n",
       "\n",
       "    .dataframe tbody tr th {\n",
       "        vertical-align: top;\n",
       "    }\n",
       "\n",
       "    .dataframe thead th {\n",
       "        text-align: right;\n",
       "    }\n",
       "</style>\n",
       "<table border=\"1\" class=\"dataframe\">\n",
       "  <thead>\n",
       "    <tr style=\"text-align: right;\">\n",
       "      <th></th>\n",
       "      <th>sentiment</th>\n",
       "      <th>review</th>\n",
       "    </tr>\n",
       "  </thead>\n",
       "  <tbody>\n",
       "    <tr>\n",
       "      <th>0</th>\n",
       "      <td>1</td>\n",
       "      <td>One of the other reviewers has mentioned that after watching just 1 Oz episode you'll be hooked. They are right, as this is exactly what happened with me.&lt;br /&gt;&lt;br /&gt;The first thing that struck me about Oz was its brutality and unflinching scenes of violence, which set i...</td>\n",
       "    </tr>\n",
       "    <tr>\n",
       "      <th>1</th>\n",
       "      <td>1</td>\n",
       "      <td>A wonderful little production. &lt;br /&gt;&lt;br /&gt;The filming technique is very unassuming- very old-time-BBC fashion and gives a comforting, and sometimes discomforting, sense of realism to the entire piece. &lt;br /&gt;&lt;br /&gt;The actors are extremely well chosen- Michael Sheen not o...</td>\n",
       "    </tr>\n",
       "    <tr>\n",
       "      <th>2</th>\n",
       "      <td>1</td>\n",
       "      <td>I thought this was a wonderful way to spend time on a too hot summer weekend, sitting in the air conditioned theater and watching a light-hearted comedy. The plot is simplistic, but the dialogue is witty and the characters are likable (even the well bread suspected seria...</td>\n",
       "    </tr>\n",
       "    <tr>\n",
       "      <th>3</th>\n",
       "      <td>-1</td>\n",
       "      <td>Basically there's a family where a little boy (Jake) thinks there's a zombie in his closet &amp; his parents are fighting all the time.&lt;br /&gt;&lt;br /&gt;This movie is slower than a soap opera... and suddenly, Jake decides to become Rambo and kill the zombie.&lt;br /&gt;&lt;br /&gt;OK, first o...</td>\n",
       "    </tr>\n",
       "    <tr>\n",
       "      <th>4</th>\n",
       "      <td>1</td>\n",
       "      <td>Petter Mattei's \"Love in the Time of Money\" is a visually stunning film to watch. Mr. Mattei offers us a vivid portrait about human relations. This is a movie that seems to be telling us what money, power and success do to people in the different situations we encounter....</td>\n",
       "    </tr>\n",
       "    <tr>\n",
       "      <th>...</th>\n",
       "      <td>...</td>\n",
       "      <td>...</td>\n",
       "    </tr>\n",
       "    <tr>\n",
       "      <th>14994</th>\n",
       "      <td>1</td>\n",
       "      <td>*** out of ****&lt;br /&gt;&lt;br /&gt;Yep! Dressed To Kill is that kind of a movie. It's like Kalifornia, but it's different. Remember? That movie from 1993 which stars Brad Pitt as a serial killer who is \"welcomed\" by a couple of travelers in a trip to California as a buddy who mi...</td>\n",
       "    </tr>\n",
       "    <tr>\n",
       "      <th>14995</th>\n",
       "      <td>-1</td>\n",
       "      <td>Bobcat Goldthwait should be commended for attempting to do something different with this surprisingly heartfelt film, a cautionary tale about the pitfalls of being honest about everything. Melinda Hamilton stars as Amy, a girl who has had oral sex with a canine in the pa...</td>\n",
       "    </tr>\n",
       "    <tr>\n",
       "      <th>14996</th>\n",
       "      <td>1</td>\n",
       "      <td>And it's not because since her days on \"Clarissa Explains It All\" that I've had a bit of a crush on Melissa Joan Hart, who at the time this show was popular was already well into her 20s, but was still able to get teenage roles. \"Sabrina, the Teenage Witch\" was Hart's ne...</td>\n",
       "    </tr>\n",
       "    <tr>\n",
       "      <th>14997</th>\n",
       "      <td>-1</td>\n",
       "      <td>A traveling couple (Horton and Hamilton)stumble onto the town of Gatlin, where kids have slaughtered the adults and are always eager to slaughter more, along the way they're separated and Peter Horton of course must save his wife from these tiresome, er terrible tykes in...</td>\n",
       "    </tr>\n",
       "    <tr>\n",
       "      <th>14998</th>\n",
       "      <td>-1</td>\n",
       "      <td>This film is deeply disappointing. Not only that Wenders only displays a very limited musical spectrum of Blues, it is his subjective and personal interest in parts of the music he brings on film that make watching and listening absolutely boring. The only highlight of t...</td>\n",
       "    </tr>\n",
       "  </tbody>\n",
       "</table>\n",
       "<p>14999 rows × 2 columns</p>\n",
       "</div>"
      ],
      "text/plain": [
       "       sentiment  \\\n",
       "0              1   \n",
       "1              1   \n",
       "2              1   \n",
       "3             -1   \n",
       "4              1   \n",
       "...          ...   \n",
       "14994          1   \n",
       "14995         -1   \n",
       "14996          1   \n",
       "14997         -1   \n",
       "14998         -1   \n",
       "\n",
       "                                                                                                                                                                                                                                                                                   review  \n",
       "0      One of the other reviewers has mentioned that after watching just 1 Oz episode you'll be hooked. They are right, as this is exactly what happened with me.<br /><br />The first thing that struck me about Oz was its brutality and unflinching scenes of violence, which set i...  \n",
       "1      A wonderful little production. <br /><br />The filming technique is very unassuming- very old-time-BBC fashion and gives a comforting, and sometimes discomforting, sense of realism to the entire piece. <br /><br />The actors are extremely well chosen- Michael Sheen not o...  \n",
       "2      I thought this was a wonderful way to spend time on a too hot summer weekend, sitting in the air conditioned theater and watching a light-hearted comedy. The plot is simplistic, but the dialogue is witty and the characters are likable (even the well bread suspected seria...  \n",
       "3      Basically there's a family where a little boy (Jake) thinks there's a zombie in his closet & his parents are fighting all the time.<br /><br />This movie is slower than a soap opera... and suddenly, Jake decides to become Rambo and kill the zombie.<br /><br />OK, first o...  \n",
       "4      Petter Mattei's \"Love in the Time of Money\" is a visually stunning film to watch. Mr. Mattei offers us a vivid portrait about human relations. This is a movie that seems to be telling us what money, power and success do to people in the different situations we encounter....  \n",
       "...                                                                                                                                                                                                                                                                                   ...  \n",
       "14994  *** out of ****<br /><br />Yep! Dressed To Kill is that kind of a movie. It's like Kalifornia, but it's different. Remember? That movie from 1993 which stars Brad Pitt as a serial killer who is \"welcomed\" by a couple of travelers in a trip to California as a buddy who mi...  \n",
       "14995  Bobcat Goldthwait should be commended for attempting to do something different with this surprisingly heartfelt film, a cautionary tale about the pitfalls of being honest about everything. Melinda Hamilton stars as Amy, a girl who has had oral sex with a canine in the pa...  \n",
       "14996  And it's not because since her days on \"Clarissa Explains It All\" that I've had a bit of a crush on Melissa Joan Hart, who at the time this show was popular was already well into her 20s, but was still able to get teenage roles. \"Sabrina, the Teenage Witch\" was Hart's ne...  \n",
       "14997  A traveling couple (Horton and Hamilton)stumble onto the town of Gatlin, where kids have slaughtered the adults and are always eager to slaughter more, along the way they're separated and Peter Horton of course must save his wife from these tiresome, er terrible tykes in...  \n",
       "14998  This film is deeply disappointing. Not only that Wenders only displays a very limited musical spectrum of Blues, it is his subjective and personal interest in parts of the music he brings on film that make watching and listening absolutely boring. The only highlight of t...  \n",
       "\n",
       "[14999 rows x 2 columns]"
      ]
     },
     "execution_count": 2,
     "metadata": {},
     "output_type": "execute_result"
    }
   ],
   "source": [
    "#importing the Train Data using pandas\n",
    "df = pd.read_table('Data/Train_Data.txt')\n",
    "df"
   ]
  },
  {
   "cell_type": "code",
   "execution_count": 3,
   "metadata": {},
   "outputs": [],
   "source": [
    "# I want to check out all the reviews from the data frame\n",
    "#all_reviews = df['review']\n",
    "#all_reviews.head()"
   ]
  },
  {
   "cell_type": "markdown",
   "metadata": {},
   "source": [
    "# cleaning the data of noise\n",
    "### Here I will be cleaning the data from HTML tags, puntuation, numbers, stop words, and stem words.\n",
    "### I will also be splititng words into sentences \n",
    "### this takes a while to process, give it like 40 seconds"
   ]
  },
  {
   "cell_type": "code",
   "execution_count": 4,
   "metadata": {},
   "outputs": [
    {
     "data": {
      "text/plain": [
       "0        [one, review, mention, watch, oz, episode, youll, hook, right, exactli, happen, methe, first, thing, struck, oz, brutal, unflinch, scene, violence, set, right, word, go, trust, show, faint, heart, timid, show, pull, punch, regard, drug, sex, violence, hardcore, classic, ...\n",
       "1        [wonder, little, product, film, technique, unassum, oldtimebbc, fashion, give, comfort, sometim, discomfort, sense, realism, entire, piece, actor, extrem, well, chosen, michael, sheen, got, polari, voice, pat, truli, see, seamless, edit, guid, reference, william, diari, ...\n",
       "2        [thought, wonder, way, spend, time, hot, summer, weekend, sit, air, condit, theater, watch, lightheart, comedi, plot, simplist, dialogue, witti, charact, likable, even, well, bread, suspect, serial, killer, may, disappoint, realize, match, point, risk, addict, thought, p...\n",
       "3        [basic, there, famili, little, boy, jake, think, there, zombie, closet, parent, fight, timethi, movie, slower, soap, opera, suddenli, jake, decid, become, rambo, kill, zombieok, first, youre, go, make, film, must, decide, thriller, drama, drama, movie, watchable, parent,...\n",
       "4        [petter, mattei, love, time, money, visual, stun, film, watch, mr, mattei, offer, us, vivid, portrait, human, relat, movie, seem, tell, us, money, power, success, people, differ, situat, encount, variat, arthur, schnitzler, play, theme, director, transfer, action, presen...\n",
       "                                                                                                                                                ...                                                                                                                                        \n",
       "14994    [yep, dress, kill, kind, movie, like, kalifornia, differ, rememb, movie, star, brad, pitt, serial, killer, welcom, couple, travel, trip, california, buddi, might, good, compani, along, way, watch, movie, alway, like, know, anyth, plot, watch, surprise, may, get, even, co...\n",
       "14995    [bobcat, goldthwait, commend, attempt, someth, differ, surprisingli, heartfelt, film, cautionari, tale, pitfal, honest, everyth, melinda, hamilton, star, ami, girl, oral, sex, canine, past, lark, struggle, tell, fianc, john, course, truth, rear, shaggi, ugli, head, film,...\n",
       "14996    [since, day, clarissa, explain, ive, bit, crush, melissa, joan, hart, time, show, popular, alreadi, well, still, able, get, teenage, role, sabrina, teenage, witch, hart, next, big, leap, clarissa, day, base, comic, strip, sabrina, spellman, guess, teenage, witch, attempt...\n",
       "14997    [travel, couple, horton, hamiltonstumble, onto, town, gatlin, kid, slaughter, adult, alway, eager, slaughter, along, way, theyre, separ, peter, horton, course, must, save, wife, tiresome, er, terrible, tyke, bad, adapt, one, king, best, short, stori, origin, stori, king,...\n",
       "14998    [film, deepli, disappoint, wender, display, limit, music, spectrum, blue, subjective, person, interest, part, music, bring, film, make, watch, listen, absolut, bore, highlight, movie, interview, swedish, couple, befriend, jb, lenoir, show, private, video, footage, well, ...\n",
       "Name: review, Length: 14999, dtype: object"
      ]
     },
     "execution_count": 4,
     "metadata": {},
     "output_type": "execute_result"
    }
   ],
   "source": [
    "ps = PorterStemmer()\n",
    "wnl = WordNetLemmatizer()\n",
    "clean = re.compile('<.*?>')\n",
    "clean_reviews = df['review'].str.replace(clean,'',regex=True)\n",
    "clean_reviews = clean_reviews.str.lower()\n",
    "clean_reviews = clean_reviews.apply(lambda elem: re.sub(r\"(@[A-Za-z0-9]+)|([^0-9A-Za-z \\t])|(\\w+:\\/\\/\\S+)|^rt|http.+?\", \"\", elem))\n",
    "clean_reviews = clean_reviews.apply(lambda elem: re.sub(r\"\\d+\", \"\", elem))\n",
    "stop = stopwords.words('english')\n",
    "clean_reviews = clean_reviews.apply(lambda elem: ' '.join([word for word in elem.split() if word not in (stop)]))\n",
    "clean_reviews = clean_reviews.apply(lambda elem: word_tokenize(elem))\n",
    "#this does some heavy lifting, probably not necessary for data cleaning but oh well..\n",
    "spell = SpellChecker()\n",
    "clean_reviews = clean_reviews.apply(lambda elem: [spell.correction(word) if spell.unknown(word) else word for word in elem])\n",
    "clean_reviews = clean_reviews.apply(lambda elem: [wnl.lemmatize(word) if wnl.lemmatize(word).endswith('e') else ps.stem(word) for word in elem])\n",
    "clean_reviews"
   ]
  },
  {
   "cell_type": "markdown",
   "metadata": {},
   "source": [
    "# Here I am comparing the cleaned and tokenized bag of words to regular reviews for precission"
   ]
  },
  {
   "cell_type": "code",
   "execution_count": 5,
   "metadata": {},
   "outputs": [
    {
     "data": {
      "text/html": [
       "<div>\n",
       "<style scoped>\n",
       "    .dataframe tbody tr th:only-of-type {\n",
       "        vertical-align: middle;\n",
       "    }\n",
       "\n",
       "    .dataframe tbody tr th {\n",
       "        vertical-align: top;\n",
       "    }\n",
       "\n",
       "    .dataframe thead th {\n",
       "        text-align: right;\n",
       "    }\n",
       "</style>\n",
       "<table border=\"1\" class=\"dataframe\">\n",
       "  <thead>\n",
       "    <tr style=\"text-align: right;\">\n",
       "      <th></th>\n",
       "      <th>sentiment</th>\n",
       "      <th>review</th>\n",
       "      <th>clean_reviews</th>\n",
       "    </tr>\n",
       "  </thead>\n",
       "  <tbody>\n",
       "    <tr>\n",
       "      <th>0</th>\n",
       "      <td>1</td>\n",
       "      <td>One of the other reviewers has mentioned that after watching just 1 Oz episode you'll be hooked. They are right, as this is exactly what happened with me.&lt;br /&gt;&lt;br /&gt;The first thing that struck me about Oz was its brutality and unflinching scenes of violence, which set i...</td>\n",
       "      <td>[one, review, mention, watch, oz, episode, youll, hook, right, exactli, happen, methe, first, thing, struck, oz, brutal, unflinch, scene, violence, set, right, word, go, trust, show, faint, heart, timid, show, pull, punch, regard, drug, sex, violence, hardcore, classic, ...</td>\n",
       "    </tr>\n",
       "    <tr>\n",
       "      <th>1</th>\n",
       "      <td>1</td>\n",
       "      <td>A wonderful little production. &lt;br /&gt;&lt;br /&gt;The filming technique is very unassuming- very old-time-BBC fashion and gives a comforting, and sometimes discomforting, sense of realism to the entire piece. &lt;br /&gt;&lt;br /&gt;The actors are extremely well chosen- Michael Sheen not o...</td>\n",
       "      <td>[wonder, little, product, film, technique, unassum, oldtimebbc, fashion, give, comfort, sometim, discomfort, sense, realism, entire, piece, actor, extrem, well, chosen, michael, sheen, got, polari, voice, pat, truli, see, seamless, edit, guid, reference, william, diari, ...</td>\n",
       "    </tr>\n",
       "    <tr>\n",
       "      <th>2</th>\n",
       "      <td>1</td>\n",
       "      <td>I thought this was a wonderful way to spend time on a too hot summer weekend, sitting in the air conditioned theater and watching a light-hearted comedy. The plot is simplistic, but the dialogue is witty and the characters are likable (even the well bread suspected seria...</td>\n",
       "      <td>[thought, wonder, way, spend, time, hot, summer, weekend, sit, air, condit, theater, watch, lightheart, comedi, plot, simplist, dialogue, witti, charact, likable, even, well, bread, suspect, serial, killer, may, disappoint, realize, match, point, risk, addict, thought, p...</td>\n",
       "    </tr>\n",
       "    <tr>\n",
       "      <th>3</th>\n",
       "      <td>-1</td>\n",
       "      <td>Basically there's a family where a little boy (Jake) thinks there's a zombie in his closet &amp; his parents are fighting all the time.&lt;br /&gt;&lt;br /&gt;This movie is slower than a soap opera... and suddenly, Jake decides to become Rambo and kill the zombie.&lt;br /&gt;&lt;br /&gt;OK, first o...</td>\n",
       "      <td>[basic, there, famili, little, boy, jake, think, there, zombie, closet, parent, fight, timethi, movie, slower, soap, opera, suddenli, jake, decid, become, rambo, kill, zombieok, first, youre, go, make, film, must, decide, thriller, drama, drama, movie, watchable, parent,...</td>\n",
       "    </tr>\n",
       "    <tr>\n",
       "      <th>4</th>\n",
       "      <td>1</td>\n",
       "      <td>Petter Mattei's \"Love in the Time of Money\" is a visually stunning film to watch. Mr. Mattei offers us a vivid portrait about human relations. This is a movie that seems to be telling us what money, power and success do to people in the different situations we encounter....</td>\n",
       "      <td>[petter, mattei, love, time, money, visual, stun, film, watch, mr, mattei, offer, us, vivid, portrait, human, relat, movie, seem, tell, us, money, power, success, people, differ, situat, encount, variat, arthur, schnitzler, play, theme, director, transfer, action, presen...</td>\n",
       "    </tr>\n",
       "    <tr>\n",
       "      <th>...</th>\n",
       "      <td>...</td>\n",
       "      <td>...</td>\n",
       "      <td>...</td>\n",
       "    </tr>\n",
       "    <tr>\n",
       "      <th>14994</th>\n",
       "      <td>1</td>\n",
       "      <td>*** out of ****&lt;br /&gt;&lt;br /&gt;Yep! Dressed To Kill is that kind of a movie. It's like Kalifornia, but it's different. Remember? That movie from 1993 which stars Brad Pitt as a serial killer who is \"welcomed\" by a couple of travelers in a trip to California as a buddy who mi...</td>\n",
       "      <td>[yep, dress, kill, kind, movie, like, kalifornia, differ, rememb, movie, star, brad, pitt, serial, killer, welcom, couple, travel, trip, california, buddi, might, good, compani, along, way, watch, movie, alway, like, know, anyth, plot, watch, surprise, may, get, even, co...</td>\n",
       "    </tr>\n",
       "    <tr>\n",
       "      <th>14995</th>\n",
       "      <td>-1</td>\n",
       "      <td>Bobcat Goldthwait should be commended for attempting to do something different with this surprisingly heartfelt film, a cautionary tale about the pitfalls of being honest about everything. Melinda Hamilton stars as Amy, a girl who has had oral sex with a canine in the pa...</td>\n",
       "      <td>[bobcat, goldthwait, commend, attempt, someth, differ, surprisingli, heartfelt, film, cautionari, tale, pitfal, honest, everyth, melinda, hamilton, star, ami, girl, oral, sex, canine, past, lark, struggle, tell, fianc, john, course, truth, rear, shaggi, ugli, head, film,...</td>\n",
       "    </tr>\n",
       "    <tr>\n",
       "      <th>14996</th>\n",
       "      <td>1</td>\n",
       "      <td>And it's not because since her days on \"Clarissa Explains It All\" that I've had a bit of a crush on Melissa Joan Hart, who at the time this show was popular was already well into her 20s, but was still able to get teenage roles. \"Sabrina, the Teenage Witch\" was Hart's ne...</td>\n",
       "      <td>[since, day, clarissa, explain, ive, bit, crush, melissa, joan, hart, time, show, popular, alreadi, well, still, able, get, teenage, role, sabrina, teenage, witch, hart, next, big, leap, clarissa, day, base, comic, strip, sabrina, spellman, guess, teenage, witch, attempt...</td>\n",
       "    </tr>\n",
       "    <tr>\n",
       "      <th>14997</th>\n",
       "      <td>-1</td>\n",
       "      <td>A traveling couple (Horton and Hamilton)stumble onto the town of Gatlin, where kids have slaughtered the adults and are always eager to slaughter more, along the way they're separated and Peter Horton of course must save his wife from these tiresome, er terrible tykes in...</td>\n",
       "      <td>[travel, couple, horton, hamiltonstumble, onto, town, gatlin, kid, slaughter, adult, alway, eager, slaughter, along, way, theyre, separ, peter, horton, course, must, save, wife, tiresome, er, terrible, tyke, bad, adapt, one, king, best, short, stori, origin, stori, king,...</td>\n",
       "    </tr>\n",
       "    <tr>\n",
       "      <th>14998</th>\n",
       "      <td>-1</td>\n",
       "      <td>This film is deeply disappointing. Not only that Wenders only displays a very limited musical spectrum of Blues, it is his subjective and personal interest in parts of the music he brings on film that make watching and listening absolutely boring. The only highlight of t...</td>\n",
       "      <td>[film, deepli, disappoint, wender, display, limit, music, spectrum, blue, subjective, person, interest, part, music, bring, film, make, watch, listen, absolut, bore, highlight, movie, interview, swedish, couple, befriend, jb, lenoir, show, private, video, footage, well, ...</td>\n",
       "    </tr>\n",
       "  </tbody>\n",
       "</table>\n",
       "<p>14999 rows × 3 columns</p>\n",
       "</div>"
      ],
      "text/plain": [
       "       sentiment  \\\n",
       "0              1   \n",
       "1              1   \n",
       "2              1   \n",
       "3             -1   \n",
       "4              1   \n",
       "...          ...   \n",
       "14994          1   \n",
       "14995         -1   \n",
       "14996          1   \n",
       "14997         -1   \n",
       "14998         -1   \n",
       "\n",
       "                                                                                                                                                                                                                                                                                   review  \\\n",
       "0      One of the other reviewers has mentioned that after watching just 1 Oz episode you'll be hooked. They are right, as this is exactly what happened with me.<br /><br />The first thing that struck me about Oz was its brutality and unflinching scenes of violence, which set i...   \n",
       "1      A wonderful little production. <br /><br />The filming technique is very unassuming- very old-time-BBC fashion and gives a comforting, and sometimes discomforting, sense of realism to the entire piece. <br /><br />The actors are extremely well chosen- Michael Sheen not o...   \n",
       "2      I thought this was a wonderful way to spend time on a too hot summer weekend, sitting in the air conditioned theater and watching a light-hearted comedy. The plot is simplistic, but the dialogue is witty and the characters are likable (even the well bread suspected seria...   \n",
       "3      Basically there's a family where a little boy (Jake) thinks there's a zombie in his closet & his parents are fighting all the time.<br /><br />This movie is slower than a soap opera... and suddenly, Jake decides to become Rambo and kill the zombie.<br /><br />OK, first o...   \n",
       "4      Petter Mattei's \"Love in the Time of Money\" is a visually stunning film to watch. Mr. Mattei offers us a vivid portrait about human relations. This is a movie that seems to be telling us what money, power and success do to people in the different situations we encounter....   \n",
       "...                                                                                                                                                                                                                                                                                   ...   \n",
       "14994  *** out of ****<br /><br />Yep! Dressed To Kill is that kind of a movie. It's like Kalifornia, but it's different. Remember? That movie from 1993 which stars Brad Pitt as a serial killer who is \"welcomed\" by a couple of travelers in a trip to California as a buddy who mi...   \n",
       "14995  Bobcat Goldthwait should be commended for attempting to do something different with this surprisingly heartfelt film, a cautionary tale about the pitfalls of being honest about everything. Melinda Hamilton stars as Amy, a girl who has had oral sex with a canine in the pa...   \n",
       "14996  And it's not because since her days on \"Clarissa Explains It All\" that I've had a bit of a crush on Melissa Joan Hart, who at the time this show was popular was already well into her 20s, but was still able to get teenage roles. \"Sabrina, the Teenage Witch\" was Hart's ne...   \n",
       "14997  A traveling couple (Horton and Hamilton)stumble onto the town of Gatlin, where kids have slaughtered the adults and are always eager to slaughter more, along the way they're separated and Peter Horton of course must save his wife from these tiresome, er terrible tykes in...   \n",
       "14998  This film is deeply disappointing. Not only that Wenders only displays a very limited musical spectrum of Blues, it is his subjective and personal interest in parts of the music he brings on film that make watching and listening absolutely boring. The only highlight of t...   \n",
       "\n",
       "                                                                                                                                                                                                                                                                            clean_reviews  \n",
       "0      [one, review, mention, watch, oz, episode, youll, hook, right, exactli, happen, methe, first, thing, struck, oz, brutal, unflinch, scene, violence, set, right, word, go, trust, show, faint, heart, timid, show, pull, punch, regard, drug, sex, violence, hardcore, classic, ...  \n",
       "1      [wonder, little, product, film, technique, unassum, oldtimebbc, fashion, give, comfort, sometim, discomfort, sense, realism, entire, piece, actor, extrem, well, chosen, michael, sheen, got, polari, voice, pat, truli, see, seamless, edit, guid, reference, william, diari, ...  \n",
       "2      [thought, wonder, way, spend, time, hot, summer, weekend, sit, air, condit, theater, watch, lightheart, comedi, plot, simplist, dialogue, witti, charact, likable, even, well, bread, suspect, serial, killer, may, disappoint, realize, match, point, risk, addict, thought, p...  \n",
       "3      [basic, there, famili, little, boy, jake, think, there, zombie, closet, parent, fight, timethi, movie, slower, soap, opera, suddenli, jake, decid, become, rambo, kill, zombieok, first, youre, go, make, film, must, decide, thriller, drama, drama, movie, watchable, parent,...  \n",
       "4      [petter, mattei, love, time, money, visual, stun, film, watch, mr, mattei, offer, us, vivid, portrait, human, relat, movie, seem, tell, us, money, power, success, people, differ, situat, encount, variat, arthur, schnitzler, play, theme, director, transfer, action, presen...  \n",
       "...                                                                                                                                                                                                                                                                                   ...  \n",
       "14994  [yep, dress, kill, kind, movie, like, kalifornia, differ, rememb, movie, star, brad, pitt, serial, killer, welcom, couple, travel, trip, california, buddi, might, good, compani, along, way, watch, movie, alway, like, know, anyth, plot, watch, surprise, may, get, even, co...  \n",
       "14995  [bobcat, goldthwait, commend, attempt, someth, differ, surprisingli, heartfelt, film, cautionari, tale, pitfal, honest, everyth, melinda, hamilton, star, ami, girl, oral, sex, canine, past, lark, struggle, tell, fianc, john, course, truth, rear, shaggi, ugli, head, film,...  \n",
       "14996  [since, day, clarissa, explain, ive, bit, crush, melissa, joan, hart, time, show, popular, alreadi, well, still, able, get, teenage, role, sabrina, teenage, witch, hart, next, big, leap, clarissa, day, base, comic, strip, sabrina, spellman, guess, teenage, witch, attempt...  \n",
       "14997  [travel, couple, horton, hamiltonstumble, onto, town, gatlin, kid, slaughter, adult, alway, eager, slaughter, along, way, theyre, separ, peter, horton, course, must, save, wife, tiresome, er, terrible, tyke, bad, adapt, one, king, best, short, stori, origin, stori, king,...  \n",
       "14998  [film, deepli, disappoint, wender, display, limit, music, spectrum, blue, subjective, person, interest, part, music, bring, film, make, watch, listen, absolut, bore, highlight, movie, interview, swedish, couple, befriend, jb, lenoir, show, private, video, footage, well, ...  \n",
       "\n",
       "[14999 rows x 3 columns]"
      ]
     },
     "execution_count": 5,
     "metadata": {},
     "output_type": "execute_result"
    }
   ],
   "source": [
    "df['clean_reviews'] = clean_reviews\n",
    "df"
   ]
  },
  {
   "cell_type": "markdown",
   "metadata": {},
   "source": [
    "# split my training data into sets for training and testing for creating my model, folding, and to help vectorization"
   ]
  },
  {
   "cell_type": "code",
   "execution_count": 6,
   "metadata": {},
   "outputs": [
    {
     "name": "stdout",
     "output_type": "stream",
     "text": [
      "X_train: 13499\n",
      "X_test: 1500\n",
      "y_train: 13499\n",
      "y_test: 1500\n"
     ]
    }
   ],
   "source": [
    "X_train, X_test, y_train, y_test = train_test_split(df['clean_reviews'], df['sentiment'], test_size = 0.1, random_state =  97 )\n",
    "print('X_train:',len(X_train))\n",
    "print('X_test:',len(X_test))\n",
    "print('y_train:',len(y_train))\n",
    "print('y_test:',len(y_test))"
   ]
  },
  {
   "cell_type": "markdown",
   "metadata": {},
   "source": [
    "# Here I will be creating my model \n",
    "### I fix a tokenization issue for TF-IDF\n",
    "### Use K Nearest Neighbor and setting the weights to the distance to of vectorized values using the euclidian metric\n",
    "### p is the sentiment value of 1 or -1 thus 2 possiblities"
   ]
  },
  {
   "cell_type": "code",
   "execution_count": 7,
   "metadata": {},
   "outputs": [],
   "source": [
    "# to fix a tokenization issue for TF-IDF\n",
    "def identity_tokenizer(text):\n",
    "    return text\n",
    "# Vectorize using TFI-DF\n",
    "tfid_vec = TfidfVectorizer(analyzer='word', tokenizer=identity_tokenizer,lowercase=False)\n",
    "# Using K Nearest Neighbor and setting the weights to the distance to of vectorized values using the euclidian metric\n",
    "# p is the sentiment value of 1 or -1 thus 2 possiblities\n",
    "knn = KNeighborsClassifier(n_neighbors=211, p = 2, weights='distance',metric='euclidean')"
   ]
  },
  {
   "cell_type": "code",
   "execution_count": 8,
   "metadata": {},
   "outputs": [
    {
     "data": {
      "text/plain": [
       "Pipeline(steps=[('vectorizer',\n",
       "                 TfidfVectorizer(lowercase=False,\n",
       "                                 tokenizer=<function identity_tokenizer at 0x0000022C91636558>)),\n",
       "                ('classifier',\n",
       "                 KNeighborsClassifier(metric='euclidean', n_neighbors=211,\n",
       "                                      weights='distance'))])"
      ]
     },
     "execution_count": 8,
     "metadata": {},
     "output_type": "execute_result"
    }
   ],
   "source": [
    "# creates a re-usale cached model\n",
    "model = Pipeline([('vectorizer',tfid_vec ),('classifier', knn)])\n",
    "# asserts the fit function of the KNN algorithm and tfid \n",
    "model.fit(X_train,y_train)"
   ]
  },
  {
   "cell_type": "code",
   "execution_count": 9,
   "metadata": {},
   "outputs": [
    {
     "data": {
      "text/plain": [
       "array([[665, 155],\n",
       "       [ 96, 584]], dtype=int64)"
      ]
     },
     "execution_count": 9,
     "metadata": {},
     "output_type": "execute_result"
    }
   ],
   "source": [
    "# prediction model \n",
    "predictions = model.predict(X_test)\n",
    "# to test the performance of my classification model \n",
    "confusion_matrix(predictions, y_test)"
   ]
  },
  {
   "cell_type": "code",
   "execution_count": 10,
   "metadata": {},
   "outputs": [
    {
     "name": "stdout",
     "output_type": "stream",
     "text": [
      "Accuracy: 0.8326666666666667\n",
      "Precission: 0.8359546616546255\n",
      "Recall: 0.8326666666666667\n"
     ]
    }
   ],
   "source": [
    "# the Model prediction results for accuracy , precission, and recall\n",
    "print('Accuracy:',accuracy_score(predictions,y_test))\n",
    "print('Precission:',precision_score(predictions,y_test, average = 'weighted'))\n",
    "print('Recall:',recall_score(predictions,y_test,average = 'weighted'))"
   ]
  },
  {
   "cell_type": "markdown",
   "metadata": {},
   "source": [
    "# Some toy examples:"
   ]
  },
  {
   "cell_type": "code",
   "execution_count": 11,
   "metadata": {},
   "outputs": [
    {
     "name": "stdout",
     "output_type": "stream",
     "text": [
      "[-1]\n"
     ]
    }
   ],
   "source": [
    "## testing some example text for bad sentiment :( \n",
    "example = [\"I Hated every moment of this movie, Never pay for this \"]\n",
    "result = model.predict(example)\n",
    "print(result)"
   ]
  },
  {
   "cell_type": "code",
   "execution_count": 12,
   "metadata": {},
   "outputs": [
    {
     "name": "stdout",
     "output_type": "stream",
     "text": [
      "[1]\n"
     ]
    }
   ],
   "source": [
    "## testing some example text for good sentiment :)\n",
    "example2 = [\"really enjoyable movie would recomend everyone check it out\"]\n",
    "result2 = model.predict(example2)\n",
    "print(result2)"
   ]
  },
  {
   "cell_type": "markdown",
   "metadata": {},
   "source": [
    "# Now to perform predictions of the test data set using my model ..."
   ]
  },
  {
   "cell_type": "code",
   "execution_count": 13,
   "metadata": {},
   "outputs": [
    {
     "data": {
      "text/html": [
       "<div>\n",
       "<style scoped>\n",
       "    .dataframe tbody tr th:only-of-type {\n",
       "        vertical-align: middle;\n",
       "    }\n",
       "\n",
       "    .dataframe tbody tr th {\n",
       "        vertical-align: top;\n",
       "    }\n",
       "\n",
       "    .dataframe thead th {\n",
       "        text-align: right;\n",
       "    }\n",
       "</style>\n",
       "<table border=\"1\" class=\"dataframe\">\n",
       "  <thead>\n",
       "    <tr style=\"text-align: right;\">\n",
       "      <th></th>\n",
       "      <th>0</th>\n",
       "    </tr>\n",
       "  </thead>\n",
       "  <tbody>\n",
       "    <tr>\n",
       "      <th>0</th>\n",
       "      <td>\"This film should have never been made. Honestly, I must admit that before I saw it I had some serious doubts. The director is not a great actress, though she did a lot of movies in Holland, and the young woman who took the main part is a TV-personality with a constant s...</td>\n",
       "    </tr>\n",
       "    <tr>\n",
       "      <th>1</th>\n",
       "      <td>This movie was bad from the start. The only purpose of the movie was that Angela wanted to get a high body count. The acting was horrible. The killings were acted out very badly. Like when Ally got stuffed down that toilet I guess it was in the abandoned cabin. But when ...</td>\n",
       "    </tr>\n",
       "    <tr>\n",
       "      <th>2</th>\n",
       "      <td>\"God, I never felt so insulted in my whole life than with this crap. There are so many ways to describe this piece of crap, that I think that if I said everything that came to mind, I would get banned by this site.&lt;br /&gt;&lt;br /&gt;How do I begin? Well, for one, it doesn't tak...</td>\n",
       "    </tr>\n",
       "    <tr>\n",
       "      <th>3</th>\n",
       "      <td>\"Not being a fan of the Coen Brothers or George Clooney, anyone can see the skepticism I took into the theater. Once again, someone in Hollywood dares to create something different. This time it was those zanie (for a temporary lack of a better word) Coens doing \"\"their ...</td>\n",
       "    </tr>\n",
       "    <tr>\n",
       "      <th>4</th>\n",
       "      <td>\"The movie Andaz Apna Apna in my books is the top 5 intelligent comedy movies ever made in Bollywood perhaps even Hollywood. &lt;br /&gt;&lt;br /&gt;When the movie released i was a 8 year old and I heard it was a flop but I never understood till now why was it a flop...but let me te...</td>\n",
       "    </tr>\n",
       "    <tr>\n",
       "      <th>...</th>\n",
       "      <td>...</td>\n",
       "    </tr>\n",
       "    <tr>\n",
       "      <th>14995</th>\n",
       "      <td>\"Family Guy has to be my all time favorite cartoon.It is definitely the funniest TV show ever made and is better than The Simpsons.I have never laughed so hard at a TV show in my life The things that make the show so funny is the plot,characters and themes that are dealt...</td>\n",
       "    </tr>\n",
       "    <tr>\n",
       "      <th>14996</th>\n",
       "      <td>\"This was a marvelously funny comedy with a great cast. John Ritter and Katey Sagal were perfectly cast as the parents, and the kids were great too. Kaley Cuoco was a good choice to play Bridget, who was sort of a toned-down version of Kelly Bundy from Married with Child...</td>\n",
       "    </tr>\n",
       "    <tr>\n",
       "      <th>14997</th>\n",
       "      <td>\"There is no plot. There are no central characters. There are no moving cameras or close-ups. In fact, this film does not follow any of the conventional storytelling techniques used by mainstream film. However, Roy Andersson's Du Levande is a remarkable piece of cinemati...</td>\n",
       "    </tr>\n",
       "    <tr>\n",
       "      <th>14998</th>\n",
       "      <td>\"This show is awesome! I love all the actors! It has great story lines and characters. It is the perfect drama. James Caan and Josh Duhamel have great dialogue. They both can be really funny.I miss Vanessa Marcil on General Hospital, but she's great on here. James Lesure...</td>\n",
       "    </tr>\n",
       "    <tr>\n",
       "      <th>14999</th>\n",
       "      <td>\"The fact that this movie has been entitled to the most successful movie in Switzerland's film history makes me shake my head! It's true, but pitiful at the same time. A flick about the Swiss army could be a good deal better.&lt;br /&gt;&lt;br /&gt;The story sounds interesting, at t...</td>\n",
       "    </tr>\n",
       "  </tbody>\n",
       "</table>\n",
       "<p>15000 rows × 1 columns</p>\n",
       "</div>"
      ],
      "text/plain": [
       "                                                                                                                                                                                                                                                                                        0\n",
       "0      \"This film should have never been made. Honestly, I must admit that before I saw it I had some serious doubts. The director is not a great actress, though she did a lot of movies in Holland, and the young woman who took the main part is a TV-personality with a constant s...\n",
       "1      This movie was bad from the start. The only purpose of the movie was that Angela wanted to get a high body count. The acting was horrible. The killings were acted out very badly. Like when Ally got stuffed down that toilet I guess it was in the abandoned cabin. But when ...\n",
       "2      \"God, I never felt so insulted in my whole life than with this crap. There are so many ways to describe this piece of crap, that I think that if I said everything that came to mind, I would get banned by this site.<br /><br />How do I begin? Well, for one, it doesn't tak...\n",
       "3      \"Not being a fan of the Coen Brothers or George Clooney, anyone can see the skepticism I took into the theater. Once again, someone in Hollywood dares to create something different. This time it was those zanie (for a temporary lack of a better word) Coens doing \"\"their ...\n",
       "4      \"The movie Andaz Apna Apna in my books is the top 5 intelligent comedy movies ever made in Bollywood perhaps even Hollywood. <br /><br />When the movie released i was a 8 year old and I heard it was a flop but I never understood till now why was it a flop...but let me te...\n",
       "...                                                                                                                                                                                                                                                                                   ...\n",
       "14995  \"Family Guy has to be my all time favorite cartoon.It is definitely the funniest TV show ever made and is better than The Simpsons.I have never laughed so hard at a TV show in my life The things that make the show so funny is the plot,characters and themes that are dealt...\n",
       "14996  \"This was a marvelously funny comedy with a great cast. John Ritter and Katey Sagal were perfectly cast as the parents, and the kids were great too. Kaley Cuoco was a good choice to play Bridget, who was sort of a toned-down version of Kelly Bundy from Married with Child...\n",
       "14997  \"There is no plot. There are no central characters. There are no moving cameras or close-ups. In fact, this film does not follow any of the conventional storytelling techniques used by mainstream film. However, Roy Andersson's Du Levande is a remarkable piece of cinemati...\n",
       "14998  \"This show is awesome! I love all the actors! It has great story lines and characters. It is the perfect drama. James Caan and Josh Duhamel have great dialogue. They both can be really funny.I miss Vanessa Marcil on General Hospital, but she's great on here. James Lesure...\n",
       "14999  \"The fact that this movie has been entitled to the most successful movie in Switzerland's film history makes me shake my head! It's true, but pitiful at the same time. A flick about the Swiss army could be a good deal better.<br /><br />The story sounds interesting, at t...\n",
       "\n",
       "[15000 rows x 1 columns]"
      ]
     },
     "execution_count": 13,
     "metadata": {},
     "output_type": "execute_result"
    }
   ],
   "source": [
    "#test_df = pd.read_table('Data/Test_Data.txt', header = None)\n",
    "#test_df\n",
    "with open('Data/Test_Data.txt', encoding='utf-8') as f:\n",
    "    content = f.readlines()\n",
    "content = [x.strip() for x in content] \n",
    "\n",
    "test_df = pd.DataFrame([*zip(content)])\n",
    "test_df"
   ]
  },
  {
   "cell_type": "code",
   "execution_count": 14,
   "metadata": {},
   "outputs": [
    {
     "data": {
      "text/plain": [
       "0        [film, never, made, honestli, must, admit, saw, seriou, doubt, director, great, actress, though, lot, movie, holland, young, woman, took, main, part, tvperson, constant, smile, face, much, selfcritic, actor, play, main, part, recent, saw, bride, flight, although, film, b...\n",
       "1        [movie, bad, start, purpose, movie, angela, want, get, high, bodi, count, act, horrible, kill, act, badli, like, alli, got, stuf, toilet, guess, abandon, cabin, end, movie, come, molli, guy, cabin, see, alli, angela, must, gone, get, part, realli, got, black, girl, angel...\n",
       "2        [god, never, felt, insult, whole, life, crap, mani, way, describe, piece, crap, think, said, everyth, came, mind, would, get, ban, sitehow, begin, well, one, doesnt, take, knowledge, origin, seri, know, movie, slap, face, people, whove, seen, biggest, butcher, theme, son...\n",
       "3        [fan, coen, brother, george, clooney, anyone, see, skeptic, took, theater, someone, hollywood, dare, create, someth, differ, time, zanie, temporari, lack, better, word, coen, thing, one, great, work, literari, histori, wouldve, ever, thought, homer, mind, dont, know, fil...\n",
       "4        [movie, andaz, apna, apna, book, top, intellig, comedi, movie, ever, made, bollywood, perhap, even, hollywood, movie, releas, year, old, heard, flop, never, understood, till, flopbut, let, tell, one, thingthi, movie, would, money, sell, home, cassette, dvd, show, tv, mov...\n",
       "                                                                                                                                                ...                                                                                                                                        \n",
       "14995    [famili, guy, time, favorite, cartoonit, definit, funniest, tv, show, ever, made, better, simpsonsi, never, laugh, hard, tv, show, life, thing, make, show, funni, plotcharact, theme, dealt, showthere, theme, dealt, famili, guyi, seen, everi, episode, famili, guy, ever, m...\n",
       "14996    [marvel, funni, comedi, great, cast, john, ritter, katey, sagal, perfectli, cast, parent, kid, great, kaley, cuoco, good, choice, play, bridget, sort, toneddown, version, kelli, bundi, marri, children, write, performance, firstratesadli, john, ritter, die, seri, put, dam...\n",
       "14997    [plot, central, charact, move, camera, closeup, fact, film, follow, convent, storytel, technique, use, mainstream, film, howev, roy, andersson, du, levande, remarkable, piece, cinemat, storytel, touch, look, human, psychecompris, seri, vignette, roy, andersson, give, us,...\n",
       "14998    [show, awesome, love, actor, great, stori, line, charact, perfect, drama, jame, caan, josh, duhamel, great, dialogue, realli, funnyi, miss, vanessa, marcil, gener, hospit, she, great, jame, lesure, great, hilari, molli, sim, play, dimwit, well, write, awesomethey, keep, ...\n",
       "14999    [fact, movie, entitl, success, movie, switzerland, film, histori, make, shake, head, true, piti, time, flick, swiss, armi, could, good, deal, betterthe, stori, sound, interest, begin, antonio, carrera, michael, koch, get, forc, absolve, militari, train, armi, church, wed...\n",
       "Name: 0, Length: 15000, dtype: object"
      ]
     },
     "execution_count": 14,
     "metadata": {},
     "output_type": "execute_result"
    }
   ],
   "source": [
    "ps = PorterStemmer()\n",
    "wnl = WordNetLemmatizer()\n",
    "clean = re.compile('<.*?>')\n",
    "clean_reviews = test_df[0].str.replace(clean,'',regex=True)\n",
    "clean_reviews = clean_reviews.str.lower()\n",
    "clean_reviews = clean_reviews.apply(lambda elem: re.sub(r\"(@[A-Za-z0-9]+)|([^0-9A-Za-z \\t])|(\\w+:\\/\\/\\S+)|^rt|http.+?\", \"\", elem))\n",
    "clean_reviews = clean_reviews.apply(lambda elem: re.sub(r\"\\d+\", \"\", elem))\n",
    "stop = stopwords.words('english')\n",
    "clean_reviews = clean_reviews.apply(lambda elem: ' '.join([word for word in elem.split() if word not in (stop)]))\n",
    "clean_reviews = clean_reviews.apply(lambda elem: word_tokenize(elem))\n",
    "#this does some heavy lifting, probably not necessary for data cleaning but oh well..\n",
    "spell = SpellChecker()\n",
    "clean_reviews = clean_reviews.apply(lambda elem: [spell.correction(word) if spell.unknown(word) else word for word in elem])\n",
    "clean_reviews = clean_reviews.apply(lambda elem: [wnl.lemmatize(word) if wnl.lemmatize(word).endswith('e') else ps.stem(word) for word in elem])\n",
    "clean_reviews"
   ]
  },
  {
   "cell_type": "code",
   "execution_count": 15,
   "metadata": {},
   "outputs": [
    {
     "data": {
      "text/html": [
       "<div>\n",
       "<style scoped>\n",
       "    .dataframe tbody tr th:only-of-type {\n",
       "        vertical-align: middle;\n",
       "    }\n",
       "\n",
       "    .dataframe tbody tr th {\n",
       "        vertical-align: top;\n",
       "    }\n",
       "\n",
       "    .dataframe thead th {\n",
       "        text-align: right;\n",
       "    }\n",
       "</style>\n",
       "<table border=\"1\" class=\"dataframe\">\n",
       "  <thead>\n",
       "    <tr style=\"text-align: right;\">\n",
       "      <th></th>\n",
       "      <th>0</th>\n",
       "      <th>1</th>\n",
       "      <th>2</th>\n",
       "    </tr>\n",
       "  </thead>\n",
       "  <tbody>\n",
       "    <tr>\n",
       "      <th>0</th>\n",
       "      <td>\"This film should have never been made. Honestly, I must admit that before I saw it I had some serious doubts. The director is not a great actress, though she did a lot of movies in Holland, and the young woman who took the main part is a TV-personality with a constant s...</td>\n",
       "      <td>[film, never, made, honestli, must, admit, saw, seriou, doubt, director, great, actress, though, lot, movie, holland, young, woman, took, main, part, tvperson, constant, smile, face, much, selfcritic, actor, play, main, part, recent, saw, bride, flight, although, film, b...</td>\n",
       "      <td>-1</td>\n",
       "    </tr>\n",
       "    <tr>\n",
       "      <th>1</th>\n",
       "      <td>This movie was bad from the start. The only purpose of the movie was that Angela wanted to get a high body count. The acting was horrible. The killings were acted out very badly. Like when Ally got stuffed down that toilet I guess it was in the abandoned cabin. But when ...</td>\n",
       "      <td>[movie, bad, start, purpose, movie, angela, want, get, high, bodi, count, act, horrible, kill, act, badli, like, alli, got, stuf, toilet, guess, abandon, cabin, end, movie, come, molli, guy, cabin, see, alli, angela, must, gone, get, part, realli, got, black, girl, angel...</td>\n",
       "      <td>-1</td>\n",
       "    </tr>\n",
       "    <tr>\n",
       "      <th>2</th>\n",
       "      <td>\"God, I never felt so insulted in my whole life than with this crap. There are so many ways to describe this piece of crap, that I think that if I said everything that came to mind, I would get banned by this site.&lt;br /&gt;&lt;br /&gt;How do I begin? Well, for one, it doesn't tak...</td>\n",
       "      <td>[god, never, felt, insult, whole, life, crap, mani, way, describe, piece, crap, think, said, everyth, came, mind, would, get, ban, sitehow, begin, well, one, doesnt, take, knowledge, origin, seri, know, movie, slap, face, people, whove, seen, biggest, butcher, theme, son...</td>\n",
       "      <td>-1</td>\n",
       "    </tr>\n",
       "    <tr>\n",
       "      <th>3</th>\n",
       "      <td>\"Not being a fan of the Coen Brothers or George Clooney, anyone can see the skepticism I took into the theater. Once again, someone in Hollywood dares to create something different. This time it was those zanie (for a temporary lack of a better word) Coens doing \"\"their ...</td>\n",
       "      <td>[fan, coen, brother, george, clooney, anyone, see, skeptic, took, theater, someone, hollywood, dare, create, someth, differ, time, zanie, temporari, lack, better, word, coen, thing, one, great, work, literari, histori, wouldve, ever, thought, homer, mind, dont, know, fil...</td>\n",
       "      <td>1</td>\n",
       "    </tr>\n",
       "    <tr>\n",
       "      <th>4</th>\n",
       "      <td>\"The movie Andaz Apna Apna in my books is the top 5 intelligent comedy movies ever made in Bollywood perhaps even Hollywood. &lt;br /&gt;&lt;br /&gt;When the movie released i was a 8 year old and I heard it was a flop but I never understood till now why was it a flop...but let me te...</td>\n",
       "      <td>[movie, andaz, apna, apna, book, top, intellig, comedi, movie, ever, made, bollywood, perhap, even, hollywood, movie, releas, year, old, heard, flop, never, understood, till, flopbut, let, tell, one, thingthi, movie, would, money, sell, home, cassette, dvd, show, tv, mov...</td>\n",
       "      <td>-1</td>\n",
       "    </tr>\n",
       "    <tr>\n",
       "      <th>...</th>\n",
       "      <td>...</td>\n",
       "      <td>...</td>\n",
       "      <td>...</td>\n",
       "    </tr>\n",
       "    <tr>\n",
       "      <th>14995</th>\n",
       "      <td>\"Family Guy has to be my all time favorite cartoon.It is definitely the funniest TV show ever made and is better than The Simpsons.I have never laughed so hard at a TV show in my life The things that make the show so funny is the plot,characters and themes that are dealt...</td>\n",
       "      <td>[famili, guy, time, favorite, cartoonit, definit, funniest, tv, show, ever, made, better, simpsonsi, never, laugh, hard, tv, show, life, thing, make, show, funni, plotcharact, theme, dealt, showthere, theme, dealt, famili, guyi, seen, everi, episode, famili, guy, ever, m...</td>\n",
       "      <td>1</td>\n",
       "    </tr>\n",
       "    <tr>\n",
       "      <th>14996</th>\n",
       "      <td>\"This was a marvelously funny comedy with a great cast. John Ritter and Katey Sagal were perfectly cast as the parents, and the kids were great too. Kaley Cuoco was a good choice to play Bridget, who was sort of a toned-down version of Kelly Bundy from Married with Child...</td>\n",
       "      <td>[marvel, funni, comedi, great, cast, john, ritter, katey, sagal, perfectli, cast, parent, kid, great, kaley, cuoco, good, choice, play, bridget, sort, toneddown, version, kelli, bundi, marri, children, write, performance, firstratesadli, john, ritter, die, seri, put, dam...</td>\n",
       "      <td>1</td>\n",
       "    </tr>\n",
       "    <tr>\n",
       "      <th>14997</th>\n",
       "      <td>\"There is no plot. There are no central characters. There are no moving cameras or close-ups. In fact, this film does not follow any of the conventional storytelling techniques used by mainstream film. However, Roy Andersson's Du Levande is a remarkable piece of cinemati...</td>\n",
       "      <td>[plot, central, charact, move, camera, closeup, fact, film, follow, convent, storytel, technique, use, mainstream, film, howev, roy, andersson, du, levande, remarkable, piece, cinemat, storytel, touch, look, human, psychecompris, seri, vignette, roy, andersson, give, us,...</td>\n",
       "      <td>1</td>\n",
       "    </tr>\n",
       "    <tr>\n",
       "      <th>14998</th>\n",
       "      <td>\"This show is awesome! I love all the actors! It has great story lines and characters. It is the perfect drama. James Caan and Josh Duhamel have great dialogue. They both can be really funny.I miss Vanessa Marcil on General Hospital, but she's great on here. James Lesure...</td>\n",
       "      <td>[show, awesome, love, actor, great, stori, line, charact, perfect, drama, jame, caan, josh, duhamel, great, dialogue, realli, funnyi, miss, vanessa, marcil, gener, hospit, she, great, jame, lesure, great, hilari, molli, sim, play, dimwit, well, write, awesomethey, keep, ...</td>\n",
       "      <td>1</td>\n",
       "    </tr>\n",
       "    <tr>\n",
       "      <th>14999</th>\n",
       "      <td>\"The fact that this movie has been entitled to the most successful movie in Switzerland's film history makes me shake my head! It's true, but pitiful at the same time. A flick about the Swiss army could be a good deal better.&lt;br /&gt;&lt;br /&gt;The story sounds interesting, at t...</td>\n",
       "      <td>[fact, movie, entitl, success, movie, switzerland, film, histori, make, shake, head, true, piti, time, flick, swiss, armi, could, good, deal, betterthe, stori, sound, interest, begin, antonio, carrera, michael, koch, get, forc, absolve, militari, train, armi, church, wed...</td>\n",
       "      <td>-1</td>\n",
       "    </tr>\n",
       "  </tbody>\n",
       "</table>\n",
       "<p>15000 rows × 3 columns</p>\n",
       "</div>"
      ],
      "text/plain": [
       "                                                                                                                                                                                                                                                                                        0  \\\n",
       "0      \"This film should have never been made. Honestly, I must admit that before I saw it I had some serious doubts. The director is not a great actress, though she did a lot of movies in Holland, and the young woman who took the main part is a TV-personality with a constant s...   \n",
       "1      This movie was bad from the start. The only purpose of the movie was that Angela wanted to get a high body count. The acting was horrible. The killings were acted out very badly. Like when Ally got stuffed down that toilet I guess it was in the abandoned cabin. But when ...   \n",
       "2      \"God, I never felt so insulted in my whole life than with this crap. There are so many ways to describe this piece of crap, that I think that if I said everything that came to mind, I would get banned by this site.<br /><br />How do I begin? Well, for one, it doesn't tak...   \n",
       "3      \"Not being a fan of the Coen Brothers or George Clooney, anyone can see the skepticism I took into the theater. Once again, someone in Hollywood dares to create something different. This time it was those zanie (for a temporary lack of a better word) Coens doing \"\"their ...   \n",
       "4      \"The movie Andaz Apna Apna in my books is the top 5 intelligent comedy movies ever made in Bollywood perhaps even Hollywood. <br /><br />When the movie released i was a 8 year old and I heard it was a flop but I never understood till now why was it a flop...but let me te...   \n",
       "...                                                                                                                                                                                                                                                                                   ...   \n",
       "14995  \"Family Guy has to be my all time favorite cartoon.It is definitely the funniest TV show ever made and is better than The Simpsons.I have never laughed so hard at a TV show in my life The things that make the show so funny is the plot,characters and themes that are dealt...   \n",
       "14996  \"This was a marvelously funny comedy with a great cast. John Ritter and Katey Sagal were perfectly cast as the parents, and the kids were great too. Kaley Cuoco was a good choice to play Bridget, who was sort of a toned-down version of Kelly Bundy from Married with Child...   \n",
       "14997  \"There is no plot. There are no central characters. There are no moving cameras or close-ups. In fact, this film does not follow any of the conventional storytelling techniques used by mainstream film. However, Roy Andersson's Du Levande is a remarkable piece of cinemati...   \n",
       "14998  \"This show is awesome! I love all the actors! It has great story lines and characters. It is the perfect drama. James Caan and Josh Duhamel have great dialogue. They both can be really funny.I miss Vanessa Marcil on General Hospital, but she's great on here. James Lesure...   \n",
       "14999  \"The fact that this movie has been entitled to the most successful movie in Switzerland's film history makes me shake my head! It's true, but pitiful at the same time. A flick about the Swiss army could be a good deal better.<br /><br />The story sounds interesting, at t...   \n",
       "\n",
       "                                                                                                                                                                                                                                                                                        1  \\\n",
       "0      [film, never, made, honestli, must, admit, saw, seriou, doubt, director, great, actress, though, lot, movie, holland, young, woman, took, main, part, tvperson, constant, smile, face, much, selfcritic, actor, play, main, part, recent, saw, bride, flight, although, film, b...   \n",
       "1      [movie, bad, start, purpose, movie, angela, want, get, high, bodi, count, act, horrible, kill, act, badli, like, alli, got, stuf, toilet, guess, abandon, cabin, end, movie, come, molli, guy, cabin, see, alli, angela, must, gone, get, part, realli, got, black, girl, angel...   \n",
       "2      [god, never, felt, insult, whole, life, crap, mani, way, describe, piece, crap, think, said, everyth, came, mind, would, get, ban, sitehow, begin, well, one, doesnt, take, knowledge, origin, seri, know, movie, slap, face, people, whove, seen, biggest, butcher, theme, son...   \n",
       "3      [fan, coen, brother, george, clooney, anyone, see, skeptic, took, theater, someone, hollywood, dare, create, someth, differ, time, zanie, temporari, lack, better, word, coen, thing, one, great, work, literari, histori, wouldve, ever, thought, homer, mind, dont, know, fil...   \n",
       "4      [movie, andaz, apna, apna, book, top, intellig, comedi, movie, ever, made, bollywood, perhap, even, hollywood, movie, releas, year, old, heard, flop, never, understood, till, flopbut, let, tell, one, thingthi, movie, would, money, sell, home, cassette, dvd, show, tv, mov...   \n",
       "...                                                                                                                                                                                                                                                                                   ...   \n",
       "14995  [famili, guy, time, favorite, cartoonit, definit, funniest, tv, show, ever, made, better, simpsonsi, never, laugh, hard, tv, show, life, thing, make, show, funni, plotcharact, theme, dealt, showthere, theme, dealt, famili, guyi, seen, everi, episode, famili, guy, ever, m...   \n",
       "14996  [marvel, funni, comedi, great, cast, john, ritter, katey, sagal, perfectli, cast, parent, kid, great, kaley, cuoco, good, choice, play, bridget, sort, toneddown, version, kelli, bundi, marri, children, write, performance, firstratesadli, john, ritter, die, seri, put, dam...   \n",
       "14997  [plot, central, charact, move, camera, closeup, fact, film, follow, convent, storytel, technique, use, mainstream, film, howev, roy, andersson, du, levande, remarkable, piece, cinemat, storytel, touch, look, human, psychecompris, seri, vignette, roy, andersson, give, us,...   \n",
       "14998  [show, awesome, love, actor, great, stori, line, charact, perfect, drama, jame, caan, josh, duhamel, great, dialogue, realli, funnyi, miss, vanessa, marcil, gener, hospit, she, great, jame, lesure, great, hilari, molli, sim, play, dimwit, well, write, awesomethey, keep, ...   \n",
       "14999  [fact, movie, entitl, success, movie, switzerland, film, histori, make, shake, head, true, piti, time, flick, swiss, armi, could, good, deal, betterthe, stori, sound, interest, begin, antonio, carrera, michael, koch, get, forc, absolve, militari, train, armi, church, wed...   \n",
       "\n",
       "       2  \n",
       "0     -1  \n",
       "1     -1  \n",
       "2     -1  \n",
       "3      1  \n",
       "4     -1  \n",
       "...   ..  \n",
       "14995  1  \n",
       "14996  1  \n",
       "14997  1  \n",
       "14998  1  \n",
       "14999 -1  \n",
       "\n",
       "[15000 rows x 3 columns]"
      ]
     },
     "execution_count": 15,
     "metadata": {},
     "output_type": "execute_result"
    }
   ],
   "source": [
    "test_df[1] = clean_reviews\n",
    "test_df[2] = model.predict(test_df[1])\n",
    "\n",
    "test_df"
   ]
  },
  {
   "cell_type": "code",
   "execution_count": 16,
   "metadata": {},
   "outputs": [],
   "source": [
    "#small sanity check\n",
    "#test_df.iloc[25:45] "
   ]
  },
  {
   "cell_type": "code",
   "execution_count": 17,
   "metadata": {},
   "outputs": [
    {
     "data": {
      "text/plain": [
       "0       -1\n",
       "1       -1\n",
       "2       -1\n",
       "3        1\n",
       "4       -1\n",
       "        ..\n",
       "14995    1\n",
       "14996    1\n",
       "14997    1\n",
       "14998    1\n",
       "14999   -1\n",
       "Name: 2, Length: 15000, dtype: int64"
      ]
     },
     "execution_count": 17,
     "metadata": {},
     "output_type": "execute_result"
    }
   ],
   "source": [
    "#np.savetxt(r'Data/Soutput.txt',test_df[2],fmt='%d')\n",
    "test_df[2]"
   ]
  },
  {
   "cell_type": "code",
   "execution_count": 18,
   "metadata": {},
   "outputs": [],
   "source": [
    "np.savetxt(r'Data/output.txt',test_df[2],fmt='%d')"
   ]
  },
  {
   "cell_type": "code",
   "execution_count": 19,
   "metadata": {},
   "outputs": [],
   "source": [
    "#test_df2 = pd.read_table('Data/Test_Data.txt', encoding='utf-8' ,header = None)\n",
    "#test_df2\n",
    "#with open('Data/Test_Data.txt', encoding='utf-8') as f:\n",
    "#    content = f.readlines()\n",
    "#content = [x.strip() for x in content] "
   ]
  },
  {
   "cell_type": "code",
   "execution_count": 20,
   "metadata": {},
   "outputs": [],
   "source": [
    "#len(content)"
   ]
  },
  {
   "cell_type": "code",
   "execution_count": 21,
   "metadata": {},
   "outputs": [],
   "source": [
    "#test_df2  = pd.DataFrame([*zip(content)])"
   ]
  },
  {
   "cell_type": "code",
   "execution_count": 22,
   "metadata": {},
   "outputs": [],
   "source": [
    "#test_df2"
   ]
  },
  {
   "cell_type": "code",
   "execution_count": null,
   "metadata": {},
   "outputs": [],
   "source": []
  }
 ],
 "metadata": {
  "kernelspec": {
   "display_name": "Python 3",
   "language": "python",
   "name": "python3"
  },
  "language_info": {
   "codemirror_mode": {
    "name": "ipython",
    "version": 3
   },
   "file_extension": ".py",
   "mimetype": "text/x-python",
   "name": "python",
   "nbconvert_exporter": "python",
   "pygments_lexer": "ipython3",
   "version": "3.7.6"
  }
 },
 "nbformat": 4,
 "nbformat_minor": 4
}
